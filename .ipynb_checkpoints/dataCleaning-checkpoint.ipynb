{
 "cells": [
  {
   "cell_type": "code",
   "execution_count": 3,
   "id": "227b03cb-014a-44cb-8715-ec9ea89e95b7",
   "metadata": {},
   "outputs": [],
   "source": [
    "#Import relevant librairies\n",
    "\n",
    "import pandas as pd\n",
    "import os\n",
    "import json\n",
    "import matplotlib.pyplot as plt\n",
    "import seaborn as sns"
   ]
  },
  {
   "cell_type": "markdown",
   "id": "41296b72-f892-420c-b67e-341f3f9c898a",
   "metadata": {
    "tags": []
   },
   "source": [
    "## Dataset 1 - Consumer Index"
   ]
  },
  {
   "cell_type": "markdown",
   "id": "be8901c2-0a80-4d31-b05a-671364e9be87",
   "metadata": {
    "jp-MarkdownHeadingCollapsed": true,
    "tags": []
   },
   "source": [
    "### Import dataset"
   ]
  },
  {
   "cell_type": "code",
   "execution_count": 2,
   "id": "10309cf3-69aa-4b48-8655-91e1c738fe94",
   "metadata": {},
   "outputs": [],
   "source": [
    "df1 = pd.read_csv('Data-Visualization-and-Dashboards-with-Tableau/Raw_data/consumer_index.csv')"
   ]
  },
  {
   "cell_type": "code",
   "execution_count": 3,
   "id": "7448bbd2-d83e-45cb-832e-70a2ca5cff18",
   "metadata": {},
   "outputs": [
    {
     "data": {
      "text/plain": [
       "(5073, 5)"
      ]
     },
     "execution_count": 3,
     "metadata": {},
     "output_type": "execute_result"
    }
   ],
   "source": [
    "df1.shape"
   ]
  },
  {
   "cell_type": "code",
   "execution_count": 4,
   "id": "df152992-5085-43a4-b403-8894ff98af33",
   "metadata": {},
   "outputs": [
    {
     "data": {
      "text/html": [
       "<div>\n",
       "<style scoped>\n",
       "    .dataframe tbody tr th:only-of-type {\n",
       "        vertical-align: middle;\n",
       "    }\n",
       "\n",
       "    .dataframe tbody tr th {\n",
       "        vertical-align: top;\n",
       "    }\n",
       "\n",
       "    .dataframe thead th {\n",
       "        text-align: right;\n",
       "    }\n",
       "</style>\n",
       "<table border=\"1\" class=\"dataframe\">\n",
       "  <thead>\n",
       "    <tr style=\"text-align: right;\">\n",
       "      <th></th>\n",
       "      <th>date</th>\n",
       "      <th>region</th>\n",
       "      <th>measures</th>\n",
       "      <th>unit</th>\n",
       "      <th>index_value</th>\n",
       "    </tr>\n",
       "  </thead>\n",
       "  <tbody>\n",
       "    <tr>\n",
       "      <th>0</th>\n",
       "      <td>1979-11</td>\n",
       "      <td>Canada</td>\n",
       "      <td>Consumer Price Index (CPI) inversely weighted ...</td>\n",
       "      <td>Percent</td>\n",
       "      <td>9.3</td>\n",
       "    </tr>\n",
       "    <tr>\n",
       "      <th>1</th>\n",
       "      <td>1979-12</td>\n",
       "      <td>Canada</td>\n",
       "      <td>Consumer Price Index (CPI) inversely weighted ...</td>\n",
       "      <td>Percent</td>\n",
       "      <td>9.4</td>\n",
       "    </tr>\n",
       "    <tr>\n",
       "      <th>2</th>\n",
       "      <td>1980-01</td>\n",
       "      <td>Canada</td>\n",
       "      <td>Consumer Price Index (CPI) inversely weighted ...</td>\n",
       "      <td>Percent</td>\n",
       "      <td>9.3</td>\n",
       "    </tr>\n",
       "    <tr>\n",
       "      <th>3</th>\n",
       "      <td>1980-02</td>\n",
       "      <td>Canada</td>\n",
       "      <td>Consumer Price Index (CPI) inversely weighted ...</td>\n",
       "      <td>Percent</td>\n",
       "      <td>9.4</td>\n",
       "    </tr>\n",
       "    <tr>\n",
       "      <th>4</th>\n",
       "      <td>1980-03</td>\n",
       "      <td>Canada</td>\n",
       "      <td>Consumer Price Index (CPI) inversely weighted ...</td>\n",
       "      <td>Percent</td>\n",
       "      <td>9.3</td>\n",
       "    </tr>\n",
       "  </tbody>\n",
       "</table>\n",
       "</div>"
      ],
      "text/plain": [
       "      date  region                                           measures  \\\n",
       "0  1979-11  Canada  Consumer Price Index (CPI) inversely weighted ...   \n",
       "1  1979-12  Canada  Consumer Price Index (CPI) inversely weighted ...   \n",
       "2  1980-01  Canada  Consumer Price Index (CPI) inversely weighted ...   \n",
       "3  1980-02  Canada  Consumer Price Index (CPI) inversely weighted ...   \n",
       "4  1980-03  Canada  Consumer Price Index (CPI) inversely weighted ...   \n",
       "\n",
       "      unit  index_value  \n",
       "0  Percent          9.3  \n",
       "1  Percent          9.4  \n",
       "2  Percent          9.3  \n",
       "3  Percent          9.4  \n",
       "4  Percent          9.3  "
      ]
     },
     "execution_count": 4,
     "metadata": {},
     "output_type": "execute_result"
    }
   ],
   "source": [
    "df1.head()"
   ]
  },
  {
   "cell_type": "markdown",
   "id": "84ceafa3-bf7d-4a32-b6c5-22aca9982ae5",
   "metadata": {
    "tags": []
   },
   "source": [
    "### Cleaning - Formatting Issues"
   ]
  },
  {
   "cell_type": "markdown",
   "id": "490770e9-302a-412c-bcbb-2c573cb33c37",
   "metadata": {},
   "source": [
    "Look for unique values for each row and inspect manually"
   ]
  },
  {
   "cell_type": "code",
   "execution_count": 8,
   "id": "a44e6972-eda3-444c-af6e-c02e45bef890",
   "metadata": {
    "collapsed": true,
    "jupyter": {
     "outputs_hidden": true
    },
    "tags": []
   },
   "outputs": [
    {
     "data": {
      "text/plain": [
       "array(['1979-11', '1979-12', '1980-01', '1980-02', '1980-03', '1980-04',\n",
       "       '1980-05', '1980-06', '1980-07', '1980-08', '1980-09', '1980-10',\n",
       "       '1980-11', '1980-12', '1981-01', '1981-02', '1981-03', '1981-04',\n",
       "       '1981-05', '1981-06', '1981-07', '1981-08', '1981-09', '1981-10',\n",
       "       '1981-11', '1981-12', '1982-01', '1982-02', '1982-03', '1982-04',\n",
       "       '1982-05', '1982-06', '1982-07', '1982-08', '1982-09', '1982-10',\n",
       "       '1982-11', '1982-12', '1983-01', '1983-02', '1983-03', '1983-04',\n",
       "       '1983-05', '1983-06', '1983-07', '1983-08', '1983-09', '1983-10',\n",
       "       '1983-11', '1983-12', '1984-01', '1984-02', '1984-03', '1984-04',\n",
       "       '1984-05', '1984-06', '1984-07', '1984-08', '1984-09', '1984-10',\n",
       "       '1984-11', '1984-12', '1985-01', '1985-02', '1985-03', '1985-04',\n",
       "       '1985-05', '1985-06', '1985-07', '1985-08', '1985-09', '1985-10',\n",
       "       '1985-11', '1985-12', '1986-01', '1986-02', '1986-03', '1986-04',\n",
       "       '1986-05', '1986-06', '1986-07', '1986-08', '1986-09', '1986-10',\n",
       "       '1986-11', '1986-12', '1987-01', '1987-02', '1987-03', '1987-04',\n",
       "       '1987-05', '1987-06', '1987-07', '1987-08', '1987-09', '1987-10',\n",
       "       '1987-11', '1987-12', '1988-01', '1988-02', '1988-03', '1988-04',\n",
       "       '1988-05', '1988-06', '1988-07', '1988-08', '1988-09', '1988-10',\n",
       "       '1988-11', '1988-12', '1989-01', '1989-02', '1989-03', '1989-04',\n",
       "       '1989-05', '1989-06', '1989-07', '1989-08', '1989-09', '1989-10',\n",
       "       '1989-11', '1989-12', '1990-01', '1990-02', '1990-03', '1990-04',\n",
       "       '1990-05', '1990-06', '1990-07', '1990-08', '1990-09', '1990-10',\n",
       "       '1990-11', '1990-12', '1991-01', '1991-02', '1991-03', '1991-04',\n",
       "       '1991-05', '1991-06', '1991-07', '1991-08', '1991-09', '1991-10',\n",
       "       '1991-11', '1991-12', '1992-01', '1992-02', '1992-03', '1992-04',\n",
       "       '1992-05', '1992-06', '1992-07', '1992-08', '1992-09', '1992-10',\n",
       "       '1992-11', '1992-12', '1993-01', '1993-02', '1993-03', '1993-04',\n",
       "       '1993-05', '1993-06', '1993-07', '1993-08', '1993-09', '1993-10',\n",
       "       '1993-11', '1993-12', '1994-01', '1994-02', '1994-03', '1994-04',\n",
       "       '1994-05', '1994-06', '1994-07', '1994-08', '1994-09', '1994-10',\n",
       "       '1994-11', '1994-12', '1995-01', '1995-02', '1995-03', '1995-04',\n",
       "       '1995-05', '1995-06', '1995-07', '1995-08', '1995-09', '1995-10',\n",
       "       '1995-11', '1995-12', '1996-01', '1996-02', '1996-03', '1996-04',\n",
       "       '1996-05', '1996-06', '1996-07', '1996-08', '1996-09', '1996-10',\n",
       "       '1996-11', '1996-12', '1997-01', '1997-02', '1997-03', '1997-04',\n",
       "       '1997-05', '1997-06', '1997-07', '1997-08', '1997-09', '1997-10',\n",
       "       '1997-11', '1997-12', '1998-01', '1998-02', '1998-03', '1998-04',\n",
       "       '1998-05', '1998-06', '1998-07', '1998-08', '1998-09', '1998-10',\n",
       "       '1998-11', '1998-12', '1999-01', '1999-02', '1999-03', '1999-04',\n",
       "       '1999-05', '1999-06', '1999-07', '1999-08', '1999-09', '1999-10',\n",
       "       '1999-11', '1999-12', '2000-01', '2000-02', '2000-03', '2000-04',\n",
       "       '2000-05', '2000-06', '2000-07', '2000-08', '2000-09', '2000-10',\n",
       "       '2000-11', '2000-12', '2001-01', '2001-02', '2001-03', '2001-04',\n",
       "       '2001-05', '2001-06', '2001-07', '2001-08', '2001-09', '2001-10',\n",
       "       '2001-11', '2001-12', '2002-01', '2002-02', '2002-03', '2002-04',\n",
       "       '2002-05', '2002-06', '2002-07', '2002-08', '2002-09', '2002-10',\n",
       "       '2002-11', '2002-12', '2003-01', '2003-02', '2003-03', '2003-04',\n",
       "       '2003-05', '2003-06', '2003-07', '2003-08', '2003-09', '2003-10',\n",
       "       '2003-11', '2003-12', '2004-01', '2004-02', '2004-03', '2004-04',\n",
       "       '2004-05', '2004-06', '2004-07', '2004-08', '2004-09', '2004-10',\n",
       "       '2004-11', '2004-12', '2005-01', '2005-02', '2005-03', '2005-04',\n",
       "       '2005-05', '2005-06', '2005-07', '2005-08', '2005-09', '2005-10',\n",
       "       '2005-11', '2005-12', '2006-01', '2006-02', '2006-03', '2006-04',\n",
       "       '2006-05', '2006-06', '2006-07', '2006-08', '2006-09', '2006-10',\n",
       "       '2006-11', '2006-12', '2007-01', '2007-02', '2007-03', '2007-04',\n",
       "       '2007-05', '2007-06', '2007-07', '2007-08', '2007-09', '2007-10',\n",
       "       '2007-11', '2007-12', '2008-01', '2008-02', '2008-03', '2008-04',\n",
       "       '2008-05', '2008-06', '2008-07', '2008-08', '2008-09', '2008-10',\n",
       "       '2008-11', '2008-12', '2009-01', '2009-02', '2009-03', '2009-04',\n",
       "       '2009-05', '2009-06', '2009-07', '2009-08', '2009-09', '2009-10',\n",
       "       '2009-11', '2009-12', '2010-01', '2010-02', '2010-03', '2010-04',\n",
       "       '2010-05', '2010-06', '2010-07', '2010-08', '2010-09', '2010-10',\n",
       "       '2010-11', '2010-12', '2011-01', '2011-02', '2011-03', '2011-04',\n",
       "       '2011-05', '2011-06', '2011-07', '2011-08', '2011-09', '2011-10',\n",
       "       '2011-11', '2011-12', '2012-01', '2012-02', '2012-03', '2012-04',\n",
       "       '2012-05', '2012-06', '2012-07', '2012-08', '2012-09', '2012-10',\n",
       "       '2012-11', '2012-12', '2013-01', '2013-02', '2013-03', '2013-04',\n",
       "       '2013-05', '2013-06', '2013-07', '2013-08', '2013-09', '2013-10',\n",
       "       '2013-11', '2013-12', '2014-01', '2014-02', '2014-03', '2014-04',\n",
       "       '2014-05', '2014-06', '2014-07', '2014-08', '2014-09', '2014-10',\n",
       "       '2014-11', '2014-12', '2015-01', '2015-02', '2015-03', '2015-04',\n",
       "       '2015-05', '2015-06', '2015-07', '2015-08', '2015-09', '2015-10',\n",
       "       '2015-11', '2015-12', '2016-01', '2016-02', '2016-03', '2016-04',\n",
       "       '2016-05', '2016-06', '2016-07', '2016-08', '2016-09', '2016-10',\n",
       "       '2016-11', '2016-12', '2017-01', '2017-02', '2017-03', '2017-04',\n",
       "       '2017-05', '2017-06', '2017-07', '2017-08', '2017-09', '2017-10',\n",
       "       '2017-11', '2017-12', '2018-01', '2018-02', '2018-03', '2018-04',\n",
       "       '2018-05', '2018-06', '2018-07', '2018-08', '2018-09', '2018-10',\n",
       "       '2018-11', '2018-12', '2019-01', '2019-02', '2019-03', '2019-04',\n",
       "       '2019-05', '2019-06', '2019-07', '2019-08', '2019-09', '2019-10',\n",
       "       '2019-11', '2019-12', '2020-01', '2020-02', '2020-03', '2020-04',\n",
       "       '2020-05', '2020-06', '2020-07', '2020-08', '2020-09'],\n",
       "      dtype=object)"
      ]
     },
     "execution_count": 8,
     "metadata": {},
     "output_type": "execute_result"
    }
   ],
   "source": [
    "df1['date'].unique()"
   ]
  },
  {
   "cell_type": "code",
   "execution_count": 9,
   "id": "3676834a-575e-4865-a1a6-10379d03df42",
   "metadata": {
    "collapsed": true,
    "jupyter": {
     "outputs_hidden": true
    },
    "tags": []
   },
   "outputs": [
    {
     "data": {
      "text/plain": [
       "array(['Canada'], dtype=object)"
      ]
     },
     "execution_count": 9,
     "metadata": {},
     "output_type": "execute_result"
    }
   ],
   "source": [
    "df1['region'].unique()"
   ]
  },
  {
   "cell_type": "code",
   "execution_count": 10,
   "id": "839a0b3b-5f69-4804-b1f7-c9f9f7185cf6",
   "metadata": {
    "collapsed": true,
    "jupyter": {
     "outputs_hidden": true
    },
    "tags": []
   },
   "outputs": [
    {
     "data": {
      "text/plain": [
       "array(['Consumer Price Index (CPI) inversely weighted by volatility and is adjusted to exclude the effect of changes in indirect taxes (CPIW) (year-over-year percent change)',\n",
       "       'Consumer Price Index (CPI) excluding food, energy and the effect of indirect taxes',\n",
       "       'Consumer Price Index (CPI) excluding the effect of indirect taxes',\n",
       "       'Consumer Price Index (CPI) excluding the effect of indirect taxes, seasonally adjusted',\n",
       "       'Consumer Price Index (CPI) excluding food, energy and the effect of indirect taxes, seasonally adjusted',\n",
       "       'Consumer Price Index (CPI) excluding 8 of the most volatile components and indirect taxes (CPIX)',\n",
       "       'Contribution of indirect taxes to monthly growth rate of the Consumer Price Index (CPI)',\n",
       "       'Contribution of indirect taxes to monthly growth rate of the Consumer Price Index (CPI) excluding food and energy',\n",
       "       'Contribution of indirect taxes to annual growth rate of the Consumer Price Index (CPI)',\n",
       "       'Contribution of indirect taxes to annual growth rate of the Consumer Price Index (CPI) excluding food and energy'],\n",
       "      dtype=object)"
      ]
     },
     "execution_count": 10,
     "metadata": {},
     "output_type": "execute_result"
    }
   ],
   "source": [
    "df1['measures'].unique()"
   ]
  },
  {
   "cell_type": "code",
   "execution_count": 12,
   "id": "931f0b84-0f12-4200-805f-f82fdb951d96",
   "metadata": {
    "collapsed": true,
    "jupyter": {
     "outputs_hidden": true
    },
    "tags": []
   },
   "outputs": [
    {
     "data": {
      "text/plain": [
       "array(['Percent', 'Index, 2002=100', 'Index, 1992=100', 'Index, 1986=100'],\n",
       "      dtype=object)"
      ]
     },
     "execution_count": 12,
     "metadata": {},
     "output_type": "execute_result"
    }
   ],
   "source": [
    "df1['unit'].unique()"
   ]
  },
  {
   "cell_type": "code",
   "execution_count": 15,
   "id": "62e2d4b8-b283-48ca-b251-84c22cbb35a8",
   "metadata": {
    "collapsed": true,
    "jupyter": {
     "outputs_hidden": true
    },
    "tags": []
   },
   "outputs": [
    {
     "data": {
      "text/plain": [
       "array([ 9.300e+00,  9.400e+00,  9.100e+00,  9.500e+00,  9.700e+00,\n",
       "        9.800e+00,  1.020e+01,  1.040e+01,  1.050e+01,  1.010e+01,\n",
       "        1.030e+01,  9.900e+00,  1.000e+01,  9.200e+00,  9.000e+00,\n",
       "        8.300e+00,  7.800e+00,  7.300e+00,  6.900e+00,  6.100e+00,\n",
       "        5.500e+00,  5.200e+00,  4.900e+00,  4.700e+00,  4.200e+00,\n",
       "        4.300e+00,  6.210e+01,  4.600e+00,  6.330e+01,  7.550e+01,\n",
       "        7.340e+01,  7.570e+01,  7.360e+01,  9.090e+01,  9.200e+01,\n",
       "        9.130e+01,  9.240e+01,  9.150e+01,  6.230e+01,  4.500e+00,\n",
       "        6.360e+01,  7.590e+01,  7.600e+01,  7.370e+01,  9.250e+01,\n",
       "        9.160e+01,  9.270e+01,  9.170e+01,  0.000e+00,  6.270e+01,\n",
       "        4.400e+00,  6.370e+01,  7.400e+01,  7.390e+01,  9.180e+01,\n",
       "        9.280e+01,  9.190e+01,  6.280e+01,  6.390e+01,  7.630e+01,\n",
       "        7.420e+01,  7.620e+01,  7.410e+01,  9.210e+01,  9.300e+01,\n",
       "        9.220e+01,  6.300e+01,  7.440e+01,  7.450e+01,  9.230e+01,\n",
       "        9.310e+01,  9.260e+01,  6.310e+01,  4.100e+00,  6.430e+01,\n",
       "        7.670e+01,  7.660e+01,  7.460e+01,  9.350e+01,  6.340e+01,\n",
       "        4.000e+00,  6.450e+01,  7.710e+01,  7.480e+01,  7.700e+01,\n",
       "        9.400e+01,  9.390e+01,  6.350e+01,  3.700e+00,  7.500e+01,\n",
       "        9.330e+01,  6.460e+01,  7.720e+01,  7.520e+01,  9.320e+01,\n",
       "        9.410e+01,  9.360e+01,  9.420e+01,  6.380e+01,  3.500e+00,\n",
       "        6.470e+01,  7.530e+01,  7.490e+01,  9.340e+01,  2.000e-01,\n",
       "        6.400e+01,  3.800e+00,  6.500e+01,  7.760e+01,  7.560e+01,\n",
       "        9.480e+01,  9.470e+01,  9.370e+01,  7.790e+01,  9.500e+01,\n",
       "        3.900e+00,  6.540e+01,  7.810e+01,  7.830e+01,  7.580e+01,\n",
       "        9.520e+01,  9.550e+01,  9.430e+01,  3.000e-01,  6.440e+01,\n",
       "        6.580e+01,  7.850e+01,  7.860e+01,  7.610e+01,  9.460e+01,\n",
       "        9.580e+01,  3.600e+00,  6.590e+01,  7.870e+01,  7.640e+01,\n",
       "        9.600e+01,  9.490e+01,  6.480e+01,  6.620e+01,  7.900e+01,\n",
       "        7.650e+01,  9.640e+01,  6.640e+01,  7.920e+01,  7.680e+01,\n",
       "        7.910e+01,  9.650e+01,  9.560e+01,  4.000e-01,  1.000e-01,\n",
       "        6.510e+01,  6.650e+01,  7.940e+01,  7.930e+01,  9.680e+01,\n",
       "        9.570e+01,  6.000e-01,  9.000e-01,  5.000e-01,  6.530e+01,\n",
       "        6.680e+01,  7.970e+01,  7.950e+01,  9.710e+01,  9.690e+01,\n",
       "        9.610e+01,  6.560e+01,  7.750e+01,  7.960e+01,  9.720e+01,\n",
       "        7.770e+01,  9.670e+01,  9.730e+01,  9.660e+01,  8.000e-01,\n",
       "        6.600e+01,  6.700e+01,  7.990e+01,  7.980e+01,  7.780e+01,\n",
       "        9.750e+01,  9.700e+01,  9.740e+01,  7.000e-01,  6.720e+01,\n",
       "        8.030e+01,  8.020e+01,  9.790e+01,  6.750e+01,  8.060e+01,\n",
       "        7.840e+01,  8.080e+01,  9.830e+01,  9.760e+01,  9.860e+01,\n",
       "        6.630e+01,  6.770e+01,  8.090e+01,  8.100e+01,  9.870e+01,\n",
       "        9.880e+01,  9.770e+01,  6.800e+01,  8.110e+01,  7.880e+01,\n",
       "        7.890e+01,  9.800e+01,  9.890e+01,  9.900e+01,  9.820e+01,\n",
       "        1.000e+00,        nan,  8.120e+01,  9.840e+01,  1.100e+00,\n",
       "        1.400e+00,  6.730e+01,  3.400e+00,  6.790e+01,  1.300e+00,\n",
       "        1.500e+00,  6.780e+01,  6.830e+01,  8.150e+01,  8.010e+01,\n",
       "        8.140e+01,  9.940e+01,  9.960e+01,  9.920e+01,  1.200e+00,\n",
       "        6.840e+01,  8.160e+01,  9.950e+01,  9.980e+01,  6.890e+01,\n",
       "        8.220e+01,  8.210e+01,  1.001e+02,  1.003e+02,  1.005e+02,\n",
       "        6.880e+01,  6.900e+01,  8.240e+01,  8.230e+01,  1.006e+02,\n",
       "        1.009e+02,  1.004e+02,  1.008e+02,  8.250e+01,  1.012e+02,\n",
       "        6.910e+01,  6.950e+01,  8.290e+01,  8.280e+01,  1.018e+02,\n",
       "        1.011e+02,  1.015e+02,  1.010e+02,  1.013e+02,  6.940e+01,\n",
       "        6.980e+01,  8.330e+01,  8.200e+01,  8.180e+01,  1.022e+02,\n",
       "        1.016e+02,  1.020e+02,  6.960e+01,  6.990e+01,  8.340e+01,\n",
       "        8.360e+01,  1.025e+02,  1.023e+02,  7.000e+01,  8.350e+01,\n",
       "        8.370e+01,  1.026e+02,  1.019e+02,  1.021e+02,  1.024e+02,\n",
       "        7.030e+01,  8.390e+01,  1.029e+02,  7.010e+01,  7.050e+01,\n",
       "        8.420e+01,  8.430e+01,  8.270e+01,  1.032e+02,  1.027e+02,\n",
       "        1.028e+02,  7.040e+01,  7.090e+01,  8.460e+01,  8.310e+01,\n",
       "        1.037e+02,  1.031e+02,  1.034e+02,  7.060e+01,  7.130e+01,\n",
       "        8.510e+01,  8.480e+01,  1.042e+02,  1.038e+02,  1.036e+02,\n",
       "        7.070e+01,  7.150e+01,  8.530e+01,  1.040e+02,  1.039e+02,\n",
       "        7.190e+01,  8.570e+01,  8.580e+01,  1.046e+02,  1.048e+02,\n",
       "        7.200e+01,  8.450e+01,  1.051e+02,  1.047e+02,  7.170e+01,\n",
       "        8.600e+01,  1.053e+02,  1.052e+02,  1.049e+02,  7.220e+01,\n",
       "        8.620e+01,  8.500e+01,  1.061e+02,  1.057e+02,  1.055e+02,\n",
       "        7.230e+01,  7.250e+01,  8.650e+01,  8.540e+01,  8.660e+01,\n",
       "        8.520e+01,  1.064e+02,  1.062e+02,  1.056e+02,  1.060e+02,\n",
       "        7.260e+01,  8.680e+01,  8.550e+01,  1.063e+02,  1.059e+02,\n",
       "        8.670e+01,  1.065e+02,  1.058e+02,  7.280e+01,  8.690e+01,\n",
       "        1.071e+02,  1.066e+02,  7.310e+01,  7.320e+01,  8.730e+01,\n",
       "        8.640e+01,  8.630e+01,  1.076e+02,  1.074e+02,  7.330e+01,\n",
       "        8.740e+01,  8.750e+01,  1.079e+02,  1.067e+02,  7.350e+01,\n",
       "        8.770e+01,  8.760e+01,  1.083e+02,  1.070e+02,  1.068e+02,\n",
       "        8.790e+01,  1.085e+02,  1.078e+02,  8.840e+01,  8.820e+01,\n",
       "        8.720e+01,  1.089e+02,  1.077e+02,  8.860e+01,  8.850e+01,\n",
       "        1.094e+02,  1.080e+02,  1.090e+02,  7.430e+01,  8.870e+01,\n",
       "        8.780e+01,  1.098e+02,  1.081e+02,  1.092e+02,  1.082e+02,\n",
       "        7.470e+01,  8.910e+01,  8.890e+01,  1.105e+02,  1.086e+02,\n",
       "        1.099e+02,  1.097e+02,  8.930e+01,  8.880e+01,  1.110e+02,\n",
       "        1.106e+02,  7.540e+01,  8.900e+01,  8.960e+01,  1.107e+02,\n",
       "        1.109e+02,  8.980e+01,  8.920e+01,  8.990e+01,  8.950e+01,\n",
       "        1.114e+02,  1.095e+02,  1.096e+02,  1.113e+02,  9.030e+01,\n",
       "        9.050e+01,  1.120e+02,  1.102e+02,  1.118e+02,  1.103e+02,\n",
       "        1.119e+02,  9.080e+01,  1.126e+02,  1.108e+02,  1.125e+02,\n",
       "        1.124e+02,  9.100e+01,  9.070e+01,  1.128e+02,  1.111e+02,\n",
       "        1.127e+02,  1.129e+02,  1.132e+02,  1.117e+02,  1.131e+02,\n",
       "        7.690e+01,  9.120e+01,  1.133e+02,  1.135e+02,  4.800e+00,\n",
       "        7.740e+01,  1.138e+02,  1.140e+02,  1.123e+02,  1.141e+02,\n",
       "        1.143e+02,  1.142e+02,  7.800e+01,  1.146e+02,  1.130e+02,\n",
       "        1.147e+02,  9.290e+01,  1.150e+02,  1.134e+02,  1.151e+02,\n",
       "        1.153e+02,  1.137e+02,  1.157e+02,  1.154e+02,  1.136e+02,\n",
       "        1.158e+02,  1.159e+02,  1.145e+02,  1.160e+02,  1.163e+02,\n",
       "        9.450e+01,  9.380e+01,  1.162e+02,  1.152e+02,  1.166e+02,\n",
       "        1.167e+02,  1.165e+02,  1.156e+02,  1.170e+02,  1.169e+02,\n",
       "        1.155e+02,  1.172e+02,  1.173e+02,  8.000e+01,  9.510e+01,\n",
       "        9.440e+01,  1.174e+02,  1.175e+02,  9.540e+01,  1.164e+02,\n",
       "        1.176e+02,  1.178e+02,  8.050e+01,  9.590e+01,  1.177e+02,\n",
       "        1.182e+02,  8.040e+01,  1.179e+02,  1.171e+02,  1.186e+02,\n",
       "        9.620e+01,  1.183e+02,  1.190e+02,  1.192e+02,  8.130e+01,\n",
       "        9.630e+01,  1.184e+02,  1.197e+02,  1.185e+02,  8.190e+01,\n",
       "        1.193e+02,  1.191e+02,  1.202e+02,  1.199e+02,  9.780e+01,\n",
       "        1.201e+02,  1.203e+02,  8.260e+01,  1.198e+02,  1.205e+02,\n",
       "        1.213e+02,  1.214e+02,  1.600e+00,  1.204e+02,  1.218e+02,\n",
       "        1.217e+02,  9.810e+01,  1.220e+02,  1.219e+02,  2.200e+00,\n",
       "        8.300e+01,  1.222e+02,  2.300e+00,  1.221e+02,  2.400e+00,\n",
       "        8.320e+01,  9.910e+01,  1.206e+02,  1.210e+02,  1.209e+02,\n",
       "        1.224e+02,  9.930e+01,  1.207e+02,  1.211e+02,  1.223e+02,\n",
       "        1.208e+02,  1.212e+02,  1.228e+02,  1.230e+02,  2.500e+00,\n",
       "        8.380e+01,  2.900e+00,  1.231e+02,  8.410e+01,  1.235e+02,\n",
       "        1.234e+02,  2.600e+00,  1.215e+02,  1.900e+00,  1.232e+02,\n",
       "        1.233e+02,  8.400e+01,  1.800e+00,  1.237e+02,  8.440e+01,\n",
       "        9.970e+01,  1.225e+02,  1.241e+02,  1.240e+02,  9.990e+01,\n",
       "        1.227e+02,  1.216e+02,  1.242e+02,  1.700e+00,  1.000e+02,\n",
       "        1.229e+02,  1.243e+02,  8.490e+01,  1.002e+02,  1.244e+02,\n",
       "        8.470e+01,  1.245e+02,  1.246e+02,  1.247e+02,  1.236e+02,\n",
       "        1.248e+02,  1.249e+02,  1.254e+02,  1.252e+02,  1.007e+02,\n",
       "        1.253e+02,  8.560e+01,  1.257e+02,  8.590e+01,  1.014e+02,\n",
       "        1.250e+02,  1.261e+02,  1.259e+02,  1.263e+02,  1.262e+02,\n",
       "        8.610e+01,  1.017e+02,  1.238e+02,  1.265e+02,  1.267e+02,\n",
       "        1.269e+02,  1.270e+02,  1.272e+02,  8.710e+01,  1.268e+02,\n",
       "        1.277e+02,  1.275e+02,  1.276e+02,  1.284e+02,  1.251e+02,\n",
       "        1.282e+02, -1.100e+00, -1.500e+00, -1.300e+00, -1.700e+00,\n",
       "        1.283e+02, -1.200e+00, -1.600e+00,  1.273e+02,  1.280e+02,\n",
       "       -1.000e-01,  1.030e+02,  1.033e+02,  1.274e+02,  1.255e+02,\n",
       "        1.285e+02, -1.400e+00, -1.800e+00,  1.286e+02,  1.287e+02,\n",
       "        1.260e+02,  1.288e+02,  1.035e+02,  1.290e+02,  1.293e+02,\n",
       "        1.289e+02,  8.830e+01,  8.810e+01,  8.700e+01,  1.296e+02,\n",
       "        1.264e+02,  1.294e+02,  1.045e+02,  1.044e+02,  1.299e+02,\n",
       "        1.043e+02,  1.302e+02,  1.271e+02,  1.301e+02, -1.900e+00,\n",
       "        1.300e+02,  1.278e+02,  1.307e+02,  1.303e+02,  1.279e+02,\n",
       "        1.310e+02,  2.000e+00,  1.054e+02,  1.311e+02,  8.940e+01,\n",
       "        1.304e+02,  1.314e+02,  1.312e+02,  8.970e+01,  2.100e+00,\n",
       "        1.308e+02,  1.319e+02,  1.316e+02,  1.321e+02,  1.318e+02,\n",
       "        9.010e+01,  9.000e+01,  1.323e+02,  1.315e+02,  1.327e+02,\n",
       "        1.313e+02,  1.322e+02,  9.020e+01,  1.317e+02,  1.320e+02,\n",
       "        1.292e+02,  1.324e+02,  9.040e+01,  1.069e+02,  1.297e+02,\n",
       "        1.330e+02,  9.060e+01,  1.331e+02,  1.328e+02,  1.072e+02,\n",
       "        1.326e+02,  1.305e+02,  1.333e+02,  1.075e+02,  1.329e+02,\n",
       "        1.337e+02,  1.334e+02,  9.110e+01,  1.332e+02,  1.338e+02,\n",
       "        1.335e+02,  1.340e+02,  1.309e+02,  1.343e+02,  1.346e+02,\n",
       "        1.344e+02,  1.341e+02,  1.345e+02,  1.084e+02,  1.347e+02,\n",
       "        1.088e+02,  1.087e+02,  1.350e+02,  1.353e+02,  1.349e+02,\n",
       "        1.355e+02,  1.351e+02,  1.354e+02,  1.093e+02,  1.357e+02,\n",
       "        1.358e+02,  1.091e+02,  1.356e+02,  1.359e+02,  1.360e+02,\n",
       "        1.363e+02,  1.362e+02,  1.325e+02,  9.140e+01,  1.100e+02,\n",
       "        1.101e+02,  1.104e+02,  1.112e+02,  1.116e+02,  1.121e+02,\n",
       "        9.530e+01,  1.139e+02,  1.148e+02,  1.144e+02,  1.161e+02,\n",
       "        1.149e+02,  9.850e+01,  1.180e+02,  1.189e+02,  1.188e+02,\n",
       "        1.181e+02,  1.195e+02,  1.200e+02,  1.187e+02,  1.196e+02,\n",
       "        2.800e+00,  1.226e+02,  2.700e+00,  1.239e+02,  1.258e+02,\n",
       "        1.050e+02,  1.291e+02,  1.073e+02,  1.281e+02,  1.306e+02,\n",
       "        1.256e+02, -5.000e-01,  1.115e+02,  1.122e+02,  1.168e+02,\n",
       "        1.194e+02,  1.266e+02,  1.295e+02])"
      ]
     },
     "execution_count": 15,
     "metadata": {},
     "output_type": "execute_result"
    }
   ],
   "source": [
    "df1['index_value'].unique()"
   ]
  },
  {
   "cell_type": "markdown",
   "id": "916abc6a-6cae-416c-ad24-b6d1aa5fa617",
   "metadata": {},
   "source": [
    "some nans over... likely null values.. will deal with them at that point"
   ]
  },
  {
   "cell_type": "code",
   "execution_count": 17,
   "id": "49bc51d5-08a4-4c47-91b2-0999148364ba",
   "metadata": {
    "tags": []
   },
   "outputs": [
    {
     "data": {
      "text/plain": [
       "<AxesSubplot: xlabel='index_value', ylabel='Count'>"
      ]
     },
     "execution_count": 17,
     "metadata": {},
     "output_type": "execute_result"
    },
    {
     "data": {
      "image/png": "[encoded data removed]",
      "text/plain": [
       "<Figure size 432x288 with 1 Axes>"
      ]
     },
     "metadata": {
      "needs_background": "light"
     },
     "output_type": "display_data"
    }
   ],
   "source": [
    "sns.histplot(df1['index_value'])"
   ]
  },
  {
   "cell_type": "markdown",
   "id": "2e17e632-0799-42d1-978a-595c6a8a0482",
   "metadata": {
    "tags": []
   },
   "source": [
    "### Cleaning - Missing Values"
   ]
  },
  {
   "cell_type": "markdown",
   "id": "158ad891-0d76-4039-882d-c3ca21e71814",
   "metadata": {},
   "source": [
    "Inspect null values and see if they should be assigned another value or if rows/columns should be dropped"
   ]
  },
  {
   "cell_type": "code",
   "execution_count": 7,
   "id": "2248bc71-f3b4-47df-9769-9ccb04eadba8",
   "metadata": {},
   "outputs": [
    {
     "name": "stdout",
     "output_type": "stream",
     "text": [
      "<class 'pandas.core.frame.DataFrame'>\n",
      "RangeIndex: 5073 entries, 0 to 5072\n",
      "Data columns (total 5 columns):\n",
      " #   Column       Non-Null Count  Dtype  \n",
      "---  ------       --------------  -----  \n",
      " 0   date         5073 non-null   object \n",
      " 1   region       5073 non-null   object \n",
      " 2   measures     5073 non-null   object \n",
      " 3   unit         5073 non-null   object \n",
      " 4   index_value  5003 non-null   float64\n",
      "dtypes: float64(1), object(4)\n",
      "memory usage: 198.3+ KB\n"
     ]
    }
   ],
   "source": [
    "df1.info()"
   ]
  },
  {
   "cell_type": "code",
   "execution_count": 21,
   "id": "066766c8-8666-4267-a8f4-ca21096b9155",
   "metadata": {},
   "outputs": [
    {
     "data": {
      "text/html": [
       "<div>\n",
       "<style scoped>\n",
       "    .dataframe tbody tr th:only-of-type {\n",
       "        vertical-align: middle;\n",
       "    }\n",
       "\n",
       "    .dataframe tbody tr th {\n",
       "        vertical-align: top;\n",
       "    }\n",
       "\n",
       "    .dataframe thead th {\n",
       "        text-align: right;\n",
       "    }\n",
       "</style>\n",
       "<table border=\"1\" class=\"dataframe\">\n",
       "  <thead>\n",
       "    <tr style=\"text-align: right;\">\n",
       "      <th></th>\n",
       "      <th>date</th>\n",
       "      <th>region</th>\n",
       "      <th>measures</th>\n",
       "      <th>unit</th>\n",
       "      <th>index_value</th>\n",
       "    </tr>\n",
       "  </thead>\n",
       "  <tbody>\n",
       "    <tr>\n",
       "      <th>441</th>\n",
       "      <td>1986-03</td>\n",
       "      <td>Canada</td>\n",
       "      <td>Consumer Price Index (CPI) excluding food, ene...</td>\n",
       "      <td>Index, 2002=100</td>\n",
       "      <td>NaN</td>\n",
       "    </tr>\n",
       "    <tr>\n",
       "      <th>458</th>\n",
       "      <td>1986-04</td>\n",
       "      <td>Canada</td>\n",
       "      <td>Consumer Price Index (CPI) excluding food, ene...</td>\n",
       "      <td>Index, 2002=100</td>\n",
       "      <td>NaN</td>\n",
       "    </tr>\n",
       "    <tr>\n",
       "      <th>475</th>\n",
       "      <td>1986-05</td>\n",
       "      <td>Canada</td>\n",
       "      <td>Consumer Price Index (CPI) excluding food, ene...</td>\n",
       "      <td>Index, 2002=100</td>\n",
       "      <td>NaN</td>\n",
       "    </tr>\n",
       "    <tr>\n",
       "      <th>492</th>\n",
       "      <td>1986-06</td>\n",
       "      <td>Canada</td>\n",
       "      <td>Consumer Price Index (CPI) excluding food, ene...</td>\n",
       "      <td>Index, 2002=100</td>\n",
       "      <td>NaN</td>\n",
       "    </tr>\n",
       "    <tr>\n",
       "      <th>509</th>\n",
       "      <td>1986-07</td>\n",
       "      <td>Canada</td>\n",
       "      <td>Consumer Price Index (CPI) excluding food, ene...</td>\n",
       "      <td>Index, 2002=100</td>\n",
       "      <td>NaN</td>\n",
       "    </tr>\n",
       "    <tr>\n",
       "      <th>...</th>\n",
       "      <td>...</td>\n",
       "      <td>...</td>\n",
       "      <td>...</td>\n",
       "      <td>...</td>\n",
       "      <td>...</td>\n",
       "    </tr>\n",
       "    <tr>\n",
       "      <th>1546</th>\n",
       "      <td>1991-08</td>\n",
       "      <td>Canada</td>\n",
       "      <td>Consumer Price Index (CPI) excluding food, ene...</td>\n",
       "      <td>Index, 2002=100</td>\n",
       "      <td>NaN</td>\n",
       "    </tr>\n",
       "    <tr>\n",
       "      <th>1563</th>\n",
       "      <td>1991-09</td>\n",
       "      <td>Canada</td>\n",
       "      <td>Consumer Price Index (CPI) excluding food, ene...</td>\n",
       "      <td>Index, 2002=100</td>\n",
       "      <td>NaN</td>\n",
       "    </tr>\n",
       "    <tr>\n",
       "      <th>1580</th>\n",
       "      <td>1991-10</td>\n",
       "      <td>Canada</td>\n",
       "      <td>Consumer Price Index (CPI) excluding food, ene...</td>\n",
       "      <td>Index, 2002=100</td>\n",
       "      <td>NaN</td>\n",
       "    </tr>\n",
       "    <tr>\n",
       "      <th>1597</th>\n",
       "      <td>1991-11</td>\n",
       "      <td>Canada</td>\n",
       "      <td>Consumer Price Index (CPI) excluding food, ene...</td>\n",
       "      <td>Index, 2002=100</td>\n",
       "      <td>NaN</td>\n",
       "    </tr>\n",
       "    <tr>\n",
       "      <th>1614</th>\n",
       "      <td>1991-12</td>\n",
       "      <td>Canada</td>\n",
       "      <td>Consumer Price Index (CPI) excluding food, ene...</td>\n",
       "      <td>Index, 2002=100</td>\n",
       "      <td>NaN</td>\n",
       "    </tr>\n",
       "  </tbody>\n",
       "</table>\n",
       "<p>70 rows × 5 columns</p>\n",
       "</div>"
      ],
      "text/plain": [
       "         date  region                                           measures  \\\n",
       "441   1986-03  Canada  Consumer Price Index (CPI) excluding food, ene...   \n",
       "458   1986-04  Canada  Consumer Price Index (CPI) excluding food, ene...   \n",
       "475   1986-05  Canada  Consumer Price Index (CPI) excluding food, ene...   \n",
       "492   1986-06  Canada  Consumer Price Index (CPI) excluding food, ene...   \n",
       "509   1986-07  Canada  Consumer Price Index (CPI) excluding food, ene...   \n",
       "...       ...     ...                                                ...   \n",
       "1546  1991-08  Canada  Consumer Price Index (CPI) excluding food, ene...   \n",
       "1563  1991-09  Canada  Consumer Price Index (CPI) excluding food, ene...   \n",
       "1580  1991-10  Canada  Consumer Price Index (CPI) excluding food, ene...   \n",
       "1597  1991-11  Canada  Consumer Price Index (CPI) excluding food, ene...   \n",
       "1614  1991-12  Canada  Consumer Price Index (CPI) excluding food, ene...   \n",
       "\n",
       "                 unit  index_value  \n",
       "441   Index, 2002=100          NaN  \n",
       "458   Index, 2002=100          NaN  \n",
       "475   Index, 2002=100          NaN  \n",
       "492   Index, 2002=100          NaN  \n",
       "509   Index, 2002=100          NaN  \n",
       "...               ...          ...  \n",
       "1546  Index, 2002=100          NaN  \n",
       "1563  Index, 2002=100          NaN  \n",
       "1580  Index, 2002=100          NaN  \n",
       "1597  Index, 2002=100          NaN  \n",
       "1614  Index, 2002=100          NaN  \n",
       "\n",
       "[70 rows x 5 columns]"
      ]
     },
     "execution_count": 21,
     "metadata": {},
     "output_type": "execute_result"
    }
   ],
   "source": [
    "df1.loc[df1['index_value'].isnull()].head(70)"
   ]
  },
  {
   "cell_type": "markdown",
   "id": "fc6288e9-2c16-4be1-a421-6041fdd86842",
   "metadata": {},
   "source": [
    "We'll drop those values"
   ]
  },
  {
   "cell_type": "code",
   "execution_count": 185,
   "id": "6cac0361-1d67-4f0c-a6a1-8e321749d367",
   "metadata": {},
   "outputs": [
    {
     "name": "stdout",
     "output_type": "stream",
     "text": [
      "<class 'pandas.core.frame.DataFrame'>\n",
      "Int64Index: 5003 entries, 0 to 5072\n",
      "Data columns (total 5 columns):\n",
      " #   Column       Non-Null Count  Dtype  \n",
      "---  ------       --------------  -----  \n",
      " 0   date         5003 non-null   object \n",
      " 1   region       5003 non-null   object \n",
      " 2   measures     5003 non-null   object \n",
      " 3   unit         5003 non-null   object \n",
      " 4   index_value  5003 non-null   float64\n",
      "dtypes: float64(1), object(4)\n",
      "memory usage: 234.5+ KB\n"
     ]
    }
   ],
   "source": [
    "df1.dropna(subset=['index_value'], inplace=True)\n",
    "df1.info()"
   ]
  },
  {
   "cell_type": "markdown",
   "id": "1c6f73c5-01ce-4b1c-afe1-5e4b81db8041",
   "metadata": {
    "tags": []
   },
   "source": [
    "### Cleaning - Duplicate Values"
   ]
  },
  {
   "cell_type": "code",
   "execution_count": 27,
   "id": "56fa86cd-ae7d-4cbf-b958-e6772ea98ebe",
   "metadata": {},
   "outputs": [
    {
     "data": {
      "text/html": [
       "<div>\n",
       "<style scoped>\n",
       "    .dataframe tbody tr th:only-of-type {\n",
       "        vertical-align: middle;\n",
       "    }\n",
       "\n",
       "    .dataframe tbody tr th {\n",
       "        vertical-align: top;\n",
       "    }\n",
       "\n",
       "    .dataframe thead th {\n",
       "        text-align: right;\n",
       "    }\n",
       "</style>\n",
       "<table border=\"1\" class=\"dataframe\">\n",
       "  <thead>\n",
       "    <tr style=\"text-align: right;\">\n",
       "      <th></th>\n",
       "      <th>date</th>\n",
       "      <th>region</th>\n",
       "      <th>measures</th>\n",
       "      <th>unit</th>\n",
       "      <th>index_value</th>\n",
       "    </tr>\n",
       "  </thead>\n",
       "  <tbody>\n",
       "  </tbody>\n",
       "</table>\n",
       "</div>"
      ],
      "text/plain": [
       "Empty DataFrame\n",
       "Columns: [date, region, measures, unit, index_value]\n",
       "Index: []"
      ]
     },
     "execution_count": 27,
     "metadata": {},
     "output_type": "execute_result"
    }
   ],
   "source": [
    "df1[df1.duplicated()]"
   ]
  },
  {
   "cell_type": "markdown",
   "id": "79b32578-a5b8-4696-bb80-9968680ee37a",
   "metadata": {},
   "source": [
    "### Formatting JOIN columns"
   ]
  },
  {
   "cell_type": "code",
   "execution_count": 6,
   "id": "4adc6266-07f5-4cc1-bed2-c9e1210b2b6e",
   "metadata": {},
   "outputs": [
    {
     "data": {
      "text/html": [
       "<div>\n",
       "<style scoped>\n",
       "    .dataframe tbody tr th:only-of-type {\n",
       "        vertical-align: middle;\n",
       "    }\n",
       "\n",
       "    .dataframe tbody tr th {\n",
       "        vertical-align: top;\n",
       "    }\n",
       "\n",
       "    .dataframe thead th {\n",
       "        text-align: right;\n",
       "    }\n",
       "</style>\n",
       "<table border=\"1\" class=\"dataframe\">\n",
       "  <thead>\n",
       "    <tr style=\"text-align: right;\">\n",
       "      <th></th>\n",
       "      <th>date</th>\n",
       "      <th>region</th>\n",
       "      <th>measures</th>\n",
       "      <th>unit</th>\n",
       "      <th>index_value</th>\n",
       "      <th>joinYear</th>\n",
       "      <th>joinMonth</th>\n",
       "      <th>joinProvince</th>\n",
       "    </tr>\n",
       "  </thead>\n",
       "  <tbody>\n",
       "    <tr>\n",
       "      <th>0</th>\n",
       "      <td>1979-11</td>\n",
       "      <td>Canada</td>\n",
       "      <td>Consumer Price Index (CPI) inversely weighted ...</td>\n",
       "      <td>Percent</td>\n",
       "      <td>9.3</td>\n",
       "      <td>1979</td>\n",
       "      <td>11</td>\n",
       "      <td>Canada</td>\n",
       "    </tr>\n",
       "    <tr>\n",
       "      <th>1</th>\n",
       "      <td>1979-12</td>\n",
       "      <td>Canada</td>\n",
       "      <td>Consumer Price Index (CPI) inversely weighted ...</td>\n",
       "      <td>Percent</td>\n",
       "      <td>9.4</td>\n",
       "      <td>1979</td>\n",
       "      <td>12</td>\n",
       "      <td>Canada</td>\n",
       "    </tr>\n",
       "    <tr>\n",
       "      <th>2</th>\n",
       "      <td>1980-01</td>\n",
       "      <td>Canada</td>\n",
       "      <td>Consumer Price Index (CPI) inversely weighted ...</td>\n",
       "      <td>Percent</td>\n",
       "      <td>9.3</td>\n",
       "      <td>1980</td>\n",
       "      <td>01</td>\n",
       "      <td>Canada</td>\n",
       "    </tr>\n",
       "    <tr>\n",
       "      <th>3</th>\n",
       "      <td>1980-02</td>\n",
       "      <td>Canada</td>\n",
       "      <td>Consumer Price Index (CPI) inversely weighted ...</td>\n",
       "      <td>Percent</td>\n",
       "      <td>9.4</td>\n",
       "      <td>1980</td>\n",
       "      <td>02</td>\n",
       "      <td>Canada</td>\n",
       "    </tr>\n",
       "    <tr>\n",
       "      <th>4</th>\n",
       "      <td>1980-03</td>\n",
       "      <td>Canada</td>\n",
       "      <td>Consumer Price Index (CPI) inversely weighted ...</td>\n",
       "      <td>Percent</td>\n",
       "      <td>9.3</td>\n",
       "      <td>1980</td>\n",
       "      <td>03</td>\n",
       "      <td>Canada</td>\n",
       "    </tr>\n",
       "  </tbody>\n",
       "</table>\n",
       "</div>"
      ],
      "text/plain": [
       "      date  region                                           measures  \\\n",
       "0  1979-11  Canada  Consumer Price Index (CPI) inversely weighted ...   \n",
       "1  1979-12  Canada  Consumer Price Index (CPI) inversely weighted ...   \n",
       "2  1980-01  Canada  Consumer Price Index (CPI) inversely weighted ...   \n",
       "3  1980-02  Canada  Consumer Price Index (CPI) inversely weighted ...   \n",
       "4  1980-03  Canada  Consumer Price Index (CPI) inversely weighted ...   \n",
       "\n",
       "      unit  index_value joinYear joinMonth joinProvince  \n",
       "0  Percent          9.3     1979        11       Canada  \n",
       "1  Percent          9.4     1979        12       Canada  \n",
       "2  Percent          9.3     1980        01       Canada  \n",
       "3  Percent          9.4     1980        02       Canada  \n",
       "4  Percent          9.3     1980        03       Canada  "
      ]
     },
     "execution_count": 6,
     "metadata": {},
     "output_type": "execute_result"
    }
   ],
   "source": [
    "#Making a year column\n",
    "df1['joinYear']=df1['date'].str[:4]\n",
    "\n",
    "#Making a Month Column\n",
    "df1['joinMonth']=df1['date'].str[-2:]\n",
    "\n",
    "# Making a Province Column\n",
    "## Canada = Canada, every other will be down to a province\n",
    "## In that case the region values are all Canada so we'll keep them like that\n",
    "df1['joinProvince']=\"Canada\"\n",
    "\n",
    "df1.head()"
   ]
  },
  {
   "cell_type": "markdown",
   "id": "b3825e83-c2e4-4819-a234-5afa468a3bf2",
   "metadata": {
    "tags": []
   },
   "source": [
    "### Export Dataset"
   ]
  },
  {
   "cell_type": "code",
   "execution_count": 7,
   "id": "4b9d79fe-90e8-49c4-95e0-f547954eb9a9",
   "metadata": {
    "tags": []
   },
   "outputs": [],
   "source": [
    "df1.to_csv('Data-Visualization-and-Dashboards-with-Tableau/clean_data/consumer_index.csv')"
   ]
  },
  {
   "cell_type": "markdown",
   "id": "50b41c45-5c86-4fb2-93a0-847f5f98879e",
   "metadata": {
    "tags": []
   },
   "source": [
    "## Dataset 2 - Housing Price Index"
   ]
  },
  {
   "cell_type": "markdown",
   "id": "11b48a0f-0129-4134-bf9c-1fcecef4e30d",
   "metadata": {
    "jp-MarkdownHeadingCollapsed": true,
    "tags": []
   },
   "source": [
    "### Import dataset"
   ]
  },
  {
   "cell_type": "markdown",
   "id": "6fd9aa4c-34be-444e-bbf8-42b9ae672f84",
   "metadata": {},
   "source": [
    "The original dataset provided was a duplicate from above. This one was given as a correction the next day."
   ]
  },
  {
   "cell_type": "code",
   "execution_count": 29,
   "id": "abe3dcbc-7228-4120-9b9d-4e65d772737c",
   "metadata": {},
   "outputs": [],
   "source": [
    "df2 = pd.read_csv('Data-Visualization-and-Dashboards-with-Tableau/Raw_data/housing_price_index.csv')"
   ]
  },
  {
   "cell_type": "code",
   "execution_count": 24,
   "id": "92219580-cfa9-4ef9-9fdd-ccebb247aa76",
   "metadata": {
    "tags": []
   },
   "outputs": [
    {
     "data": {
      "text/plain": [
       "(4, 470)"
      ]
     },
     "execution_count": 24,
     "metadata": {},
     "output_type": "execute_result"
    }
   ],
   "source": [
    "df2.shape"
   ]
  },
  {
   "cell_type": "code",
   "execution_count": 25,
   "id": "b3fd449e-a3dc-455b-b0e0-9379dcd9262a",
   "metadata": {
    "tags": []
   },
   "outputs": [
    {
     "data": {
      "text/html": [
       "<div>\n",
       "<style scoped>\n",
       "    .dataframe tbody tr th:only-of-type {\n",
       "        vertical-align: middle;\n",
       "    }\n",
       "\n",
       "    .dataframe tbody tr th {\n",
       "        vertical-align: top;\n",
       "    }\n",
       "\n",
       "    .dataframe thead th {\n",
       "        text-align: right;\n",
       "    }\n",
       "</style>\n",
       "<table border=\"1\" class=\"dataframe\">\n",
       "  <thead>\n",
       "    <tr style=\"text-align: right;\">\n",
       "      <th></th>\n",
       "      <th>New housing price indexes</th>\n",
       "      <th>Jan-81</th>\n",
       "      <th>Feb-81</th>\n",
       "      <th>Mar-81</th>\n",
       "      <th>Apr-81</th>\n",
       "      <th>May-81</th>\n",
       "      <th>Jun-81</th>\n",
       "      <th>Jul-81</th>\n",
       "      <th>Aug-81</th>\n",
       "      <th>Sep-81</th>\n",
       "      <th>...</th>\n",
       "      <th>Apr-19</th>\n",
       "      <th>May-19</th>\n",
       "      <th>Jun-19</th>\n",
       "      <th>Jul-19</th>\n",
       "      <th>Aug-19</th>\n",
       "      <th>Sep-19</th>\n",
       "      <th>Oct-19</th>\n",
       "      <th>Nov-19</th>\n",
       "      <th>Dec-19</th>\n",
       "      <th>Jan-20</th>\n",
       "    </tr>\n",
       "  </thead>\n",
       "  <tbody>\n",
       "    <tr>\n",
       "      <th>0</th>\n",
       "      <td>Total (house and land)</td>\n",
       "      <td>38.2</td>\n",
       "      <td>38.7</td>\n",
       "      <td>39.3</td>\n",
       "      <td>39.9</td>\n",
       "      <td>40.6</td>\n",
       "      <td>40.8</td>\n",
       "      <td>40.8</td>\n",
       "      <td>40.6</td>\n",
       "      <td>40.4</td>\n",
       "      <td>...</td>\n",
       "      <td>103.2</td>\n",
       "      <td>103.1</td>\n",
       "      <td>103</td>\n",
       "      <td>102.9</td>\n",
       "      <td>103</td>\n",
       "      <td>103.2</td>\n",
       "      <td>103.3</td>\n",
       "      <td>103.2</td>\n",
       "      <td>103.4</td>\n",
       "      <td>103.4</td>\n",
       "    </tr>\n",
       "    <tr>\n",
       "      <th>1</th>\n",
       "      <td>House only</td>\n",
       "      <td>36.1</td>\n",
       "      <td>36.5</td>\n",
       "      <td>37.3</td>\n",
       "      <td>38.1</td>\n",
       "      <td>38.9</td>\n",
       "      <td>39.1</td>\n",
       "      <td>39.2</td>\n",
       "      <td>39</td>\n",
       "      <td>39</td>\n",
       "      <td>...</td>\n",
       "      <td>102.6</td>\n",
       "      <td>102.5</td>\n",
       "      <td>102.4</td>\n",
       "      <td>102.2</td>\n",
       "      <td>102.3</td>\n",
       "      <td>102.6</td>\n",
       "      <td>102.7</td>\n",
       "      <td>102.5</td>\n",
       "      <td>102.8</td>\n",
       "      <td>102.6</td>\n",
       "    </tr>\n",
       "    <tr>\n",
       "      <th>2</th>\n",
       "      <td>Land only</td>\n",
       "      <td>40.6E</td>\n",
       "      <td>41.0E</td>\n",
       "      <td>41.1E</td>\n",
       "      <td>41.2E</td>\n",
       "      <td>41.5E</td>\n",
       "      <td>41.6E</td>\n",
       "      <td>41.6E</td>\n",
       "      <td>41.5E</td>\n",
       "      <td>40.9E</td>\n",
       "      <td>...</td>\n",
       "      <td>104.1E</td>\n",
       "      <td>104.2E</td>\n",
       "      <td>104.2E</td>\n",
       "      <td>104.1E</td>\n",
       "      <td>104.2E</td>\n",
       "      <td>104.2E</td>\n",
       "      <td>104.2E</td>\n",
       "      <td>104.3E</td>\n",
       "      <td>104.4E</td>\n",
       "      <td>104.8E</td>\n",
       "    </tr>\n",
       "    <tr>\n",
       "      <th>3</th>\n",
       "      <td>Index</td>\n",
       "      <td>201612=100</td>\n",
       "      <td>201612=100</td>\n",
       "      <td>201612=100</td>\n",
       "      <td>201612=100</td>\n",
       "      <td>201612=100</td>\n",
       "      <td>201612=100</td>\n",
       "      <td>201612=100</td>\n",
       "      <td>201612=100</td>\n",
       "      <td>201612=100</td>\n",
       "      <td>...</td>\n",
       "      <td>201612=100</td>\n",
       "      <td>201612=100</td>\n",
       "      <td>201612=100</td>\n",
       "      <td>201612=100</td>\n",
       "      <td>201612=100</td>\n",
       "      <td>201612=100</td>\n",
       "      <td>201612=100</td>\n",
       "      <td>201612=100</td>\n",
       "      <td>201612=100</td>\n",
       "      <td>201612=100</td>\n",
       "    </tr>\n",
       "  </tbody>\n",
       "</table>\n",
       "<p>4 rows × 470 columns</p>\n",
       "</div>"
      ],
      "text/plain": [
       "  New housing price indexes      Jan-81      Feb-81      Mar-81      Apr-81  \\\n",
       "0    Total (house and land)        38.2        38.7        39.3        39.9   \n",
       "1                House only        36.1        36.5        37.3        38.1   \n",
       "2                 Land only       40.6E       41.0E       41.1E       41.2E   \n",
       "3                     Index  201612=100  201612=100  201612=100  201612=100   \n",
       "\n",
       "       May-81      Jun-81      Jul-81      Aug-81      Sep-81  ...  \\\n",
       "0        40.6        40.8        40.8        40.6        40.4  ...   \n",
       "1        38.9        39.1        39.2          39          39  ...   \n",
       "2       41.5E       41.6E       41.6E       41.5E       40.9E  ...   \n",
       "3  201612=100  201612=100  201612=100  201612=100  201612=100  ...   \n",
       "\n",
       "       Apr-19      May-19      Jun-19      Jul-19      Aug-19      Sep-19  \\\n",
       "0       103.2       103.1         103       102.9         103       103.2   \n",
       "1       102.6       102.5       102.4       102.2       102.3       102.6   \n",
       "2      104.1E      104.2E      104.2E      104.1E      104.2E      104.2E   \n",
       "3  201612=100  201612=100  201612=100  201612=100  201612=100  201612=100   \n",
       "\n",
       "       Oct-19      Nov-19      Dec-19      Jan-20  \n",
       "0       103.3       103.2       103.4       103.4  \n",
       "1       102.7       102.5       102.8       102.6  \n",
       "2      104.2E      104.3E      104.4E      104.8E  \n",
       "3  201612=100  201612=100  201612=100  201612=100  \n",
       "\n",
       "[4 rows x 470 columns]"
      ]
     },
     "execution_count": 25,
     "metadata": {},
     "output_type": "execute_result"
    }
   ],
   "source": [
    "df2.head()"
   ]
  },
  {
   "cell_type": "markdown",
   "id": "41c85fd6-abc3-43a9-8bf8-dd6c972fc90b",
   "metadata": {},
   "source": [
    "### Format dataset"
   ]
  },
  {
   "cell_type": "code",
   "execution_count": 34,
   "id": "89501472-2c43-4b92-9ba7-500bb8e41aa9",
   "metadata": {},
   "outputs": [
    {
     "data": {
      "text/html": [
       "<div>\n",
       "<style scoped>\n",
       "    .dataframe tbody tr th:only-of-type {\n",
       "        vertical-align: middle;\n",
       "    }\n",
       "\n",
       "    .dataframe tbody tr th {\n",
       "        vertical-align: top;\n",
       "    }\n",
       "\n",
       "    .dataframe thead th {\n",
       "        text-align: right;\n",
       "    }\n",
       "</style>\n",
       "<table border=\"1\" class=\"dataframe\">\n",
       "  <thead>\n",
       "    <tr style=\"text-align: right;\">\n",
       "      <th></th>\n",
       "      <th>Date</th>\n",
       "      <th>HPI_House_Land</th>\n",
       "      <th>HPI_House</th>\n",
       "      <th>HPI_Land</th>\n",
       "      <th>Index</th>\n",
       "    </tr>\n",
       "  </thead>\n",
       "  <tbody>\n",
       "    <tr>\n",
       "      <th>1</th>\n",
       "      <td>Jan-81</td>\n",
       "      <td>38.2</td>\n",
       "      <td>36.1</td>\n",
       "      <td>40.6E</td>\n",
       "      <td>201612=100</td>\n",
       "    </tr>\n",
       "    <tr>\n",
       "      <th>2</th>\n",
       "      <td>Feb-81</td>\n",
       "      <td>38.7</td>\n",
       "      <td>36.5</td>\n",
       "      <td>41.0E</td>\n",
       "      <td>201612=100</td>\n",
       "    </tr>\n",
       "    <tr>\n",
       "      <th>3</th>\n",
       "      <td>Mar-81</td>\n",
       "      <td>39.3</td>\n",
       "      <td>37.3</td>\n",
       "      <td>41.1E</td>\n",
       "      <td>201612=100</td>\n",
       "    </tr>\n",
       "    <tr>\n",
       "      <th>4</th>\n",
       "      <td>Apr-81</td>\n",
       "      <td>39.9</td>\n",
       "      <td>38.1</td>\n",
       "      <td>41.2E</td>\n",
       "      <td>201612=100</td>\n",
       "    </tr>\n",
       "    <tr>\n",
       "      <th>5</th>\n",
       "      <td>May-81</td>\n",
       "      <td>40.6</td>\n",
       "      <td>38.9</td>\n",
       "      <td>41.5E</td>\n",
       "      <td>201612=100</td>\n",
       "    </tr>\n",
       "  </tbody>\n",
       "</table>\n",
       "</div>"
      ],
      "text/plain": [
       "     Date HPI_House_Land HPI_House HPI_Land       Index\n",
       "1  Jan-81           38.2      36.1    40.6E  201612=100\n",
       "2  Feb-81           38.7      36.5    41.0E  201612=100\n",
       "3  Mar-81           39.3      37.3    41.1E  201612=100\n",
       "4  Apr-81           39.9      38.1    41.2E  201612=100\n",
       "5  May-81           40.6      38.9    41.5E  201612=100"
      ]
     },
     "execution_count": 34,
     "metadata": {},
     "output_type": "execute_result"
    }
   ],
   "source": [
    "# We'll flip the data above so the dates in the column all fall into a single column with one date per row and the first value of every rows becomes the new columns\n",
    "\n",
    "newDF2 = pd.DataFrame()\n",
    "newDF2['Date'] = df2.columns.tolist()\n",
    "newDF2['HPI_House_Land'] = df2.iloc[0].tolist()\n",
    "newDF2['HPI_House'] = df2.iloc[1].tolist()\n",
    "newDF2['HPI_Land'] = df2.iloc[2].tolist()\n",
    "newDF2['Index'] = df2.iloc[3].tolist()\n",
    "#delete the first row of new_df2\n",
    "newDF2 = newDF2.drop([0])\n",
    "newDF2.head()"
   ]
  },
  {
   "cell_type": "code",
   "execution_count": 37,
   "id": "09541f37-2f22-4d7c-867b-b83adab8656e",
   "metadata": {},
   "outputs": [
    {
     "name": "stdout",
     "output_type": "stream",
     "text": [
      "<class 'pandas.core.frame.DataFrame'>\n",
      "RangeIndex: 469 entries, 1 to 469\n",
      "Data columns (total 6 columns):\n",
      " #   Column          Non-Null Count  Dtype \n",
      "---  ------          --------------  ----- \n",
      " 0   Date            469 non-null    object\n",
      " 1   HPI_House_Land  469 non-null    object\n",
      " 2   HPI_House       469 non-null    object\n",
      " 3   HPI_Land        469 non-null    object\n",
      " 4   Index           469 non-null    object\n",
      " 5   joinProvince    469 non-null    object\n",
      "dtypes: object(6)\n",
      "memory usage: 22.1+ KB\n"
     ]
    }
   ],
   "source": [
    "newDF2['joinProvince']='Canada'\n",
    "newDF2.info()"
   ]
  },
  {
   "cell_type": "markdown",
   "id": "77dee03f-1736-4937-9329-a615960f6811",
   "metadata": {},
   "source": [
    "We can see there's no null values in our dataset and given that we've almost redone this dataset from scratch, we know the formatting is correct."
   ]
  },
  {
   "cell_type": "markdown",
   "id": "7bd216e9-763a-4a02-a90e-6277a40856fd",
   "metadata": {
    "jp-MarkdownHeadingCollapsed": true,
    "tags": []
   },
   "source": [
    "### Formatting JOIN columns"
   ]
  },
  {
   "cell_type": "code",
   "execution_count": 38,
   "id": "6d0bef13-db67-45f4-b232-5913c84db461",
   "metadata": {},
   "outputs": [],
   "source": [
    "# Great! Now we need to split the date column into two columns, one for the month and one for the year\n",
    "newDF2['joinMonth'] = newDF2['Date'].str.split('-').str[0]\n",
    "newDF2['joinYear'] = newDF2['Date'].str.split('-').str[1]\n",
    "\n",
    "# Now we need to convert the month column into a numeric value\n",
    "newDF2['joinMonth'] = newDF2['joinMonth'].replace('Jan', '01')\n",
    "newDF2['joinMonth'] = newDF2['joinMonth'].replace('Feb', '02')\n",
    "newDF2['joinMonth'] = newDF2['joinMonth'].replace('Mar', '03')\n",
    "newDF2['joinMonth'] = newDF2['joinMonth'].replace('Apr', '04')\n",
    "newDF2['joinMonth'] = newDF2['joinMonth'].replace('May', '05')\n",
    "newDF2['joinMonth'] = newDF2['joinMonth'].replace('Jun', '06')\n",
    "newDF2['joinMonth'] = newDF2['joinMonth'].replace('Jul', '07')\n",
    "newDF2['joinMonth'] = newDF2['joinMonth'].replace('Aug', '08')\n",
    "newDF2['joinMonth'] = newDF2['joinMonth'].replace('Sep', '09')\n",
    "newDF2['joinMonth'] = newDF2['joinMonth'].replace('Oct', '10')\n",
    "newDF2['joinMonth'] = newDF2['joinMonth'].replace('Nov', '11')\n",
    "newDF2['joinMonth'] = newDF2['joinMonth'].replace('Dec', '12')\n",
    "\n",
    "# Now we need to convert the year column into a numeric value\n",
    "newDF2['joinYear'] = newDF2['joinYear'].replace('81', '1981')\n",
    "newDF2['joinYear'] = newDF2['joinYear'].replace('82', '1982')\n",
    "newDF2['joinYear'] = newDF2['joinYear'].replace('83', '1983')\n",
    "newDF2['joinYear'] = newDF2['joinYear'].replace('84', '1984')\n",
    "newDF2['joinYear'] = newDF2['joinYear'].replace('85', '1985')\n",
    "newDF2['joinYear'] = newDF2['joinYear'].replace('86', '1986')\n",
    "newDF2['joinYear'] = newDF2['joinYear'].replace('87', '1987')\n",
    "newDF2['joinYear'] = newDF2['joinYear'].replace('88', '1988')\n",
    "newDF2['joinYear'] = newDF2['joinYear'].replace('89', '1989')\n",
    "newDF2['joinYear'] = newDF2['joinYear'].replace('90', '1990')\n",
    "newDF2['joinYear'] = newDF2['joinYear'].replace('91', '1991')\n",
    "newDF2['joinYear'] = newDF2['joinYear'].replace('92', '1992')\n",
    "newDF2['joinYear'] = newDF2['joinYear'].replace('93', '1993')\n",
    "newDF2['joinYear'] = newDF2['joinYear'].replace('94', '1994')\n",
    "newDF2['joinYear'] = newDF2['joinYear'].replace('95', '1995')\n",
    "newDF2['joinYear'] = newDF2['joinYear'].replace('96', '1996')\n",
    "newDF2['joinYear'] = newDF2['joinYear'].replace('97', '1997')\n",
    "newDF2['joinYear'] = newDF2['joinYear'].replace('98', '1998')\n",
    "newDF2['joinYear'] = newDF2['joinYear'].replace('99', '1999')\n",
    "newDF2['joinYear'] = newDF2['joinYear'].replace('00', '2000')\n",
    "newDF2['joinYear'] = newDF2['joinYear'].replace('01', '2001')\n",
    "newDF2['joinYear'] = newDF2['joinYear'].replace('02', '2002')\n",
    "newDF2['joinYear'] = newDF2['joinYear'].replace('03', '2003')\n",
    "newDF2['joinYear'] = newDF2['joinYear'].replace('04', '2004')\n",
    "newDF2['joinYear'] = newDF2['joinYear'].replace('05', '2005')\n",
    "newDF2['joinYear'] = newDF2['joinYear'].replace('06', '2006')\n",
    "newDF2['joinYear'] = newDF2['joinYear'].replace('07', '2007')\n",
    "newDF2['joinYear'] = newDF2['joinYear'].replace('08', '2008')\n",
    "newDF2['joinYear'] = newDF2['joinYear'].replace('09', '2009')\n",
    "newDF2['joinYear'] = newDF2['joinYear'].replace('10', '2010')\n",
    "newDF2['joinYear'] = newDF2['joinYear'].replace('11', '2011')\n",
    "newDF2['joinYear'] = newDF2['joinYear'].replace('12', '2012')\n",
    "newDF2['joinYear'] = newDF2['joinYear'].replace('13', '2013')\n",
    "newDF2['joinYear'] = newDF2['joinYear'].replace('14', '2014')\n",
    "newDF2['joinYear'] = newDF2['joinYear'].replace('15', '2015')\n",
    "newDF2['joinYear'] = newDF2['joinYear'].replace('16', '2016')\n",
    "newDF2['joinYear'] = newDF2['joinYear'].replace('17', '2017')\n",
    "newDF2['joinYear'] = newDF2['joinYear'].replace('18', '2018')\n",
    "newDF2['joinYear'] = newDF2['joinYear'].replace('19', '2019')\n",
    "newDF2['joinYear'] = newDF2['joinYear'].replace('20', '2020')"
   ]
  },
  {
   "cell_type": "code",
   "execution_count": 39,
   "id": "002631f2-d28f-40f4-b172-e9580add03ad",
   "metadata": {},
   "outputs": [
    {
     "data": {
      "text/html": [
       "<div>\n",
       "<style scoped>\n",
       "    .dataframe tbody tr th:only-of-type {\n",
       "        vertical-align: middle;\n",
       "    }\n",
       "\n",
       "    .dataframe tbody tr th {\n",
       "        vertical-align: top;\n",
       "    }\n",
       "\n",
       "    .dataframe thead th {\n",
       "        text-align: right;\n",
       "    }\n",
       "</style>\n",
       "<table border=\"1\" class=\"dataframe\">\n",
       "  <thead>\n",
       "    <tr style=\"text-align: right;\">\n",
       "      <th></th>\n",
       "      <th>Date</th>\n",
       "      <th>HPI_House_Land</th>\n",
       "      <th>HPI_House</th>\n",
       "      <th>HPI_Land</th>\n",
       "      <th>Index</th>\n",
       "      <th>joinProvince</th>\n",
       "      <th>joinMonth</th>\n",
       "      <th>joinYear</th>\n",
       "    </tr>\n",
       "  </thead>\n",
       "  <tbody>\n",
       "    <tr>\n",
       "      <th>1</th>\n",
       "      <td>Jan-81</td>\n",
       "      <td>38.2</td>\n",
       "      <td>36.1</td>\n",
       "      <td>40.6E</td>\n",
       "      <td>201612=100</td>\n",
       "      <td>Canada</td>\n",
       "      <td>01</td>\n",
       "      <td>1981</td>\n",
       "    </tr>\n",
       "    <tr>\n",
       "      <th>2</th>\n",
       "      <td>Feb-81</td>\n",
       "      <td>38.7</td>\n",
       "      <td>36.5</td>\n",
       "      <td>41.0E</td>\n",
       "      <td>201612=100</td>\n",
       "      <td>Canada</td>\n",
       "      <td>02</td>\n",
       "      <td>1981</td>\n",
       "    </tr>\n",
       "    <tr>\n",
       "      <th>3</th>\n",
       "      <td>Mar-81</td>\n",
       "      <td>39.3</td>\n",
       "      <td>37.3</td>\n",
       "      <td>41.1E</td>\n",
       "      <td>201612=100</td>\n",
       "      <td>Canada</td>\n",
       "      <td>03</td>\n",
       "      <td>1981</td>\n",
       "    </tr>\n",
       "    <tr>\n",
       "      <th>4</th>\n",
       "      <td>Apr-81</td>\n",
       "      <td>39.9</td>\n",
       "      <td>38.1</td>\n",
       "      <td>41.2E</td>\n",
       "      <td>201612=100</td>\n",
       "      <td>Canada</td>\n",
       "      <td>04</td>\n",
       "      <td>1981</td>\n",
       "    </tr>\n",
       "    <tr>\n",
       "      <th>5</th>\n",
       "      <td>May-81</td>\n",
       "      <td>40.6</td>\n",
       "      <td>38.9</td>\n",
       "      <td>41.5E</td>\n",
       "      <td>201612=100</td>\n",
       "      <td>Canada</td>\n",
       "      <td>05</td>\n",
       "      <td>1981</td>\n",
       "    </tr>\n",
       "  </tbody>\n",
       "</table>\n",
       "</div>"
      ],
      "text/plain": [
       "     Date HPI_House_Land HPI_House HPI_Land       Index joinProvince  \\\n",
       "1  Jan-81           38.2      36.1    40.6E  201612=100       Canada   \n",
       "2  Feb-81           38.7      36.5    41.0E  201612=100       Canada   \n",
       "3  Mar-81           39.3      37.3    41.1E  201612=100       Canada   \n",
       "4  Apr-81           39.9      38.1    41.2E  201612=100       Canada   \n",
       "5  May-81           40.6      38.9    41.5E  201612=100       Canada   \n",
       "\n",
       "  joinMonth joinYear  \n",
       "1        01     1981  \n",
       "2        02     1981  \n",
       "3        03     1981  \n",
       "4        04     1981  \n",
       "5        05     1981  "
      ]
     },
     "execution_count": 39,
     "metadata": {},
     "output_type": "execute_result"
    }
   ],
   "source": [
    "newDF2.head()"
   ]
  },
  {
   "cell_type": "markdown",
   "id": "582ece8e-90fd-4d42-a93a-60c3b17288ad",
   "metadata": {},
   "source": [
    "Now that's a pretty clean data set!"
   ]
  },
  {
   "cell_type": "markdown",
   "id": "d99b4c9e-020a-4b41-a3c1-f879dc8b9e43",
   "metadata": {
    "jp-MarkdownHeadingCollapsed": true,
    "tags": []
   },
   "source": [
    "### Export to CSV"
   ]
  },
  {
   "cell_type": "code",
   "execution_count": 40,
   "id": "5999c5d7-4d5d-4025-b762-d4caac7afc58",
   "metadata": {
    "tags": []
   },
   "outputs": [],
   "source": [
    "newDF2.to_csv('Data-Visualization-and-Dashboards-with-Tableau/Clean_data/housing_price_index.csv')"
   ]
  },
  {
   "cell_type": "markdown",
   "id": "91c4ca24-50d6-4368-bb8d-3d7aaf33ab7d",
   "metadata": {
    "tags": []
   },
   "source": [
    "## Dataset 3"
   ]
  },
  {
   "cell_type": "markdown",
   "id": "b878c3af-0313-4541-813f-eb869cb1d7cb",
   "metadata": {
    "jp-MarkdownHeadingCollapsed": true,
    "tags": []
   },
   "source": [
    "### Import dataset"
   ]
  },
  {
   "cell_type": "code",
   "execution_count": 13,
   "id": "e67ef058-e29b-4e57-8895-9908bdcbb9c3",
   "metadata": {},
   "outputs": [],
   "source": [
    "df3 = pd.read_csv('Data-Visualization-and-Dashboards-with-Tableau/Raw_data/office_realestate_index.csv')"
   ]
  },
  {
   "cell_type": "code",
   "execution_count": 23,
   "id": "603e31e0-40da-4722-9e26-0277b1f59616",
   "metadata": {},
   "outputs": [
    {
     "data": {
      "text/plain": [
       "(30968, 5)"
      ]
     },
     "execution_count": 23,
     "metadata": {},
     "output_type": "execute_result"
    }
   ],
   "source": [
    "df3.shape"
   ]
  },
  {
   "cell_type": "code",
   "execution_count": 24,
   "id": "a30773b0-1e27-4032-88b3-4d79735a6a85",
   "metadata": {},
   "outputs": [
    {
     "data": {
      "text/html": [
       "<div>\n",
       "<style scoped>\n",
       "    .dataframe tbody tr th:only-of-type {\n",
       "        vertical-align: middle;\n",
       "    }\n",
       "\n",
       "    .dataframe tbody tr th {\n",
       "        vertical-align: top;\n",
       "    }\n",
       "\n",
       "    .dataframe thead th {\n",
       "        text-align: right;\n",
       "    }\n",
       "</style>\n",
       "<table border=\"1\" class=\"dataframe\">\n",
       "  <thead>\n",
       "    <tr style=\"text-align: right;\">\n",
       "      <th></th>\n",
       "      <th>date</th>\n",
       "      <th>region</th>\n",
       "      <th>property_type</th>\n",
       "      <th>baseline</th>\n",
       "      <th>index_value</th>\n",
       "    </tr>\n",
       "  </thead>\n",
       "  <tbody>\n",
       "    <tr>\n",
       "      <th>0</th>\n",
       "      <td>1981-01</td>\n",
       "      <td>Seven census metropolitan area composite</td>\n",
       "      <td>Office</td>\n",
       "      <td>Index, 2002=100</td>\n",
       "      <td>58.4</td>\n",
       "    </tr>\n",
       "    <tr>\n",
       "      <th>1</th>\n",
       "      <td>1981-01</td>\n",
       "      <td>Seven census metropolitan area composite</td>\n",
       "      <td>Warehouse</td>\n",
       "      <td>Index, 2002=100</td>\n",
       "      <td>53.3</td>\n",
       "    </tr>\n",
       "    <tr>\n",
       "      <th>2</th>\n",
       "      <td>1981-01</td>\n",
       "      <td>Seven census metropolitan area composite</td>\n",
       "      <td>Shopping centre</td>\n",
       "      <td>Index, 2002=100</td>\n",
       "      <td>59.3</td>\n",
       "    </tr>\n",
       "    <tr>\n",
       "      <th>3</th>\n",
       "      <td>1981-01</td>\n",
       "      <td>Seven census metropolitan area composite</td>\n",
       "      <td>Light factory</td>\n",
       "      <td>Index, 2002=100</td>\n",
       "      <td>50.1</td>\n",
       "    </tr>\n",
       "    <tr>\n",
       "      <th>4</th>\n",
       "      <td>1981-01</td>\n",
       "      <td>Seven census metropolitan area composite</td>\n",
       "      <td>School</td>\n",
       "      <td>Index, 2002=100</td>\n",
       "      <td>56.1</td>\n",
       "    </tr>\n",
       "  </tbody>\n",
       "</table>\n",
       "</div>"
      ],
      "text/plain": [
       "      date                                    region    property_type  \\\n",
       "0  1981-01  Seven census metropolitan area composite           Office   \n",
       "1  1981-01  Seven census metropolitan area composite        Warehouse   \n",
       "2  1981-01  Seven census metropolitan area composite  Shopping centre   \n",
       "3  1981-01  Seven census metropolitan area composite    Light factory   \n",
       "4  1981-01  Seven census metropolitan area composite           School   \n",
       "\n",
       "          baseline  index_value  \n",
       "0  Index, 2002=100         58.4  \n",
       "1  Index, 2002=100         53.3  \n",
       "2  Index, 2002=100         59.3  \n",
       "3  Index, 2002=100         50.1  \n",
       "4  Index, 2002=100         56.1  "
      ]
     },
     "execution_count": 24,
     "metadata": {},
     "output_type": "execute_result"
    }
   ],
   "source": [
    "df3.head()"
   ]
  },
  {
   "cell_type": "markdown",
   "id": "dc11410a-c359-4156-8509-46c9f036a99f",
   "metadata": {
    "jp-MarkdownHeadingCollapsed": true,
    "tags": []
   },
   "source": [
    "### Cleaning - Formatting Issues"
   ]
  },
  {
   "cell_type": "markdown",
   "id": "c4f65c28-124d-44e9-ab33-a60ffa99d197",
   "metadata": {},
   "source": [
    "Look for unique values for each row and inspect manually"
   ]
  },
  {
   "cell_type": "code",
   "execution_count": 25,
   "id": "8f07a926-cd6e-4360-89cc-4c221259b97d",
   "metadata": {
    "collapsed": true,
    "jupyter": {
     "outputs_hidden": true,
     "source_hidden": true
    },
    "tags": []
   },
   "outputs": [
    {
     "data": {
      "text/plain": [
       "array(['1981-01', '1981-04', '1981-07', '1981-10', '1982-01', '1982-04',\n",
       "       '1982-07', '1982-10', '1983-01', '1983-04', '1983-07', '1983-10',\n",
       "       '1984-01', '1984-04', '1984-07', '1984-10', '1985-01', '1985-04',\n",
       "       '1985-07', '1985-10', '1986-01', '1986-04', '1986-07', '1986-10',\n",
       "       '1987-01', '1987-04', '1987-07', '1987-10', '1988-01', '1988-04',\n",
       "       '1988-07', '1988-10', '1989-01', '1989-04', '1989-07', '1989-10',\n",
       "       '1990-01', '1990-04', '1990-07', '1990-10', '1991-01', '1991-04',\n",
       "       '1991-07', '1991-10', '1992-01', '1992-04', '1992-07', '1992-10',\n",
       "       '1993-01', '1993-04', '1993-07', '1993-10', '1994-01', '1994-04',\n",
       "       '1994-07', '1994-10', '1995-01', '1995-04', '1995-07', '1995-10',\n",
       "       '1996-01', '1996-04', '1996-07', '1996-10', '1997-01', '1997-04',\n",
       "       '1997-07', '1997-10', '1998-01', '1998-04', '1998-07', '1998-10',\n",
       "       '1999-01', '1999-04', '1999-07', '1999-10', '2000-01', '2000-04',\n",
       "       '2000-07', '2000-10', '2001-01', '2001-04', '2001-07', '2001-10',\n",
       "       '2002-01', '2002-04', '2002-07', '2002-10', '2003-01', '2003-04',\n",
       "       '2003-07', '2003-10', '2004-01', '2004-04', '2004-07', '2004-10',\n",
       "       '2005-01', '2005-04', '2005-07', '2005-10', '2006-01', '2006-04',\n",
       "       '2006-07', '2006-10', '2007-01', '2007-04', '2007-07', '2007-10',\n",
       "       '2008-01', '2008-04', '2008-07', '2008-10', '2009-01', '2009-04',\n",
       "       '2009-07', '2009-10', '2010-01', '2010-04', '2010-07', '2010-10',\n",
       "       '2011-01', '2011-04', '2011-07', '2011-10', '2012-01', '2012-04',\n",
       "       '2012-07', '2012-10', '2013-01', '2013-04', '2013-07', '2013-10',\n",
       "       '2014-01', '2014-04', '2014-07', '2014-10', '2015-01', '2015-04',\n",
       "       '2015-07', '2015-10', '2016-01', '2016-04', '2016-07', '2016-10',\n",
       "       '2017-01', '2017-04', '2017-07', '2017-10'], dtype=object)"
      ]
     },
     "execution_count": 25,
     "metadata": {},
     "output_type": "execute_result"
    }
   ],
   "source": [
    "df3['date'].unique()"
   ]
  },
  {
   "cell_type": "code",
   "execution_count": 26,
   "id": "ae4cb14a-8dbf-413b-8b22-de245dcf0064",
   "metadata": {
    "collapsed": true,
    "jupyter": {
     "outputs_hidden": true
    },
    "tags": []
   },
   "outputs": [
    {
     "data": {
      "text/plain": [
       "array(['Seven census metropolitan area composite', 'Halifax, Nova Scotia',\n",
       "       'Montréal, Quebec',\n",
       "       'Ottawa-Gatineau, Ontario part, Ontario/Quebec',\n",
       "       'Toronto, Ontario', 'Calgary, Alberta', 'Edmonton, Alberta',\n",
       "       'Vancouver, British Columbia'], dtype=object)"
      ]
     },
     "execution_count": 26,
     "metadata": {},
     "output_type": "execute_result"
    }
   ],
   "source": [
    "df3['region'].unique()"
   ]
  },
  {
   "cell_type": "code",
   "execution_count": 32,
   "id": "0e67b073-f2d2-4138-9991-c9c4bf8c380e",
   "metadata": {
    "collapsed": true,
    "jupyter": {
     "outputs_hidden": true
    },
    "tags": []
   },
   "outputs": [
    {
     "data": {
      "text/plain": [
       "<AxesSubplot: xlabel='region', ylabel='Count'>"
      ]
     },
     "execution_count": 32,
     "metadata": {},
     "output_type": "execute_result"
    },
    {
     "data": {
      "image/png": "[encoded data removed]",
      "text/plain": [
       "<Figure size 432x288 with 1 Axes>"
      ]
     },
     "metadata": {
      "needs_background": "light"
     },
     "output_type": "display_data"
    }
   ],
   "source": [
    "sns.histplot(df3['region'])"
   ]
  },
  {
   "cell_type": "code",
   "execution_count": 27,
   "id": "52ba0cbc-6831-4ed8-9119-b4a7fa7a8c0f",
   "metadata": {
    "collapsed": true,
    "jupyter": {
     "outputs_hidden": true
    },
    "tags": []
   },
   "outputs": [
    {
     "data": {
      "text/plain": [
       "array(['Office', 'Warehouse', 'Shopping centre', 'Light factory',\n",
       "       'School', 'Apartment'], dtype=object)"
      ]
     },
     "execution_count": 27,
     "metadata": {},
     "output_type": "execute_result"
    }
   ],
   "source": [
    "df3['property_type'].unique()"
   ]
  },
  {
   "cell_type": "code",
   "execution_count": 28,
   "id": "afd1fc14-f0dd-454b-b3a2-feb183c6c0b6",
   "metadata": {
    "collapsed": true,
    "jupyter": {
     "outputs_hidden": true
    },
    "tags": []
   },
   "outputs": [
    {
     "data": {
      "text/plain": [
       "array(['Index, 2002=100'], dtype=object)"
      ]
     },
     "execution_count": 28,
     "metadata": {},
     "output_type": "execute_result"
    }
   ],
   "source": [
    "df3['baseline'].unique()"
   ]
  },
  {
   "cell_type": "code",
   "execution_count": 29,
   "id": "783ad2f4-6a69-430b-9317-d2290a7cbddf",
   "metadata": {
    "collapsed": true,
    "jupyter": {
     "outputs_hidden": true
    },
    "tags": []
   },
   "outputs": [
    {
     "data": {
      "text/plain": [
       "array([ 58.4,  53.3,  59.3, ..., 243.9, 213.2, 218.3])"
      ]
     },
     "execution_count": 29,
     "metadata": {},
     "output_type": "execute_result"
    }
   ],
   "source": [
    "df3['index_value'].unique()"
   ]
  },
  {
   "cell_type": "code",
   "execution_count": 30,
   "id": "71bed624-8f6a-4e5a-90e6-2852c3eb422f",
   "metadata": {
    "collapsed": true,
    "jupyter": {
     "outputs_hidden": true
    },
    "tags": []
   },
   "outputs": [
    {
     "data": {
      "text/plain": [
       "<AxesSubplot: xlabel='index_value', ylabel='Count'>"
      ]
     },
     "execution_count": 30,
     "metadata": {},
     "output_type": "execute_result"
    },
    {
     "data": {
      "image/png": "[encoded data removed]",
      "text/plain": [
       "<Figure size 432x288 with 1 Axes>"
      ]
     },
     "metadata": {
      "needs_background": "light"
     },
     "output_type": "display_data"
    }
   ],
   "source": [
    "sns.histplot(df3['index_value'])"
   ]
  },
  {
   "cell_type": "markdown",
   "id": "1ab3d3d4-1fd7-403a-88a8-7ab005d30fa2",
   "metadata": {
    "jp-MarkdownHeadingCollapsed": true,
    "tags": []
   },
   "source": [
    "### Cleaning - Missing Values"
   ]
  },
  {
   "cell_type": "markdown",
   "id": "21d969dc-ef16-4996-a374-29eba2509987",
   "metadata": {},
   "source": [
    "Inspect null values and see if they should be assigned another value or if rows/columns should be dropped"
   ]
  },
  {
   "cell_type": "code",
   "execution_count": 33,
   "id": "87e0147a-23de-402d-8ef5-418149d0bc43",
   "metadata": {},
   "outputs": [
    {
     "name": "stdout",
     "output_type": "stream",
     "text": [
      "<class 'pandas.core.frame.DataFrame'>\n",
      "RangeIndex: 30968 entries, 0 to 30967\n",
      "Data columns (total 5 columns):\n",
      " #   Column         Non-Null Count  Dtype  \n",
      "---  ------         --------------  -----  \n",
      " 0   date           30968 non-null  object \n",
      " 1   region         30968 non-null  object \n",
      " 2   property_type  30968 non-null  object \n",
      " 3   baseline       30968 non-null  object \n",
      " 4   index_value    30968 non-null  float64\n",
      "dtypes: float64(1), object(4)\n",
      "memory usage: 1.2+ MB\n"
     ]
    }
   ],
   "source": [
    "df3.info()"
   ]
  },
  {
   "cell_type": "markdown",
   "id": "15b33cad-12d0-4b1b-83d6-34e625a3909a",
   "metadata": {},
   "source": [
    "No duplicate values"
   ]
  },
  {
   "cell_type": "markdown",
   "id": "7f00716d-0f00-4c15-b395-25e418e1e70e",
   "metadata": {
    "tags": []
   },
   "source": [
    "### Cleaning - Duplicate Values"
   ]
  },
  {
   "cell_type": "code",
   "execution_count": 34,
   "id": "ab9052ed-dfd9-4904-84b7-647fa7fd0a4a",
   "metadata": {},
   "outputs": [
    {
     "data": {
      "text/html": [
       "<div>\n",
       "<style scoped>\n",
       "    .dataframe tbody tr th:only-of-type {\n",
       "        vertical-align: middle;\n",
       "    }\n",
       "\n",
       "    .dataframe tbody tr th {\n",
       "        vertical-align: top;\n",
       "    }\n",
       "\n",
       "    .dataframe thead th {\n",
       "        text-align: right;\n",
       "    }\n",
       "</style>\n",
       "<table border=\"1\" class=\"dataframe\">\n",
       "  <thead>\n",
       "    <tr style=\"text-align: right;\">\n",
       "      <th></th>\n",
       "      <th>date</th>\n",
       "      <th>region</th>\n",
       "      <th>property_type</th>\n",
       "      <th>baseline</th>\n",
       "      <th>index_value</th>\n",
       "    </tr>\n",
       "  </thead>\n",
       "  <tbody>\n",
       "    <tr>\n",
       "      <th>114</th>\n",
       "      <td>1981-01</td>\n",
       "      <td>Calgary, Alberta</td>\n",
       "      <td>Warehouse</td>\n",
       "      <td>Index, 2002=100</td>\n",
       "      <td>67.0</td>\n",
       "    </tr>\n",
       "    <tr>\n",
       "      <th>123</th>\n",
       "      <td>1981-01</td>\n",
       "      <td>Calgary, Alberta</td>\n",
       "      <td>Light factory</td>\n",
       "      <td>Index, 2002=100</td>\n",
       "      <td>61.5</td>\n",
       "    </tr>\n",
       "    <tr>\n",
       "      <th>176</th>\n",
       "      <td>1981-01</td>\n",
       "      <td>Vancouver, British Columbia</td>\n",
       "      <td>School</td>\n",
       "      <td>Index, 2002=100</td>\n",
       "      <td>58.6</td>\n",
       "    </tr>\n",
       "    <tr>\n",
       "      <th>241</th>\n",
       "      <td>1981-04</td>\n",
       "      <td>Ottawa-Gatineau, Ontario part, Ontario/Quebec</td>\n",
       "      <td>Warehouse</td>\n",
       "      <td>Index, 2002=100</td>\n",
       "      <td>51.5</td>\n",
       "    </tr>\n",
       "    <tr>\n",
       "      <th>299</th>\n",
       "      <td>1981-04</td>\n",
       "      <td>Calgary, Alberta</td>\n",
       "      <td>Shopping centre</td>\n",
       "      <td>Index, 2002=100</td>\n",
       "      <td>70.4</td>\n",
       "    </tr>\n",
       "    <tr>\n",
       "      <th>...</th>\n",
       "      <td>...</td>\n",
       "      <td>...</td>\n",
       "      <td>...</td>\n",
       "      <td>...</td>\n",
       "      <td>...</td>\n",
       "    </tr>\n",
       "    <tr>\n",
       "      <th>28610</th>\n",
       "      <td>2015-04</td>\n",
       "      <td>Halifax, Nova Scotia</td>\n",
       "      <td>Shopping centre</td>\n",
       "      <td>Index, 2002=100</td>\n",
       "      <td>145.1</td>\n",
       "    </tr>\n",
       "    <tr>\n",
       "      <th>29049</th>\n",
       "      <td>2015-10</td>\n",
       "      <td>Halifax, Nova Scotia</td>\n",
       "      <td>Light factory</td>\n",
       "      <td>Index, 2002=100</td>\n",
       "      <td>170.2</td>\n",
       "    </tr>\n",
       "    <tr>\n",
       "      <th>29777</th>\n",
       "      <td>2016-07</td>\n",
       "      <td>Toronto, Ontario</td>\n",
       "      <td>Warehouse</td>\n",
       "      <td>Index, 2002=100</td>\n",
       "      <td>150.3</td>\n",
       "    </tr>\n",
       "    <tr>\n",
       "      <th>30535</th>\n",
       "      <td>2017-04</td>\n",
       "      <td>Vancouver, British Columbia</td>\n",
       "      <td>Apartment</td>\n",
       "      <td>Index, 2002=100</td>\n",
       "      <td>186.2</td>\n",
       "    </tr>\n",
       "    <tr>\n",
       "      <th>30867</th>\n",
       "      <td>2017-10</td>\n",
       "      <td>Toronto, Ontario</td>\n",
       "      <td>Light factory</td>\n",
       "      <td>Index, 2002=100</td>\n",
       "      <td>176.1</td>\n",
       "    </tr>\n",
       "  </tbody>\n",
       "</table>\n",
       "<p>587 rows × 5 columns</p>\n",
       "</div>"
      ],
      "text/plain": [
       "          date                                         region  \\\n",
       "114    1981-01                               Calgary, Alberta   \n",
       "123    1981-01                               Calgary, Alberta   \n",
       "176    1981-01                    Vancouver, British Columbia   \n",
       "241    1981-04  Ottawa-Gatineau, Ontario part, Ontario/Quebec   \n",
       "299    1981-04                               Calgary, Alberta   \n",
       "...        ...                                            ...   \n",
       "28610  2015-04                           Halifax, Nova Scotia   \n",
       "29049  2015-10                           Halifax, Nova Scotia   \n",
       "29777  2016-07                               Toronto, Ontario   \n",
       "30535  2017-04                    Vancouver, British Columbia   \n",
       "30867  2017-10                               Toronto, Ontario   \n",
       "\n",
       "         property_type         baseline  index_value  \n",
       "114          Warehouse  Index, 2002=100         67.0  \n",
       "123      Light factory  Index, 2002=100         61.5  \n",
       "176             School  Index, 2002=100         58.6  \n",
       "241          Warehouse  Index, 2002=100         51.5  \n",
       "299    Shopping centre  Index, 2002=100         70.4  \n",
       "...                ...              ...          ...  \n",
       "28610  Shopping centre  Index, 2002=100        145.1  \n",
       "29049    Light factory  Index, 2002=100        170.2  \n",
       "29777        Warehouse  Index, 2002=100        150.3  \n",
       "30535        Apartment  Index, 2002=100        186.2  \n",
       "30867    Light factory  Index, 2002=100        176.1  \n",
       "\n",
       "[587 rows x 5 columns]"
      ]
     },
     "execution_count": 34,
     "metadata": {},
     "output_type": "execute_result"
    }
   ],
   "source": [
    "df3[df3.duplicated()]"
   ]
  },
  {
   "cell_type": "markdown",
   "id": "901f3e81-34dd-4741-bcb4-c10c79e55d92",
   "metadata": {},
   "source": [
    "This dataset has some duplicates, let's confirm and remove them"
   ]
  },
  {
   "cell_type": "code",
   "execution_count": 14,
   "id": "7a3e5cbe-a0ed-4c1f-85f1-9c7306fda0cb",
   "metadata": {},
   "outputs": [
    {
     "name": "stdout",
     "output_type": "stream",
     "text": [
      "<class 'pandas.core.frame.DataFrame'>\n",
      "Int64Index: 30381 entries, 0 to 30967\n",
      "Data columns (total 5 columns):\n",
      " #   Column         Non-Null Count  Dtype  \n",
      "---  ------         --------------  -----  \n",
      " 0   date           30381 non-null  object \n",
      " 1   region         30381 non-null  object \n",
      " 2   property_type  30381 non-null  object \n",
      " 3   baseline       30381 non-null  object \n",
      " 4   index_value    30381 non-null  float64\n",
      "dtypes: float64(1), object(4)\n",
      "memory usage: 1.4+ MB\n"
     ]
    }
   ],
   "source": [
    "df3.drop_duplicates(inplace=True)\n",
    "df3.info()"
   ]
  },
  {
   "cell_type": "markdown",
   "id": "f2447fc5-e5c5-49bb-b7a2-9325e7532b7f",
   "metadata": {
    "jp-MarkdownHeadingCollapsed": true,
    "tags": []
   },
   "source": [
    "### Formatting JOIN columns"
   ]
  },
  {
   "cell_type": "code",
   "execution_count": 16,
   "id": "b7ccb4c3-7e1d-4539-a496-75d533d866be",
   "metadata": {},
   "outputs": [
    {
     "name": "stdout",
     "output_type": "stream",
     "text": [
      "<class 'pandas.core.frame.DataFrame'>\n",
      "Int64Index: 30381 entries, 0 to 30967\n",
      "Data columns (total 8 columns):\n",
      " #   Column         Non-Null Count  Dtype  \n",
      "---  ------         --------------  -----  \n",
      " 0   date           30381 non-null  object \n",
      " 1   region         30381 non-null  object \n",
      " 2   property_type  30381 non-null  object \n",
      " 3   baseline       30381 non-null  object \n",
      " 4   index_value    30381 non-null  float64\n",
      " 5   joinYear       30381 non-null  object \n",
      " 6   joinMonth      30381 non-null  object \n",
      " 7   joinProvince   30381 non-null  object \n",
      "dtypes: float64(1), object(7)\n",
      "memory usage: 2.1+ MB\n"
     ]
    }
   ],
   "source": [
    "#Making a year column\n",
    "df3['joinYear']=df3['date'].str[:4]\n",
    "\n",
    "#Making a Month Column\n",
    "df3['joinMonth']=df3['date'].str[-2:]\n",
    "\n",
    "# Making a Province Column\n",
    "## Canada = Canada, every other will be down to a province\n",
    "## In that case the region values are all Canada so we'll keep them like that\n",
    "df3['joinProvince']=df3['region']\n",
    "\n",
    "X='Seven census metropolitan area composite'\n",
    "Y='Canada'\n",
    "df3['joinProvince'].replace(X, Y, inplace=True)\n",
    "\n",
    "X='Halifax, Nova Scotia'\n",
    "Y='NS'\n",
    "df3['joinProvince'].replace(X, Y, inplace=True)\n",
    "\n",
    "X='Montréal, Quebec'\n",
    "Y='QC'\n",
    "df3['joinProvince'].replace(X, Y, inplace=True)\n",
    "\n",
    "X='Ottawa-Gatineau, Ontario part, Ontario/Quebec'\n",
    "Y='ON'\n",
    "df3['joinProvince'].replace(X, Y, inplace=True)\n",
    "\n",
    "X='Toronto, Ontario'\n",
    "Y='ON'\n",
    "df3['joinProvince'].replace(X, Y, inplace=True)\n",
    "\n",
    "X='Calgary, Alberta'\n",
    "Y='AB'\n",
    "df3['joinProvince'].replace(X, Y, inplace=True)\n",
    "\n",
    "X='Edmonton, Alberta'\n",
    "Y='AB'\n",
    "df3['joinProvince'].replace(X, Y, inplace=True)\n",
    "\n",
    "X='Vancouver, British Columbia'\n",
    "Y='BC'\n",
    "df3['joinProvince'].replace(X, Y, inplace=True)\n",
    "\n",
    "df3.info()"
   ]
  },
  {
   "cell_type": "markdown",
   "id": "e033bf19-6545-4e60-81d1-23ba70ac6455",
   "metadata": {
    "jp-MarkdownHeadingCollapsed": true,
    "tags": []
   },
   "source": [
    "### Export Dataset"
   ]
  },
  {
   "cell_type": "code",
   "execution_count": 17,
   "id": "a6f856a6-88fe-49cc-9800-0cdc3914ac95",
   "metadata": {
    "tags": []
   },
   "outputs": [],
   "source": [
    "df3.to_csv('Data-Visualization-and-Dashboards-with-Tableau/Clean_data/office_realestate_index.csv')"
   ]
  },
  {
   "cell_type": "markdown",
   "id": "dcce27b8-8ae9-431b-b550-fd2fba63f29f",
   "metadata": {
    "tags": []
   },
   "source": [
    "## Dataset 4 - Real Estate Numbers"
   ]
  },
  {
   "cell_type": "markdown",
   "id": "e0765466-a556-4827-a5b3-9130401a13af",
   "metadata": {
    "jp-MarkdownHeadingCollapsed": true,
    "tags": []
   },
   "source": [
    "### Import dataset"
   ]
  },
  {
   "cell_type": "code",
   "execution_count": 20,
   "id": "e4c227dd-35ba-4777-bfda-72e6a6babbe7",
   "metadata": {},
   "outputs": [],
   "source": [
    "df4 = pd.read_csv('Data-Visualization-and-Dashboards-with-Tableau/Raw_data/real_estate_numbers.csv')"
   ]
  },
  {
   "cell_type": "code",
   "execution_count": 19,
   "id": "222814e0-6e0a-434b-ba3e-3d295a229972",
   "metadata": {},
   "outputs": [
    {
     "data": {
      "text/plain": [
       "(12342, 16)"
      ]
     },
     "execution_count": 19,
     "metadata": {},
     "output_type": "execute_result"
    }
   ],
   "source": [
    "df4.shape"
   ]
  },
  {
   "cell_type": "code",
   "execution_count": 21,
   "id": "1fab4292-9afa-4094-a0ea-8ef3f64b99a8",
   "metadata": {},
   "outputs": [
    {
     "data": {
      "text/html": [
       "<div>\n",
       "<style scoped>\n",
       "    .dataframe tbody tr th:only-of-type {\n",
       "        vertical-align: middle;\n",
       "    }\n",
       "\n",
       "    .dataframe tbody tr th {\n",
       "        vertical-align: top;\n",
       "    }\n",
       "\n",
       "    .dataframe thead th {\n",
       "        text-align: right;\n",
       "    }\n",
       "</style>\n",
       "<table border=\"1\" class=\"dataframe\">\n",
       "  <thead>\n",
       "    <tr style=\"text-align: right;\">\n",
       "      <th></th>\n",
       "      <th>REF_DATE</th>\n",
       "      <th>GEO</th>\n",
       "      <th>DGUID</th>\n",
       "      <th>Housing estimates</th>\n",
       "      <th>Type of unit</th>\n",
       "      <th>UOM</th>\n",
       "      <th>UOM_ID</th>\n",
       "      <th>SCALAR_FACTOR</th>\n",
       "      <th>SCALAR_ID</th>\n",
       "      <th>VECTOR</th>\n",
       "      <th>COORDINATE</th>\n",
       "      <th>VALUE</th>\n",
       "      <th>STATUS</th>\n",
       "      <th>SYMBOL</th>\n",
       "      <th>TERMINATED</th>\n",
       "      <th>DECIMALS</th>\n",
       "    </tr>\n",
       "  </thead>\n",
       "  <tbody>\n",
       "    <tr>\n",
       "      <th>0</th>\n",
       "      <td>1955</td>\n",
       "      <td>Canada</td>\n",
       "      <td>2016A000011124</td>\n",
       "      <td>Housing starts</td>\n",
       "      <td>Total units</td>\n",
       "      <td>Units</td>\n",
       "      <td>300</td>\n",
       "      <td>units</td>\n",
       "      <td>0</td>\n",
       "      <td>v730579</td>\n",
       "      <td>1.1.1</td>\n",
       "      <td>138276</td>\n",
       "      <td>NaN</td>\n",
       "      <td>NaN</td>\n",
       "      <td>NaN</td>\n",
       "      <td>0</td>\n",
       "    </tr>\n",
       "    <tr>\n",
       "      <th>1</th>\n",
       "      <td>1955</td>\n",
       "      <td>Canada</td>\n",
       "      <td>2016A000011124</td>\n",
       "      <td>Housing starts</td>\n",
       "      <td>Single-detached</td>\n",
       "      <td>Units</td>\n",
       "      <td>300</td>\n",
       "      <td>units</td>\n",
       "      <td>0</td>\n",
       "      <td>v730524</td>\n",
       "      <td>1.1.2</td>\n",
       "      <td>99003</td>\n",
       "      <td>NaN</td>\n",
       "      <td>NaN</td>\n",
       "      <td>NaN</td>\n",
       "      <td>0</td>\n",
       "    </tr>\n",
       "    <tr>\n",
       "      <th>2</th>\n",
       "      <td>1955</td>\n",
       "      <td>Canada</td>\n",
       "      <td>2016A000011124</td>\n",
       "      <td>Housing starts</td>\n",
       "      <td>Multiples</td>\n",
       "      <td>Units</td>\n",
       "      <td>300</td>\n",
       "      <td>units</td>\n",
       "      <td>0</td>\n",
       "      <td>v730568</td>\n",
       "      <td>1.1.4</td>\n",
       "      <td>39273</td>\n",
       "      <td>NaN</td>\n",
       "      <td>NaN</td>\n",
       "      <td>NaN</td>\n",
       "      <td>0</td>\n",
       "    </tr>\n",
       "    <tr>\n",
       "      <th>3</th>\n",
       "      <td>1955</td>\n",
       "      <td>Canada</td>\n",
       "      <td>2016A000011124</td>\n",
       "      <td>Housing starts</td>\n",
       "      <td>Semi-detached</td>\n",
       "      <td>Units</td>\n",
       "      <td>300</td>\n",
       "      <td>units</td>\n",
       "      <td>0</td>\n",
       "      <td>v730535</td>\n",
       "      <td>1.1.3</td>\n",
       "      <td>10606</td>\n",
       "      <td>NaN</td>\n",
       "      <td>NaN</td>\n",
       "      <td>NaN</td>\n",
       "      <td>0</td>\n",
       "    </tr>\n",
       "    <tr>\n",
       "      <th>4</th>\n",
       "      <td>1955</td>\n",
       "      <td>Canada</td>\n",
       "      <td>2016A000011124</td>\n",
       "      <td>Housing starts</td>\n",
       "      <td>Row</td>\n",
       "      <td>Units</td>\n",
       "      <td>300</td>\n",
       "      <td>units</td>\n",
       "      <td>0</td>\n",
       "      <td>v730546</td>\n",
       "      <td>1.1.5</td>\n",
       "      <td>1909</td>\n",
       "      <td>NaN</td>\n",
       "      <td>NaN</td>\n",
       "      <td>NaN</td>\n",
       "      <td>0</td>\n",
       "    </tr>\n",
       "  </tbody>\n",
       "</table>\n",
       "</div>"
      ],
      "text/plain": [
       "   REF_DATE     GEO           DGUID Housing estimates     Type of unit    UOM  \\\n",
       "0      1955  Canada  2016A000011124    Housing starts      Total units  Units   \n",
       "1      1955  Canada  2016A000011124    Housing starts  Single-detached  Units   \n",
       "2      1955  Canada  2016A000011124    Housing starts        Multiples  Units   \n",
       "3      1955  Canada  2016A000011124    Housing starts    Semi-detached  Units   \n",
       "4      1955  Canada  2016A000011124    Housing starts              Row  Units   \n",
       "\n",
       "   UOM_ID SCALAR_FACTOR  SCALAR_ID   VECTOR COORDINATE   VALUE  STATUS  \\\n",
       "0     300        units           0  v730579      1.1.1  138276     NaN   \n",
       "1     300        units           0  v730524      1.1.2   99003     NaN   \n",
       "2     300        units           0  v730568      1.1.4   39273     NaN   \n",
       "3     300        units           0  v730535      1.1.3   10606     NaN   \n",
       "4     300        units           0  v730546      1.1.5    1909     NaN   \n",
       "\n",
       "   SYMBOL  TERMINATED  DECIMALS  \n",
       "0     NaN         NaN         0  \n",
       "1     NaN         NaN         0  \n",
       "2     NaN         NaN         0  \n",
       "3     NaN         NaN         0  \n",
       "4     NaN         NaN         0  "
      ]
     },
     "execution_count": 21,
     "metadata": {},
     "output_type": "execute_result"
    }
   ],
   "source": [
    "df4.head()"
   ]
  },
  {
   "cell_type": "markdown",
   "id": "62e7555a-3351-48e5-a432-8a300d77819a",
   "metadata": {
    "tags": []
   },
   "source": [
    "### Cleaning - Formatting Issues"
   ]
  },
  {
   "cell_type": "markdown",
   "id": "f6c9e1c3-6104-4f7c-ab4c-13d933e52c7f",
   "metadata": {},
   "source": [
    "Look for unique values for each row and inspect manually"
   ]
  },
  {
   "cell_type": "code",
   "execution_count": 38,
   "id": "e113646f-1d4a-4285-a539-94cc48889591",
   "metadata": {
    "collapsed": true,
    "jupyter": {
     "outputs_hidden": true
    },
    "tags": []
   },
   "outputs": [
    {
     "data": {
      "text/plain": [
       "array([1955, 1956, 1957, 1958, 1959, 1960, 1961, 1962, 1963, 1964, 1965,\n",
       "       1966, 1967, 1968, 1969, 1970, 1971, 1972, 1973, 1974, 1975, 1976,\n",
       "       1977, 1978, 1979, 1980, 1981, 1982, 1983, 1984, 1985, 1986, 1987,\n",
       "       1988, 1989, 1990, 1991, 1992, 1993, 1994, 1995, 1996, 1997, 1998,\n",
       "       1999, 2000, 2001, 2002, 2003, 2004, 2005, 2006, 2007, 2008, 2009,\n",
       "       2010, 2011, 2012, 2013, 2014, 2015, 2016, 2017, 2018, 2019],\n",
       "      dtype=int64)"
      ]
     },
     "execution_count": 38,
     "metadata": {},
     "output_type": "execute_result"
    }
   ],
   "source": [
    "df4['REF_DATE'].unique()"
   ]
  },
  {
   "cell_type": "markdown",
   "id": "f79f4184-fce8-41ae-930d-937a5edc23c5",
   "metadata": {},
   "source": [
    "Could be renamed to year?"
   ]
  },
  {
   "cell_type": "code",
   "execution_count": 22,
   "id": "8faceac8-ea58-4d66-a3d3-74740485f79b",
   "metadata": {},
   "outputs": [],
   "source": [
    "df4.rename(columns={'REF_DATE': 'year'}, inplace=True)"
   ]
  },
  {
   "cell_type": "code",
   "execution_count": 39,
   "id": "18bcd744-7f67-452f-b6eb-2263c4d476be",
   "metadata": {
    "tags": []
   },
   "outputs": [
    {
     "data": {
      "text/plain": [
       "array(['Canada', 'Newfoundland and Labrador', 'Prince Edward Island',\n",
       "       'Nova Scotia', 'New Brunswick', 'Quebec', 'Ontario', 'Manitoba',\n",
       "       'Saskatchewan', 'Alberta', 'British Columbia'], dtype=object)"
      ]
     },
     "execution_count": 39,
     "metadata": {},
     "output_type": "execute_result"
    }
   ],
   "source": [
    "df4['GEO'].unique()"
   ]
  },
  {
   "cell_type": "code",
   "execution_count": 40,
   "id": "07b7be1d-06cf-493b-b3c3-d7f924251ffc",
   "metadata": {
    "collapsed": true,
    "jupyter": {
     "outputs_hidden": true
    },
    "tags": []
   },
   "outputs": [
    {
     "data": {
      "text/plain": [
       "array(['2016A000011124', '2016A000210', '2016A000211', '2016A000212',\n",
       "       '2016A000213', '2016A000224', '2016A000235', '2016A000246',\n",
       "       '2016A000247', '2016A000248', '2016A000259'], dtype=object)"
      ]
     },
     "execution_count": 40,
     "metadata": {},
     "output_type": "execute_result"
    }
   ],
   "source": [
    "df4['DGUID'].unique()"
   ]
  },
  {
   "cell_type": "code",
   "execution_count": 41,
   "id": "f93bed7c-97af-4293-8797-67222882fe9e",
   "metadata": {
    "collapsed": true,
    "jupyter": {
     "outputs_hidden": true
    },
    "tags": []
   },
   "outputs": [
    {
     "data": {
      "text/plain": [
       "array(['Housing starts', 'Housing completions',\n",
       "       'Housing under construction'], dtype=object)"
      ]
     },
     "execution_count": 41,
     "metadata": {},
     "output_type": "execute_result"
    }
   ],
   "source": [
    "df4['Housing estimates'].unique()"
   ]
  },
  {
   "cell_type": "code",
   "execution_count": 42,
   "id": "9546363a-0292-422d-9665-e36be3bb30d0",
   "metadata": {
    "collapsed": true,
    "jupyter": {
     "outputs_hidden": true
    },
    "tags": []
   },
   "outputs": [
    {
     "data": {
      "text/plain": [
       "array(['Total units', 'Single-detached', 'Multiples', 'Semi-detached',\n",
       "       'Row', 'Apartment and other unit types'], dtype=object)"
      ]
     },
     "execution_count": 42,
     "metadata": {},
     "output_type": "execute_result"
    }
   ],
   "source": [
    "df4['Type of unit'].unique()"
   ]
  },
  {
   "cell_type": "code",
   "execution_count": 43,
   "id": "39717851-d1e1-470e-859d-6bff87ec2f78",
   "metadata": {
    "tags": []
   },
   "outputs": [
    {
     "data": {
      "text/plain": [
       "array(['Units'], dtype=object)"
      ]
     },
     "execution_count": 43,
     "metadata": {},
     "output_type": "execute_result"
    }
   ],
   "source": [
    "df4['UOM'].unique()"
   ]
  },
  {
   "cell_type": "markdown",
   "id": "c495ce9e-2033-47b9-858c-2db1db8d633b",
   "metadata": {},
   "source": [
    "All the same values.. redundant?"
   ]
  },
  {
   "cell_type": "code",
   "execution_count": 44,
   "id": "b893d63e-4a75-43c5-95a3-f480df10d796",
   "metadata": {
    "tags": []
   },
   "outputs": [
    {
     "data": {
      "text/plain": [
       "array([300], dtype=int64)"
      ]
     },
     "execution_count": 44,
     "metadata": {},
     "output_type": "execute_result"
    }
   ],
   "source": [
    "df4['UOM_ID'].unique()"
   ]
  },
  {
   "cell_type": "markdown",
   "id": "de71c4b7-fe12-42e5-b1d7-530980d9ecf9",
   "metadata": {},
   "source": [
    "All the same values.. redundant?"
   ]
  },
  {
   "cell_type": "code",
   "execution_count": 45,
   "id": "bf6fa1e6-b64b-4491-8d23-5c20c7639257",
   "metadata": {
    "tags": []
   },
   "outputs": [
    {
     "data": {
      "text/plain": [
       "array(['units ', 'units'], dtype=object)"
      ]
     },
     "execution_count": 45,
     "metadata": {},
     "output_type": "execute_result"
    }
   ],
   "source": [
    "df4['SCALAR_FACTOR'].unique()"
   ]
  },
  {
   "cell_type": "markdown",
   "id": "3c74cf0b-0631-42e8-9cc9-a75158690593",
   "metadata": {},
   "source": [
    "All the same values.. redundant? If not, correct the formatting issue"
   ]
  },
  {
   "cell_type": "code",
   "execution_count": 46,
   "id": "275247c3-dedf-4d65-b889-bb23d1f95869",
   "metadata": {
    "tags": []
   },
   "outputs": [
    {
     "data": {
      "text/plain": [
       "array([0], dtype=int64)"
      ]
     },
     "execution_count": 46,
     "metadata": {},
     "output_type": "execute_result"
    }
   ],
   "source": [
    "df4['SCALAR_ID'].unique()"
   ]
  },
  {
   "cell_type": "markdown",
   "id": "04b1b9af-6af4-4e55-895c-2a11f0e606cc",
   "metadata": {},
   "source": [
    "All the same values.. redundant? If not, correct the formatting issue"
   ]
  },
  {
   "cell_type": "code",
   "execution_count": 47,
   "id": "d27050d2-2c79-4c79-9f6d-58961cdfd2d8",
   "metadata": {
    "collapsed": true,
    "jupyter": {
     "outputs_hidden": true
    },
    "tags": []
   },
   "outputs": [
    {
     "data": {
      "text/plain": [
       "array(['v730579', 'v730524', 'v730568', 'v730535', 'v730546', 'v730557',\n",
       "       'v732453', 'v732398', 'v732442', 'v732409', 'v732420', 'v732431',\n",
       "       'v730580', 'v730525', 'v730569', 'v730536', 'v730547', 'v730558',\n",
       "       'v732454', 'v732399', 'v732443', 'v732410', 'v732421', 'v732432',\n",
       "       'v730582', 'v730527', 'v730571', 'v730538', 'v730549', 'v730560',\n",
       "       'v732456', 'v732401', 'v732445', 'v732412', 'v732423', 'v732434',\n",
       "       'v730583', 'v730528', 'v730572', 'v730539', 'v730550', 'v730561',\n",
       "       'v732457', 'v732402', 'v732446', 'v732413', 'v732424', 'v732435',\n",
       "       'v730584', 'v730529', 'v730573', 'v730540', 'v730551', 'v730562',\n",
       "       'v732458', 'v732403', 'v732447', 'v732414', 'v732425', 'v732436',\n",
       "       'v730585', 'v730530', 'v730574', 'v730541', 'v730552', 'v730563',\n",
       "       'v732459', 'v732404', 'v732448', 'v732415', 'v732426', 'v732437',\n",
       "       'v730586', 'v730531', 'v730575', 'v730542', 'v730553', 'v730564',\n",
       "       'v732460', 'v732405', 'v732449', 'v732416', 'v732427', 'v732438',\n",
       "       'v730587', 'v730532', 'v730576', 'v730543', 'v730554', 'v730565',\n",
       "       'v732461', 'v732406', 'v732450', 'v732417', 'v732428', 'v732439',\n",
       "       'v730588', 'v730533', 'v730577', 'v730544', 'v730555', 'v730566',\n",
       "       'v732462', 'v732407', 'v732451', 'v732418', 'v732429', 'v732440',\n",
       "       'v730589', 'v730534', 'v730578', 'v730545', 'v730556', 'v730567',\n",
       "       'v732463', 'v732408', 'v732452', 'v732419', 'v732430', 'v732441',\n",
       "       'v730581', 'v730526', 'v730570', 'v730537', 'v730548', 'v730559',\n",
       "       'v732455', 'v732400', 'v732444', 'v732411', 'v732422', 'v732433',\n",
       "       'v731659', 'v731604', 'v731648', 'v731615', 'v731626', 'v731637',\n",
       "       'v731660', 'v731605', 'v731649', 'v731616', 'v731627', 'v731638',\n",
       "       'v731662', 'v731607', 'v731651', 'v731618', 'v731629', 'v731640',\n",
       "       'v731663', 'v731608', 'v731652', 'v731619', 'v731630', 'v731641',\n",
       "       'v731664', 'v731609', 'v731653', 'v731620', 'v731631', 'v731642',\n",
       "       'v731665', 'v731610', 'v731654', 'v731621', 'v731632', 'v731643',\n",
       "       'v731666', 'v731611', 'v731655', 'v731622', 'v731633', 'v731644',\n",
       "       'v731667', 'v731612', 'v731656', 'v731623', 'v731634', 'v731645',\n",
       "       'v731668', 'v731613', 'v731657', 'v731624', 'v731635', 'v731646',\n",
       "       'v731669', 'v731614', 'v731658', 'v731625', 'v731636', 'v731647',\n",
       "       'v731661', 'v731606', 'v731650', 'v731617', 'v731628', 'v731639'],\n",
       "      dtype=object)"
      ]
     },
     "execution_count": 47,
     "metadata": {},
     "output_type": "execute_result"
    }
   ],
   "source": [
    "df4['VECTOR'].unique()"
   ]
  },
  {
   "cell_type": "markdown",
   "id": "2e718bc0-ded8-419d-b6e8-9027810f670e",
   "metadata": {
    "tags": []
   },
   "source": [
    "Not sure what this field is, but formatting looks okay"
   ]
  },
  {
   "cell_type": "code",
   "execution_count": 49,
   "id": "1c89da71-18b9-4d6d-8891-fbaecabe3cde",
   "metadata": {
    "collapsed": true,
    "jupyter": {
     "outputs_hidden": true
    },
    "tags": []
   },
   "outputs": [
    {
     "data": {
      "text/plain": [
       "array(['1.1.1', '1.1.2', '1.1.4', '1.1.3', '1.1.5', '1.1.6', '1.3.1',\n",
       "       '1.3.2', '1.3.4', '1.3.3', '1.3.5', '1.3.6', '2.1.1', '2.1.2',\n",
       "       '2.1.4', '2.1.3', '2.1.5', '2.1.6', '2.3.1', '2.3.2', '2.3.4',\n",
       "       '2.3.3', '2.3.5', '2.3.6', '3.1.1', '3.1.2', '3.1.4', '3.1.3',\n",
       "       '3.1.5', '3.1.6', '3.3.1', '3.3.2', '3.3.4', '3.3.3', '3.3.5',\n",
       "       '3.3.6', '4.1.1', '4.1.2', '4.1.4', '4.1.3', '4.1.5', '4.1.6',\n",
       "       '4.3.1', '4.3.2', '4.3.4', '4.3.3', '4.3.5', '4.3.6', '5.1.1',\n",
       "       '5.1.2', '5.1.4', '5.1.3', '5.1.5', '5.1.6', '5.3.1', '5.3.2',\n",
       "       '5.3.4', '5.3.3', '5.3.5', '5.3.6', '6.1.1', '6.1.2', '6.1.4',\n",
       "       '6.1.3', '6.1.5', '6.1.6', '6.3.1', '6.3.2', '6.3.4', '6.3.3',\n",
       "       '6.3.5', '6.3.6', '7.1.1', '7.1.2', '7.1.4', '7.1.3', '7.1.5',\n",
       "       '7.1.6', '7.3.1', '7.3.2', '7.3.4', '7.3.3', '7.3.5', '7.3.6',\n",
       "       '8.1.1', '8.1.2', '8.1.4', '8.1.3', '8.1.5', '8.1.6', '8.3.1',\n",
       "       '8.3.2', '8.3.4', '8.3.3', '8.3.5', '8.3.6', '9.1.1', '9.1.2',\n",
       "       '9.1.4', '9.1.3', '9.1.5', '9.1.6', '9.3.1', '9.3.2', '9.3.4',\n",
       "       '9.3.3', '9.3.5', '9.3.6', '10.1.1', '10.1.2', '10.1.4', '10.1.3',\n",
       "       '10.1.5', '10.1.6', '10.3.1', '10.3.2', '10.3.4', '10.3.3',\n",
       "       '10.3.5', '10.3.6', '11.1.1', '11.1.2', '11.1.4', '11.1.3',\n",
       "       '11.1.5', '11.1.6', '11.3.1', '11.3.2', '11.3.4', '11.3.3',\n",
       "       '11.3.5', '11.3.6', '1.2.1', '1.2.2', '1.2.4', '1.2.3', '1.2.5',\n",
       "       '1.2.6', '2.2.1', '2.2.2', '2.2.4', '2.2.3', '2.2.5', '2.2.6',\n",
       "       '3.2.1', '3.2.2', '3.2.4', '3.2.3', '3.2.5', '3.2.6', '4.2.1',\n",
       "       '4.2.2', '4.2.4', '4.2.3', '4.2.5', '4.2.6', '5.2.1', '5.2.2',\n",
       "       '5.2.4', '5.2.3', '5.2.5', '5.2.6', '6.2.1', '6.2.2', '6.2.4',\n",
       "       '6.2.3', '6.2.5', '6.2.6', '7.2.1', '7.2.2', '7.2.4', '7.2.3',\n",
       "       '7.2.5', '7.2.6', '8.2.1', '8.2.2', '8.2.4', '8.2.3', '8.2.5',\n",
       "       '8.2.6', '9.2.1', '9.2.2', '9.2.4', '9.2.3', '9.2.5', '9.2.6',\n",
       "       '10.2.1', '10.2.2', '10.2.4', '10.2.3', '10.2.5', '10.2.6',\n",
       "       '11.2.1', '11.2.2', '11.2.4', '11.2.3', '11.2.5', '11.2.6'],\n",
       "      dtype=object)"
      ]
     },
     "execution_count": 49,
     "metadata": {},
     "output_type": "execute_result"
    }
   ],
   "source": [
    "df4['COORDINATE'].unique()"
   ]
  },
  {
   "cell_type": "markdown",
   "id": "fb9b299d-9cf9-4285-af9c-08d7dbe90270",
   "metadata": {
    "tags": []
   },
   "source": [
    "Not sure what this field is, but formatting looks okay"
   ]
  },
  {
   "cell_type": "code",
   "execution_count": 50,
   "id": "16860095-2cad-42ba-aad0-cafc0564ce68",
   "metadata": {
    "collapsed": true,
    "jupyter": {
     "outputs_hidden": true
    },
    "tags": []
   },
   "outputs": [
    {
     "data": {
      "text/plain": [
       "array([138276,  99003,  39273, ...,   1038,   4159,  23966], dtype=int64)"
      ]
     },
     "execution_count": 50,
     "metadata": {},
     "output_type": "execute_result"
    }
   ],
   "source": [
    "df4['VALUE'].unique()"
   ]
  },
  {
   "cell_type": "code",
   "execution_count": 51,
   "id": "33d92fb6-6b5b-4552-a2a1-552791309682",
   "metadata": {
    "collapsed": true,
    "jupyter": {
     "outputs_hidden": true
    },
    "tags": []
   },
   "outputs": [
    {
     "data": {
      "text/plain": [
       "array([nan])"
      ]
     },
     "execution_count": 51,
     "metadata": {},
     "output_type": "execute_result"
    }
   ],
   "source": [
    "df4['STATUS'].unique()"
   ]
  },
  {
   "cell_type": "markdown",
   "id": "a4c0e78f-c093-4bc2-aceb-d7d2de5ef589",
   "metadata": {},
   "source": [
    "Useless field"
   ]
  },
  {
   "cell_type": "code",
   "execution_count": 52,
   "id": "b758a73a-e52f-495c-bc2d-d4993edfdff9",
   "metadata": {
    "collapsed": true,
    "jupyter": {
     "outputs_hidden": true
    },
    "tags": []
   },
   "outputs": [
    {
     "data": {
      "text/plain": [
       "array([nan])"
      ]
     },
     "execution_count": 52,
     "metadata": {},
     "output_type": "execute_result"
    }
   ],
   "source": [
    "df4['SYMBOL'].unique()"
   ]
  },
  {
   "cell_type": "markdown",
   "id": "ac30270f-3521-410f-a759-9f088c355852",
   "metadata": {},
   "source": [
    "Useless field"
   ]
  },
  {
   "cell_type": "code",
   "execution_count": 53,
   "id": "715c5658-c8cd-40c1-97b5-81f9b03361d3",
   "metadata": {
    "collapsed": true,
    "jupyter": {
     "outputs_hidden": true
    },
    "tags": []
   },
   "outputs": [
    {
     "data": {
      "text/plain": [
       "array([nan])"
      ]
     },
     "execution_count": 53,
     "metadata": {},
     "output_type": "execute_result"
    }
   ],
   "source": [
    "df4['TERMINATED'].unique()"
   ]
  },
  {
   "cell_type": "markdown",
   "id": "8faa8fff-3610-4c9f-b107-12f2bc9d612e",
   "metadata": {},
   "source": [
    "Useless field"
   ]
  },
  {
   "cell_type": "code",
   "execution_count": 54,
   "id": "7de385b1-b5ef-4abd-8f9b-ccefc1eeb456",
   "metadata": {
    "collapsed": true,
    "jupyter": {
     "outputs_hidden": true
    },
    "tags": []
   },
   "outputs": [
    {
     "data": {
      "text/plain": [
       "array([0], dtype=int64)"
      ]
     },
     "execution_count": 54,
     "metadata": {},
     "output_type": "execute_result"
    }
   ],
   "source": [
    "df4['DECIMALS'].unique()"
   ]
  },
  {
   "cell_type": "markdown",
   "id": "2127d1a8-0ad0-47ea-91e0-570d60a55dfe",
   "metadata": {},
   "source": [
    "Useless field"
   ]
  },
  {
   "cell_type": "code",
   "execution_count": 6,
   "id": "612a3846-d87c-466b-ab6d-6271a487a23c",
   "metadata": {},
   "outputs": [],
   "source": [
    "#Dropping all redundant/useless fields\n",
    "df4.drop(['UOM', 'UOM_ID', 'SCALAR_FACTOR', 'SCALAR_ID', 'STATUS', 'SYMBOL', 'TERMINATED', 'DECIMALS'], axis=1, inplace=True)"
   ]
  },
  {
   "cell_type": "markdown",
   "id": "c8f5cdbd-94bf-4c7c-aff1-4e66415f0caf",
   "metadata": {
    "jp-MarkdownHeadingCollapsed": true,
    "tags": []
   },
   "source": [
    "### Cleaning - Missing Values"
   ]
  },
  {
   "cell_type": "markdown",
   "id": "43de1aad-f40c-49e1-a67e-0cc04dac0f19",
   "metadata": {},
   "source": [
    "Inspect null values and see if they should be assigned another value or if rows/columns should be dropped"
   ]
  },
  {
   "cell_type": "code",
   "execution_count": 22,
   "id": "47136f69-39c0-4a40-954a-a2d47b4367f3",
   "metadata": {},
   "outputs": [
    {
     "name": "stdout",
     "output_type": "stream",
     "text": [
      "<class 'pandas.core.frame.DataFrame'>\n",
      "RangeIndex: 12342 entries, 0 to 12341\n",
      "Data columns (total 8 columns):\n",
      " #   Column             Non-Null Count  Dtype \n",
      "---  ------             --------------  ----- \n",
      " 0   REF_DATE           12342 non-null  int64 \n",
      " 1   GEO                12342 non-null  object\n",
      " 2   DGUID              12342 non-null  object\n",
      " 3   Housing estimates  12342 non-null  object\n",
      " 4   Type of unit       12342 non-null  object\n",
      " 5   VECTOR             12342 non-null  object\n",
      " 6   COORDINATE         12342 non-null  object\n",
      " 7   VALUE              12342 non-null  int64 \n",
      "dtypes: int64(2), object(6)\n",
      "memory usage: 771.5+ KB\n"
     ]
    }
   ],
   "source": [
    "df4.info()"
   ]
  },
  {
   "cell_type": "markdown",
   "id": "a22b1a58-66f8-402e-b10a-46fc44fdedca",
   "metadata": {},
   "source": [
    "No null values in the fields we're interested to keep"
   ]
  },
  {
   "cell_type": "markdown",
   "id": "b09c4c38-1536-4704-9f4d-a815a2511ec9",
   "metadata": {
    "tags": []
   },
   "source": [
    "### Cleaning - Duplicate Values"
   ]
  },
  {
   "cell_type": "code",
   "execution_count": 7,
   "id": "87a5bc3c-e787-4261-bd67-114d1c89391f",
   "metadata": {},
   "outputs": [
    {
     "data": {
      "text/html": [
       "<div>\n",
       "<style scoped>\n",
       "    .dataframe tbody tr th:only-of-type {\n",
       "        vertical-align: middle;\n",
       "    }\n",
       "\n",
       "    .dataframe tbody tr th {\n",
       "        vertical-align: top;\n",
       "    }\n",
       "\n",
       "    .dataframe thead th {\n",
       "        text-align: right;\n",
       "    }\n",
       "</style>\n",
       "<table border=\"1\" class=\"dataframe\">\n",
       "  <thead>\n",
       "    <tr style=\"text-align: right;\">\n",
       "      <th></th>\n",
       "      <th>year</th>\n",
       "      <th>GEO</th>\n",
       "      <th>DGUID</th>\n",
       "      <th>Housing estimates</th>\n",
       "      <th>Type of unit</th>\n",
       "      <th>VECTOR</th>\n",
       "      <th>COORDINATE</th>\n",
       "      <th>VALUE</th>\n",
       "    </tr>\n",
       "  </thead>\n",
       "  <tbody>\n",
       "  </tbody>\n",
       "</table>\n",
       "</div>"
      ],
      "text/plain": [
       "Empty DataFrame\n",
       "Columns: [year, GEO, DGUID, Housing estimates, Type of unit, VECTOR, COORDINATE, VALUE]\n",
       "Index: []"
      ]
     },
     "execution_count": 7,
     "metadata": {},
     "output_type": "execute_result"
    }
   ],
   "source": [
    "df4[df4.duplicated()]"
   ]
  },
  {
   "cell_type": "markdown",
   "id": "39344a2d-67cd-4337-a5e4-c59212c06d79",
   "metadata": {},
   "source": [
    "No duplicates"
   ]
  },
  {
   "cell_type": "code",
   "execution_count": 26,
   "id": "4b094433-287d-408d-b476-735cc843c15e",
   "metadata": {},
   "outputs": [
    {
     "name": "stdout",
     "output_type": "stream",
     "text": [
      "<class 'pandas.core.frame.DataFrame'>\n",
      "RangeIndex: 12342 entries, 0 to 12341\n",
      "Data columns (total 8 columns):\n",
      " #   Column             Non-Null Count  Dtype \n",
      "---  ------             --------------  ----- \n",
      " 0   year               12342 non-null  int64 \n",
      " 1   GEO                12342 non-null  object\n",
      " 2   DGUID              12342 non-null  object\n",
      " 3   Housing estimates  12342 non-null  object\n",
      " 4   Type of unit       12342 non-null  object\n",
      " 5   VECTOR             12342 non-null  object\n",
      " 6   COORDINATE         12342 non-null  object\n",
      " 7   VALUE              12342 non-null  int64 \n",
      "dtypes: int64(2), object(6)\n",
      "memory usage: 771.5+ KB\n"
     ]
    }
   ],
   "source": [
    "df4.info()"
   ]
  },
  {
   "cell_type": "markdown",
   "id": "17e78820-02b5-4e61-a4af-cb59f2a3aa01",
   "metadata": {
    "jp-MarkdownHeadingCollapsed": true,
    "tags": []
   },
   "source": [
    "### Formatting JOIN columns"
   ]
  },
  {
   "cell_type": "code",
   "execution_count": 8,
   "id": "f9ead7eb-6be1-48e1-bf07-fe06f147b093",
   "metadata": {},
   "outputs": [
    {
     "name": "stdout",
     "output_type": "stream",
     "text": [
      "<class 'pandas.core.frame.DataFrame'>\n",
      "RangeIndex: 12342 entries, 0 to 12341\n",
      "Data columns (total 9 columns):\n",
      " #   Column             Non-Null Count  Dtype \n",
      "---  ------             --------------  ----- \n",
      " 0   year               12342 non-null  int64 \n",
      " 1   GEO                12342 non-null  object\n",
      " 2   DGUID              12342 non-null  object\n",
      " 3   Housing estimates  12342 non-null  object\n",
      " 4   Type of unit       12342 non-null  object\n",
      " 5   VECTOR             12342 non-null  object\n",
      " 6   COORDINATE         12342 non-null  object\n",
      " 7   VALUE              12342 non-null  int64 \n",
      " 8   joinProvince       12342 non-null  object\n",
      "dtypes: int64(2), object(7)\n",
      "memory usage: 867.9+ KB\n"
     ]
    }
   ],
   "source": [
    "#There's already a year column so we'll skip that one\n",
    "\n",
    "# No Month data..\n",
    "\n",
    "\n",
    "# Making a Province Column\n",
    "## Canada = Canada, every other will be down to a province\n",
    "## In that case the region values are all Canada so we'll keep them like that\n",
    "df4['joinProvince']=df4['GEO']\n",
    "\n",
    "X='Newfoundland and Labrador'\n",
    "Y='NL'\n",
    "df4['joinProvince'].replace(X, Y, inplace=True)\n",
    "\n",
    "X='Prince Edward Island'\n",
    "Y='PE'\n",
    "df4['joinProvince'].replace(X, Y, inplace=True)\n",
    "\n",
    "X='Nova Scotia'\n",
    "Y='NS'\n",
    "df4['joinProvince'].replace(X, Y, inplace=True)\n",
    "\n",
    "X='New Brunswick'\n",
    "Y='NB'\n",
    "df4['joinProvince'].replace(X, Y, inplace=True)\n",
    "\n",
    "X='Quebec'\n",
    "Y='QC'\n",
    "df4['joinProvince'].replace(X, Y, inplace=True)\n",
    "\n",
    "X='Ontario'\n",
    "Y='ON'\n",
    "df4['joinProvince'].replace(X, Y, inplace=True)\n",
    "\n",
    "X='Manitoba'\n",
    "Y='MB'\n",
    "df4['joinProvince'].replace(X, Y, inplace=True)\n",
    "\n",
    "X='Saskatchewan'\n",
    "Y='SK'\n",
    "df4['joinProvince'].replace(X, Y, inplace=True)\n",
    "\n",
    "X='Alberta'\n",
    "Y='AB'\n",
    "df4['joinProvince'].replace(X, Y, inplace=True)\n",
    "\n",
    "X='British Columbia'\n",
    "Y='BC'\n",
    "df4['joinProvince'].replace(X, Y, inplace=True)\n",
    "\n",
    "df4.info()"
   ]
  },
  {
   "cell_type": "markdown",
   "id": "cd8bc70c-0fa8-4ca7-8883-044f10577e5c",
   "metadata": {
    "jp-MarkdownHeadingCollapsed": true,
    "tags": []
   },
   "source": [
    "### Export Dataset"
   ]
  },
  {
   "cell_type": "code",
   "execution_count": 9,
   "id": "4619049f-0bdc-4171-b0b9-97da2041ca7b",
   "metadata": {
    "tags": []
   },
   "outputs": [],
   "source": [
    "df4.to_csv('Data-Visualization-and-Dashboards-with-Tableau/Clean_data/real_estate_numbers.csv')"
   ]
  },
  {
   "cell_type": "markdown",
   "id": "f3a0847e-776d-46ab-a9a9-83fd8f486478",
   "metadata": {
    "tags": []
   },
   "source": [
    "## Dataset 5 - Real Estate Prices"
   ]
  },
  {
   "cell_type": "markdown",
   "id": "9738e4bb-da42-4a66-831a-782d7a072c22",
   "metadata": {
    "tags": []
   },
   "source": [
    "### Import dataset"
   ]
  },
  {
   "cell_type": "markdown",
   "id": "a377b351-223e-4160-b2ed-47b178b71f16",
   "metadata": {},
   "source": [
    "This dataset is an excel file with many sheets. Every sheet has the same structure, and the sheet name indicates the region this data relates to. We'll import the data as one df and add the name of each sheet as an additional column"
   ]
  },
  {
   "cell_type": "code",
   "execution_count": 60,
   "id": "6dc3da67-9523-4e9c-8748-2c18d64a6606",
   "metadata": {},
   "outputs": [
    {
     "name": "stdout",
     "output_type": "stream",
     "text": [
      "Collecting openpyxl\n",
      "  Downloading openpyxl-3.0.10-py2.py3-none-any.whl (242 kB)\n",
      "     ------------------------------------ 242.1/242.1 kB 549.5 kB/s eta 0:00:00\n",
      "Collecting et-xmlfile\n",
      "  Downloading et_xmlfile-1.1.0-py3-none-any.whl (4.7 kB)\n",
      "Installing collected packages: et-xmlfile, openpyxl\n",
      "Successfully installed et-xmlfile-1.1.0 openpyxl-3.0.10\n"
     ]
    }
   ],
   "source": [
    "!pip install openpyxl"
   ]
  },
  {
   "cell_type": "code",
   "execution_count": 10,
   "id": "0c70dba2-eac6-4b6d-bf22-818dfd48b8e0",
   "metadata": {},
   "outputs": [],
   "source": [
    "def read_excel_sheets(file_path):\n",
    "    xl = pd.ExcelFile(file_path)\n",
    "    sheets = xl.sheet_names\n",
    "    df = pd.DataFrame()\n",
    "    for sheet in sheets:\n",
    "        dftemp = pd.read_excel(file_path, sheet_name=sheet)\n",
    "        dftemp['sheet'] = sheet\n",
    "        df = pd.concat([df, dftemp])\n",
    "    return df"
   ]
  },
  {
   "cell_type": "code",
   "execution_count": 31,
   "id": "0bdb5d11-90a9-41da-b3d3-2d5bb2078d93",
   "metadata": {},
   "outputs": [],
   "source": [
    "df5 = read_excel_sheets('Data-Visualization-and-Dashboards-with-Tableau/Raw_data/real_estate_prices.xlsx')"
   ]
  },
  {
   "cell_type": "code",
   "execution_count": 32,
   "id": "ce54c3ec-cf90-44d6-b4be-f7cb7374aae2",
   "metadata": {
    "collapsed": true,
    "jupyter": {
     "outputs_hidden": true
    },
    "tags": []
   },
   "outputs": [
    {
     "data": {
      "text/plain": [
       "(7938, 14)"
      ]
     },
     "execution_count": 32,
     "metadata": {},
     "output_type": "execute_result"
    }
   ],
   "source": [
    "df5.shape"
   ]
  },
  {
   "cell_type": "code",
   "execution_count": 66,
   "id": "5c52d8af-c8b0-4e12-91cf-c262046f2305",
   "metadata": {
    "collapsed": true,
    "jupyter": {
     "outputs_hidden": true
    },
    "tags": []
   },
   "outputs": [
    {
     "data": {
      "text/html": [
       "<div>\n",
       "<style scoped>\n",
       "    .dataframe tbody tr th:only-of-type {\n",
       "        vertical-align: middle;\n",
       "    }\n",
       "\n",
       "    .dataframe tbody tr th {\n",
       "        vertical-align: top;\n",
       "    }\n",
       "\n",
       "    .dataframe thead th {\n",
       "        text-align: right;\n",
       "    }\n",
       "</style>\n",
       "<table border=\"1\" class=\"dataframe\">\n",
       "  <thead>\n",
       "    <tr style=\"text-align: right;\">\n",
       "      <th></th>\n",
       "      <th>Date</th>\n",
       "      <th>Composite_HPI</th>\n",
       "      <th>Single_Family_HPI</th>\n",
       "      <th>One_Storey_HPI</th>\n",
       "      <th>Two_Storey_HPI</th>\n",
       "      <th>Townhouse_HPI</th>\n",
       "      <th>Apartment_HPI</th>\n",
       "      <th>Composite_Benchmark</th>\n",
       "      <th>Single_Family_Benchmark</th>\n",
       "      <th>One_Storey_Benchmark</th>\n",
       "      <th>Two_Storey_Benchmark</th>\n",
       "      <th>Townhouse_Benchmark</th>\n",
       "      <th>Apartment_Benchmark</th>\n",
       "      <th>sheet</th>\n",
       "    </tr>\n",
       "  </thead>\n",
       "  <tbody>\n",
       "    <tr>\n",
       "      <th>0</th>\n",
       "      <td>2005-01-01</td>\n",
       "      <td>100.0</td>\n",
       "      <td>100.0</td>\n",
       "      <td>100.0</td>\n",
       "      <td>100.0</td>\n",
       "      <td>100.0</td>\n",
       "      <td>100.0</td>\n",
       "      <td>248200</td>\n",
       "      <td>267500</td>\n",
       "      <td>219800</td>\n",
       "      <td>307200</td>\n",
       "      <td>211800.0</td>\n",
       "      <td>190600.0</td>\n",
       "      <td>Aggregate</td>\n",
       "    </tr>\n",
       "    <tr>\n",
       "      <th>1</th>\n",
       "      <td>2005-02-01</td>\n",
       "      <td>101.0</td>\n",
       "      <td>101.0</td>\n",
       "      <td>101.0</td>\n",
       "      <td>101.1</td>\n",
       "      <td>100.6</td>\n",
       "      <td>100.9</td>\n",
       "      <td>250600</td>\n",
       "      <td>270200</td>\n",
       "      <td>222000</td>\n",
       "      <td>310600</td>\n",
       "      <td>213100.0</td>\n",
       "      <td>192300.0</td>\n",
       "      <td>Aggregate</td>\n",
       "    </tr>\n",
       "    <tr>\n",
       "      <th>2</th>\n",
       "      <td>2005-03-01</td>\n",
       "      <td>102.0</td>\n",
       "      <td>102.2</td>\n",
       "      <td>102.2</td>\n",
       "      <td>102.2</td>\n",
       "      <td>101.2</td>\n",
       "      <td>101.4</td>\n",
       "      <td>253100</td>\n",
       "      <td>273400</td>\n",
       "      <td>224600</td>\n",
       "      <td>313900</td>\n",
       "      <td>214300.0</td>\n",
       "      <td>193200.0</td>\n",
       "      <td>Aggregate</td>\n",
       "    </tr>\n",
       "    <tr>\n",
       "      <th>3</th>\n",
       "      <td>2005-04-01</td>\n",
       "      <td>102.9</td>\n",
       "      <td>103.2</td>\n",
       "      <td>103.3</td>\n",
       "      <td>103.2</td>\n",
       "      <td>101.9</td>\n",
       "      <td>102.1</td>\n",
       "      <td>255400</td>\n",
       "      <td>276100</td>\n",
       "      <td>227100</td>\n",
       "      <td>317000</td>\n",
       "      <td>215800.0</td>\n",
       "      <td>194600.0</td>\n",
       "      <td>Aggregate</td>\n",
       "    </tr>\n",
       "    <tr>\n",
       "      <th>4</th>\n",
       "      <td>2005-05-01</td>\n",
       "      <td>103.7</td>\n",
       "      <td>103.9</td>\n",
       "      <td>104.3</td>\n",
       "      <td>103.6</td>\n",
       "      <td>102.6</td>\n",
       "      <td>102.9</td>\n",
       "      <td>257300</td>\n",
       "      <td>277900</td>\n",
       "      <td>229300</td>\n",
       "      <td>318200</td>\n",
       "      <td>217300.0</td>\n",
       "      <td>196100.0</td>\n",
       "      <td>Aggregate</td>\n",
       "    </tr>\n",
       "  </tbody>\n",
       "</table>\n",
       "</div>"
      ],
      "text/plain": [
       "        Date  Composite_HPI  Single_Family_HPI  One_Storey_HPI  \\\n",
       "0 2005-01-01          100.0              100.0           100.0   \n",
       "1 2005-02-01          101.0              101.0           101.0   \n",
       "2 2005-03-01          102.0              102.2           102.2   \n",
       "3 2005-04-01          102.9              103.2           103.3   \n",
       "4 2005-05-01          103.7              103.9           104.3   \n",
       "\n",
       "   Two_Storey_HPI  Townhouse_HPI  Apartment_HPI  Composite_Benchmark  \\\n",
       "0           100.0          100.0          100.0               248200   \n",
       "1           101.1          100.6          100.9               250600   \n",
       "2           102.2          101.2          101.4               253100   \n",
       "3           103.2          101.9          102.1               255400   \n",
       "4           103.6          102.6          102.9               257300   \n",
       "\n",
       "   Single_Family_Benchmark  One_Storey_Benchmark  Two_Storey_Benchmark  \\\n",
       "0                   267500                219800                307200   \n",
       "1                   270200                222000                310600   \n",
       "2                   273400                224600                313900   \n",
       "3                   276100                227100                317000   \n",
       "4                   277900                229300                318200   \n",
       "\n",
       "   Townhouse_Benchmark  Apartment_Benchmark      sheet  \n",
       "0             211800.0             190600.0  Aggregate  \n",
       "1             213100.0             192300.0  Aggregate  \n",
       "2             214300.0             193200.0  Aggregate  \n",
       "3             215800.0             194600.0  Aggregate  \n",
       "4             217300.0             196100.0  Aggregate  "
      ]
     },
     "execution_count": 66,
     "metadata": {},
     "output_type": "execute_result"
    }
   ],
   "source": [
    "df5.head()"
   ]
  },
  {
   "cell_type": "markdown",
   "id": "3b817168-36ff-43fc-8376-483a23381684",
   "metadata": {
    "jp-MarkdownHeadingCollapsed": true,
    "tags": []
   },
   "source": [
    "### Cleaning - Formatting Issues"
   ]
  },
  {
   "cell_type": "markdown",
   "id": "e91d6386-5e5e-4fb3-a2c5-66a094324ae9",
   "metadata": {},
   "source": [
    "Look for unique values for each row and inspect manually"
   ]
  },
  {
   "cell_type": "code",
   "execution_count": 67,
   "id": "e87ff464-b29f-42c0-9de4-b1930c986f0c",
   "metadata": {
    "collapsed": true,
    "jupyter": {
     "outputs_hidden": true
    },
    "tags": []
   },
   "outputs": [
    {
     "data": {
      "text/plain": [
       "array(['2005-01-01T00:00:00.000000000', '2005-02-01T00:00:00.000000000',\n",
       "       '2005-03-01T00:00:00.000000000', '2005-04-01T00:00:00.000000000',\n",
       "       '2005-05-01T00:00:00.000000000', '2005-06-01T00:00:00.000000000',\n",
       "       '2005-07-01T00:00:00.000000000', '2005-08-01T00:00:00.000000000',\n",
       "       '2005-09-01T00:00:00.000000000', '2005-10-01T00:00:00.000000000',\n",
       "       '2005-11-01T00:00:00.000000000', '2005-12-01T00:00:00.000000000',\n",
       "       '2006-01-01T00:00:00.000000000', '2006-02-01T00:00:00.000000000',\n",
       "       '2006-03-01T00:00:00.000000000', '2006-04-01T00:00:00.000000000',\n",
       "       '2006-05-01T00:00:00.000000000', '2006-06-01T00:00:00.000000000',\n",
       "       '2006-07-01T00:00:00.000000000', '2006-08-01T00:00:00.000000000',\n",
       "       '2006-09-01T00:00:00.000000000', '2006-10-01T00:00:00.000000000',\n",
       "       '2006-11-01T00:00:00.000000000', '2006-12-01T00:00:00.000000000',\n",
       "       '2007-01-01T00:00:00.000000000', '2007-02-01T00:00:00.000000000',\n",
       "       '2007-03-01T00:00:00.000000000', '2007-04-01T00:00:00.000000000',\n",
       "       '2007-05-01T00:00:00.000000000', '2007-06-01T00:00:00.000000000',\n",
       "       '2007-07-01T00:00:00.000000000', '2007-08-01T00:00:00.000000000',\n",
       "       '2007-09-01T00:00:00.000000000', '2007-10-01T00:00:00.000000000',\n",
       "       '2007-11-01T00:00:00.000000000', '2007-12-01T00:00:00.000000000',\n",
       "       '2008-01-01T00:00:00.000000000', '2008-02-01T00:00:00.000000000',\n",
       "       '2008-03-01T00:00:00.000000000', '2008-04-01T00:00:00.000000000',\n",
       "       '2008-05-01T00:00:00.000000000', '2008-06-01T00:00:00.000000000',\n",
       "       '2008-07-01T00:00:00.000000000', '2008-08-01T00:00:00.000000000',\n",
       "       '2008-09-01T00:00:00.000000000', '2008-10-01T00:00:00.000000000',\n",
       "       '2008-11-01T00:00:00.000000000', '2008-12-01T00:00:00.000000000',\n",
       "       '2009-01-01T00:00:00.000000000', '2009-02-01T00:00:00.000000000',\n",
       "       '2009-03-01T00:00:00.000000000', '2009-04-01T00:00:00.000000000',\n",
       "       '2009-05-01T00:00:00.000000000', '2009-06-01T00:00:00.000000000',\n",
       "       '2009-07-01T00:00:00.000000000', '2009-08-01T00:00:00.000000000',\n",
       "       '2009-09-01T00:00:00.000000000', '2009-10-01T00:00:00.000000000',\n",
       "       '2009-11-01T00:00:00.000000000', '2009-12-01T00:00:00.000000000',\n",
       "       '2010-01-01T00:00:00.000000000', '2010-02-01T00:00:00.000000000',\n",
       "       '2010-03-01T00:00:00.000000000', '2010-04-01T00:00:00.000000000',\n",
       "       '2010-05-01T00:00:00.000000000', '2010-06-01T00:00:00.000000000',\n",
       "       '2010-07-01T00:00:00.000000000', '2010-08-01T00:00:00.000000000',\n",
       "       '2010-09-01T00:00:00.000000000', '2010-10-01T00:00:00.000000000',\n",
       "       '2010-11-01T00:00:00.000000000', '2010-12-01T00:00:00.000000000',\n",
       "       '2011-01-01T00:00:00.000000000', '2011-02-01T00:00:00.000000000',\n",
       "       '2011-03-01T00:00:00.000000000', '2011-04-01T00:00:00.000000000',\n",
       "       '2011-05-01T00:00:00.000000000', '2011-06-01T00:00:00.000000000',\n",
       "       '2011-07-01T00:00:00.000000000', '2011-08-01T00:00:00.000000000',\n",
       "       '2011-09-01T00:00:00.000000000', '2011-10-01T00:00:00.000000000',\n",
       "       '2011-11-01T00:00:00.000000000', '2011-12-01T00:00:00.000000000',\n",
       "       '2012-01-01T00:00:00.000000000', '2012-02-01T00:00:00.000000000',\n",
       "       '2012-03-01T00:00:00.000000000', '2012-04-01T00:00:00.000000000',\n",
       "       '2012-05-01T00:00:00.000000000', '2012-06-01T00:00:00.000000000',\n",
       "       '2012-07-01T00:00:00.000000000', '2012-08-01T00:00:00.000000000',\n",
       "       '2012-09-01T00:00:00.000000000', '2012-10-01T00:00:00.000000000',\n",
       "       '2012-11-01T00:00:00.000000000', '2012-12-01T00:00:00.000000000',\n",
       "       '2013-01-01T00:00:00.000000000', '2013-02-01T00:00:00.000000000',\n",
       "       '2013-03-01T00:00:00.000000000', '2013-04-01T00:00:00.000000000',\n",
       "       '2013-05-01T00:00:00.000000000', '2013-06-01T00:00:00.000000000',\n",
       "       '2013-07-01T00:00:00.000000000', '2013-08-01T00:00:00.000000000',\n",
       "       '2013-09-01T00:00:00.000000000', '2013-10-01T00:00:00.000000000',\n",
       "       '2013-11-01T00:00:00.000000000', '2013-12-01T00:00:00.000000000',\n",
       "       '2014-01-01T00:00:00.000000000', '2014-02-01T00:00:00.000000000',\n",
       "       '2014-03-01T00:00:00.000000000', '2014-04-01T00:00:00.000000000',\n",
       "       '2014-05-01T00:00:00.000000000', '2014-06-01T00:00:00.000000000',\n",
       "       '2014-07-01T00:00:00.000000000', '2014-08-01T00:00:00.000000000',\n",
       "       '2014-09-01T00:00:00.000000000', '2014-10-01T00:00:00.000000000',\n",
       "       '2014-11-01T00:00:00.000000000', '2014-12-01T00:00:00.000000000',\n",
       "       '2015-01-01T00:00:00.000000000', '2015-02-01T00:00:00.000000000',\n",
       "       '2015-03-01T00:00:00.000000000', '2015-04-01T00:00:00.000000000',\n",
       "       '2015-05-01T00:00:00.000000000', '2015-06-01T00:00:00.000000000',\n",
       "       '2015-07-01T00:00:00.000000000', '2015-08-01T00:00:00.000000000',\n",
       "       '2015-09-01T00:00:00.000000000', '2015-10-01T00:00:00.000000000',\n",
       "       '2015-11-01T00:00:00.000000000', '2015-12-01T00:00:00.000000000',\n",
       "       '2016-01-01T00:00:00.000000000', '2016-02-01T00:00:00.000000000',\n",
       "       '2016-03-01T00:00:00.000000000', '2016-04-01T00:00:00.000000000',\n",
       "       '2016-05-01T00:00:00.000000000', '2016-06-01T00:00:00.000000000',\n",
       "       '2016-07-01T00:00:00.000000000', '2016-08-01T00:00:00.000000000',\n",
       "       '2016-09-01T00:00:00.000000000', '2016-10-01T00:00:00.000000000',\n",
       "       '2016-11-01T00:00:00.000000000', '2016-12-01T00:00:00.000000000',\n",
       "       '2017-01-01T00:00:00.000000000', '2017-02-01T00:00:00.000000000',\n",
       "       '2017-03-01T00:00:00.000000000', '2017-04-01T00:00:00.000000000',\n",
       "       '2017-05-01T00:00:00.000000000', '2017-06-01T00:00:00.000000000',\n",
       "       '2017-07-01T00:00:00.000000000', '2017-08-01T00:00:00.000000000',\n",
       "       '2017-09-01T00:00:00.000000000', '2017-10-01T00:00:00.000000000',\n",
       "       '2017-11-01T00:00:00.000000000', '2017-12-01T00:00:00.000000000',\n",
       "       '2018-01-01T00:00:00.000000000', '2018-02-01T00:00:00.000000000',\n",
       "       '2018-03-01T00:00:00.000000000', '2018-04-01T00:00:00.000000000',\n",
       "       '2018-05-01T00:00:00.000000000', '2018-06-01T00:00:00.000000000',\n",
       "       '2018-07-01T00:00:00.000000000', '2018-08-01T00:00:00.000000000',\n",
       "       '2018-09-01T00:00:00.000000000', '2018-10-01T00:00:00.000000000',\n",
       "       '2018-11-01T00:00:00.000000000', '2018-12-01T00:00:00.000000000',\n",
       "       '2019-01-01T00:00:00.000000000', '2019-02-01T00:00:00.000000000',\n",
       "       '2019-03-01T00:00:00.000000000', '2019-04-01T00:00:00.000000000',\n",
       "       '2019-05-01T00:00:00.000000000', '2019-06-01T00:00:00.000000000',\n",
       "       '2019-07-01T00:00:00.000000000', '2019-08-01T00:00:00.000000000',\n",
       "       '2019-09-01T00:00:00.000000000', '2019-10-01T00:00:00.000000000',\n",
       "       '2019-11-01T00:00:00.000000000', '2019-12-01T00:00:00.000000000',\n",
       "       '2020-01-01T00:00:00.000000000', '2020-02-01T00:00:00.000000000',\n",
       "       '2020-03-01T00:00:00.000000000', '2020-04-01T00:00:00.000000000',\n",
       "       '2020-05-01T00:00:00.000000000', '2020-06-01T00:00:00.000000000',\n",
       "       '2020-07-01T00:00:00.000000000', '2020-08-01T00:00:00.000000000',\n",
       "       '2020-09-01T00:00:00.000000000'], dtype='datetime64[ns]')"
      ]
     },
     "execution_count": 67,
     "metadata": {},
     "output_type": "execute_result"
    }
   ],
   "source": [
    "df5['Date'].unique()"
   ]
  },
  {
   "cell_type": "code",
   "execution_count": 68,
   "id": "5abb842f-64f6-482f-b680-421049ca81be",
   "metadata": {
    "collapsed": true,
    "jupyter": {
     "outputs_hidden": true
    },
    "tags": []
   },
   "outputs": [
    {
     "data": {
      "text/plain": [
       "array([100. , 101. , 102. , ..., 198.2, 195.8, 189.2])"
      ]
     },
     "execution_count": 68,
     "metadata": {},
     "output_type": "execute_result"
    }
   ],
   "source": [
    "df5['Composite_HPI'].unique()"
   ]
  },
  {
   "cell_type": "code",
   "execution_count": 69,
   "id": "ced98387-83da-4aaa-9282-96fbd0b2d022",
   "metadata": {
    "collapsed": true,
    "jupyter": {
     "outputs_hidden": true
    },
    "tags": []
   },
   "outputs": [
    {
     "data": {
      "text/plain": [
       "array([100. , 101. , 102.2, ..., 196.9, 196.8, 182.3])"
      ]
     },
     "execution_count": 69,
     "metadata": {},
     "output_type": "execute_result"
    }
   ],
   "source": [
    "df5['Single_Family_HPI'].unique()"
   ]
  },
  {
   "cell_type": "code",
   "execution_count": 70,
   "id": "5e764a91-75c8-4ab8-b8c9-78da9567c816",
   "metadata": {
    "collapsed": true,
    "jupyter": {
     "outputs_hidden": true
    },
    "tags": []
   },
   "outputs": [
    {
     "data": {
      "text/plain": [
       "array([100. , 101. , 102.2, ..., 181.3, 209.1, 213.7])"
      ]
     },
     "execution_count": 70,
     "metadata": {},
     "output_type": "execute_result"
    }
   ],
   "source": [
    "df5['One_Storey_HPI'].unique()"
   ]
  },
  {
   "cell_type": "code",
   "execution_count": 71,
   "id": "c30a4249-014b-48d1-9de1-0d56510803e8",
   "metadata": {
    "collapsed": true,
    "jupyter": {
     "outputs_hidden": true
    },
    "tags": []
   },
   "outputs": [
    {
     "data": {
      "text/plain": [
       "array([100. , 101.1, 102.2, ..., 205.7, 204.1, 204.5])"
      ]
     },
     "execution_count": 71,
     "metadata": {},
     "output_type": "execute_result"
    }
   ],
   "source": [
    "df5['Two_Storey_HPI'].unique()"
   ]
  },
  {
   "cell_type": "code",
   "execution_count": 72,
   "id": "cb5237bb-7622-440d-a5be-48e35abc02f3",
   "metadata": {
    "collapsed": true,
    "jupyter": {
     "outputs_hidden": true
    },
    "tags": []
   },
   "outputs": [
    {
     "data": {
      "text/plain": [
       "array([100. , 100.6, 101.2, ..., 204.5, 202.4, 187.8])"
      ]
     },
     "execution_count": 72,
     "metadata": {},
     "output_type": "execute_result"
    }
   ],
   "source": [
    "df5['Townhouse_HPI'].unique()"
   ]
  },
  {
   "cell_type": "code",
   "execution_count": 73,
   "id": "4d378758-3949-42c2-bb24-5abc8468af6b",
   "metadata": {
    "collapsed": true,
    "jupyter": {
     "outputs_hidden": true
    },
    "tags": []
   },
   "outputs": [
    {
     "data": {
      "text/plain": [
       "array([100. , 100.9, 101.4, ..., 205.8, 185.3, 175.4])"
      ]
     },
     "execution_count": 73,
     "metadata": {},
     "output_type": "execute_result"
    }
   ],
   "source": [
    "df5['Apartment_HPI'].unique()"
   ]
  },
  {
   "cell_type": "code",
   "execution_count": 74,
   "id": "83f7fcb5-639e-46c7-b11f-d29c0795303f",
   "metadata": {
    "collapsed": true,
    "jupyter": {
     "outputs_hidden": true
    },
    "tags": []
   },
   "outputs": [
    {
     "data": {
      "text/plain": [
       "array([248200, 250600, 253100, ..., 261100, 256500, 268800], dtype=int64)"
      ]
     },
     "execution_count": 74,
     "metadata": {},
     "output_type": "execute_result"
    }
   ],
   "source": [
    "df5['Composite_Benchmark'].unique()"
   ]
  },
  {
   "cell_type": "code",
   "execution_count": 75,
   "id": "f38c661b-0b3b-48e5-bab8-23662047c687",
   "metadata": {
    "collapsed": true,
    "jupyter": {
     "outputs_hidden": true
    },
    "tags": []
   },
   "outputs": [
    {
     "data": {
      "text/plain": [
       "array([267500, 270200, 273400, ..., 281600, 279900, 265100], dtype=int64)"
      ]
     },
     "execution_count": 75,
     "metadata": {},
     "output_type": "execute_result"
    }
   ],
   "source": [
    "df5['Single_Family_Benchmark'].unique()"
   ]
  },
  {
   "cell_type": "code",
   "execution_count": 76,
   "id": "52dc5575-8802-4e3a-b680-eb705852d8fb",
   "metadata": {
    "collapsed": true,
    "jupyter": {
     "outputs_hidden": true
    },
    "tags": []
   },
   "outputs": [
    {
     "data": {
      "text/plain": [
       "array([219800, 222000, 224600, ..., 275800, 267700, 260500], dtype=int64)"
      ]
     },
     "execution_count": 76,
     "metadata": {},
     "output_type": "execute_result"
    }
   ],
   "source": [
    "df5['One_Storey_Benchmark'].unique()"
   ]
  },
  {
   "cell_type": "code",
   "execution_count": 77,
   "id": "705a0368-ea55-4ec3-b06c-9f7485dae7a9",
   "metadata": {
    "collapsed": true,
    "jupyter": {
     "outputs_hidden": true
    },
    "tags": []
   },
   "outputs": [
    {
     "data": {
      "text/plain": [
       "array([307200, 310600, 313900, ..., 259000, 259300, 255400], dtype=int64)"
      ]
     },
     "execution_count": 77,
     "metadata": {},
     "output_type": "execute_result"
    }
   ],
   "source": [
    "df5['Two_Storey_Benchmark'].unique()"
   ]
  },
  {
   "cell_type": "code",
   "execution_count": 78,
   "id": "4278488f-b82e-4c6f-a031-edf94cb1042d",
   "metadata": {
    "collapsed": true,
    "jupyter": {
     "outputs_hidden": true
    },
    "tags": []
   },
   "outputs": [
    {
     "data": {
      "text/plain": [
       "array([211800., 213100., 214300., ..., 250900., 253700., 255500.])"
      ]
     },
     "execution_count": 78,
     "metadata": {},
     "output_type": "execute_result"
    }
   ],
   "source": [
    "df5['Townhouse_Benchmark'].unique()"
   ]
  },
  {
   "cell_type": "code",
   "execution_count": 79,
   "id": "e497ad93-338a-49c3-b3d1-ce51bc705926",
   "metadata": {
    "collapsed": true,
    "jupyter": {
     "outputs_hidden": true
    },
    "tags": []
   },
   "outputs": [
    {
     "data": {
      "text/plain": [
       "array([190600., 192300., 193200., ..., 247000., 256700., 259000.])"
      ]
     },
     "execution_count": 79,
     "metadata": {},
     "output_type": "execute_result"
    }
   ],
   "source": [
    "df5['Apartment_Benchmark'].unique()"
   ]
  },
  {
   "cell_type": "code",
   "execution_count": 80,
   "id": "5a1c6aa4-f4e8-4591-864d-14bfe6a823c5",
   "metadata": {
    "collapsed": true,
    "jupyter": {
     "outputs_hidden": true
    },
    "tags": []
   },
   "outputs": [
    {
     "data": {
      "text/plain": [
       "array(['Aggregate', 'Vancouver_Island', 'Victoria', 'Lower_Mainland',\n",
       "       'Greater_Vancouver', 'Fraser_Valley', 'Okanagan_Valley', 'Calgary',\n",
       "       'Edmonton', 'Regina', 'Saskatoon', 'Winnipeg', 'Bancroft_and_Area',\n",
       "       'Barrie_and_District', 'Brantford_Region', 'Cambridge',\n",
       "       'Grey_Bruce_Owen_Sound', 'Guelph_and_District',\n",
       "       'Hamilton_Burlington', 'Huron_Perth', 'Kawartha_Lakes',\n",
       "       'Kitchener_Waterloo', 'Lakelands', 'London_St_Thomas',\n",
       "       'Mississauga', 'Niagara_Region', 'North_Bay',\n",
       "       'Northumberland_Hills', 'Oakville_Milton', 'Ottawa',\n",
       "       'Peterborough_and_Kawarthas', 'Quinte_and_District',\n",
       "       'Simcoe_and_District', 'Southern_Georgian_Bay',\n",
       "       'Tillsonburg_District', 'Greater_Toronto', 'Woodstock_Ingersoll',\n",
       "       'Montreal_CMA', 'Quebec_CMA', 'Greater_Moncton',\n",
       "       'Newfoundland_and_Labrador', 'St_Johns_NL'], dtype=object)"
      ]
     },
     "execution_count": 80,
     "metadata": {},
     "output_type": "execute_result"
    }
   ],
   "source": [
    "df5['sheet'].unique()"
   ]
  },
  {
   "cell_type": "markdown",
   "id": "a9c1fbb1-6598-4be1-a54e-b7a17854990b",
   "metadata": {
    "tags": []
   },
   "source": [
    "### Cleaning - Missing Values"
   ]
  },
  {
   "cell_type": "markdown",
   "id": "a97cac43-d177-4bc9-a36f-80ceef9913f9",
   "metadata": {},
   "source": [
    "Inspect null values and see if they should be assigned another value or if rows/columns should be dropped"
   ]
  },
  {
   "cell_type": "code",
   "execution_count": 81,
   "id": "e1f9a62d-d9d6-43a8-8ede-b65febbbc15a",
   "metadata": {},
   "outputs": [
    {
     "name": "stdout",
     "output_type": "stream",
     "text": [
      "<class 'pandas.core.frame.DataFrame'>\n",
      "Int64Index: 7938 entries, 0 to 188\n",
      "Data columns (total 14 columns):\n",
      " #   Column                   Non-Null Count  Dtype         \n",
      "---  ------                   --------------  -----         \n",
      " 0   Date                     7938 non-null   datetime64[ns]\n",
      " 1   Composite_HPI            7938 non-null   float64       \n",
      " 2   Single_Family_HPI        7938 non-null   float64       \n",
      " 3   One_Storey_HPI           7938 non-null   float64       \n",
      " 4   Two_Storey_HPI           7938 non-null   float64       \n",
      " 5   Townhouse_HPI            6615 non-null   float64       \n",
      " 6   Apartment_HPI            6237 non-null   float64       \n",
      " 7   Composite_Benchmark      7938 non-null   int64         \n",
      " 8   Single_Family_Benchmark  7938 non-null   int64         \n",
      " 9   One_Storey_Benchmark     7938 non-null   int64         \n",
      " 10  Two_Storey_Benchmark     7938 non-null   int64         \n",
      " 11  Townhouse_Benchmark      6615 non-null   float64       \n",
      " 12  Apartment_Benchmark      6237 non-null   float64       \n",
      " 13  sheet                    7938 non-null   object        \n",
      "dtypes: datetime64[ns](1), float64(8), int64(4), object(1)\n",
      "memory usage: 930.2+ KB\n"
     ]
    }
   ],
   "source": [
    "df5.info()"
   ]
  },
  {
   "cell_type": "markdown",
   "id": "8c8937f6-a6db-416a-8ba5-b6eb62c1e365",
   "metadata": {},
   "source": [
    "We seem to have some null values for:\n",
    "Townhouse_HPI\n",
    "Apartment_HPI\n",
    "Townhouse_Benchmark\n",
    "Apartment_Benchmark\n",
    "\n",
    "Let's take a look and see if we should replace them/drop the rows"
   ]
  },
  {
   "cell_type": "code",
   "execution_count": 82,
   "id": "873d0c58-42a3-44a5-bfab-3870cb74eafb",
   "metadata": {
    "collapsed": true,
    "jupyter": {
     "outputs_hidden": true
    },
    "tags": []
   },
   "outputs": [
    {
     "data": {
      "text/html": [
       "<div>\n",
       "<style scoped>\n",
       "    .dataframe tbody tr th:only-of-type {\n",
       "        vertical-align: middle;\n",
       "    }\n",
       "\n",
       "    .dataframe tbody tr th {\n",
       "        vertical-align: top;\n",
       "    }\n",
       "\n",
       "    .dataframe thead th {\n",
       "        text-align: right;\n",
       "    }\n",
       "</style>\n",
       "<table border=\"1\" class=\"dataframe\">\n",
       "  <thead>\n",
       "    <tr style=\"text-align: right;\">\n",
       "      <th></th>\n",
       "      <th>Date</th>\n",
       "      <th>Composite_HPI</th>\n",
       "      <th>Single_Family_HPI</th>\n",
       "      <th>One_Storey_HPI</th>\n",
       "      <th>Two_Storey_HPI</th>\n",
       "      <th>Townhouse_HPI</th>\n",
       "      <th>Apartment_HPI</th>\n",
       "      <th>Composite_Benchmark</th>\n",
       "      <th>Single_Family_Benchmark</th>\n",
       "      <th>One_Storey_Benchmark</th>\n",
       "      <th>Two_Storey_Benchmark</th>\n",
       "      <th>Townhouse_Benchmark</th>\n",
       "      <th>Apartment_Benchmark</th>\n",
       "      <th>sheet</th>\n",
       "    </tr>\n",
       "  </thead>\n",
       "  <tbody>\n",
       "    <tr>\n",
       "      <th>0</th>\n",
       "      <td>2005-01-01</td>\n",
       "      <td>100.0</td>\n",
       "      <td>100.0</td>\n",
       "      <td>100.0</td>\n",
       "      <td>100.0</td>\n",
       "      <td>NaN</td>\n",
       "      <td>NaN</td>\n",
       "      <td>119800</td>\n",
       "      <td>119800</td>\n",
       "      <td>118300</td>\n",
       "      <td>123100</td>\n",
       "      <td>NaN</td>\n",
       "      <td>NaN</td>\n",
       "      <td>Bancroft_and_Area</td>\n",
       "    </tr>\n",
       "    <tr>\n",
       "      <th>1</th>\n",
       "      <td>2005-02-01</td>\n",
       "      <td>100.9</td>\n",
       "      <td>100.9</td>\n",
       "      <td>99.9</td>\n",
       "      <td>103.3</td>\n",
       "      <td>NaN</td>\n",
       "      <td>NaN</td>\n",
       "      <td>120900</td>\n",
       "      <td>120900</td>\n",
       "      <td>118200</td>\n",
       "      <td>127200</td>\n",
       "      <td>NaN</td>\n",
       "      <td>NaN</td>\n",
       "      <td>Bancroft_and_Area</td>\n",
       "    </tr>\n",
       "    <tr>\n",
       "      <th>2</th>\n",
       "      <td>2005-03-01</td>\n",
       "      <td>101.9</td>\n",
       "      <td>101.9</td>\n",
       "      <td>99.8</td>\n",
       "      <td>106.6</td>\n",
       "      <td>NaN</td>\n",
       "      <td>NaN</td>\n",
       "      <td>122100</td>\n",
       "      <td>122100</td>\n",
       "      <td>118100</td>\n",
       "      <td>131300</td>\n",
       "      <td>NaN</td>\n",
       "      <td>NaN</td>\n",
       "      <td>Bancroft_and_Area</td>\n",
       "    </tr>\n",
       "    <tr>\n",
       "      <th>3</th>\n",
       "      <td>2005-04-01</td>\n",
       "      <td>102.9</td>\n",
       "      <td>102.9</td>\n",
       "      <td>99.7</td>\n",
       "      <td>110.1</td>\n",
       "      <td>NaN</td>\n",
       "      <td>NaN</td>\n",
       "      <td>123300</td>\n",
       "      <td>123300</td>\n",
       "      <td>118000</td>\n",
       "      <td>135600</td>\n",
       "      <td>NaN</td>\n",
       "      <td>NaN</td>\n",
       "      <td>Bancroft_and_Area</td>\n",
       "    </tr>\n",
       "    <tr>\n",
       "      <th>4</th>\n",
       "      <td>2005-05-01</td>\n",
       "      <td>103.9</td>\n",
       "      <td>103.9</td>\n",
       "      <td>99.6</td>\n",
       "      <td>113.7</td>\n",
       "      <td>NaN</td>\n",
       "      <td>NaN</td>\n",
       "      <td>124500</td>\n",
       "      <td>124500</td>\n",
       "      <td>117800</td>\n",
       "      <td>140000</td>\n",
       "      <td>NaN</td>\n",
       "      <td>NaN</td>\n",
       "      <td>Bancroft_and_Area</td>\n",
       "    </tr>\n",
       "  </tbody>\n",
       "</table>\n",
       "</div>"
      ],
      "text/plain": [
       "        Date  Composite_HPI  Single_Family_HPI  One_Storey_HPI  \\\n",
       "0 2005-01-01          100.0              100.0           100.0   \n",
       "1 2005-02-01          100.9              100.9            99.9   \n",
       "2 2005-03-01          101.9              101.9            99.8   \n",
       "3 2005-04-01          102.9              102.9            99.7   \n",
       "4 2005-05-01          103.9              103.9            99.6   \n",
       "\n",
       "   Two_Storey_HPI  Townhouse_HPI  Apartment_HPI  Composite_Benchmark  \\\n",
       "0           100.0            NaN            NaN               119800   \n",
       "1           103.3            NaN            NaN               120900   \n",
       "2           106.6            NaN            NaN               122100   \n",
       "3           110.1            NaN            NaN               123300   \n",
       "4           113.7            NaN            NaN               124500   \n",
       "\n",
       "   Single_Family_Benchmark  One_Storey_Benchmark  Two_Storey_Benchmark  \\\n",
       "0                   119800                118300                123100   \n",
       "1                   120900                118200                127200   \n",
       "2                   122100                118100                131300   \n",
       "3                   123300                118000                135600   \n",
       "4                   124500                117800                140000   \n",
       "\n",
       "   Townhouse_Benchmark  Apartment_Benchmark              sheet  \n",
       "0                  NaN                  NaN  Bancroft_and_Area  \n",
       "1                  NaN                  NaN  Bancroft_and_Area  \n",
       "2                  NaN                  NaN  Bancroft_and_Area  \n",
       "3                  NaN                  NaN  Bancroft_and_Area  \n",
       "4                  NaN                  NaN  Bancroft_and_Area  "
      ]
     },
     "execution_count": 82,
     "metadata": {},
     "output_type": "execute_result"
    }
   ],
   "source": [
    "df5.loc[df5['Townhouse_HPI'].isnull()].head()"
   ]
  },
  {
   "cell_type": "code",
   "execution_count": 83,
   "id": "b55e5a9d-7810-4105-9fba-ced8cb8f353a",
   "metadata": {
    "collapsed": true,
    "jupyter": {
     "outputs_hidden": true
    },
    "tags": []
   },
   "outputs": [
    {
     "data": {
      "text/html": [
       "<div>\n",
       "<style scoped>\n",
       "    .dataframe tbody tr th:only-of-type {\n",
       "        vertical-align: middle;\n",
       "    }\n",
       "\n",
       "    .dataframe tbody tr th {\n",
       "        vertical-align: top;\n",
       "    }\n",
       "\n",
       "    .dataframe thead th {\n",
       "        text-align: right;\n",
       "    }\n",
       "</style>\n",
       "<table border=\"1\" class=\"dataframe\">\n",
       "  <thead>\n",
       "    <tr style=\"text-align: right;\">\n",
       "      <th></th>\n",
       "      <th>Date</th>\n",
       "      <th>Composite_HPI</th>\n",
       "      <th>Single_Family_HPI</th>\n",
       "      <th>One_Storey_HPI</th>\n",
       "      <th>Two_Storey_HPI</th>\n",
       "      <th>Townhouse_HPI</th>\n",
       "      <th>Apartment_HPI</th>\n",
       "      <th>Composite_Benchmark</th>\n",
       "      <th>Single_Family_Benchmark</th>\n",
       "      <th>One_Storey_Benchmark</th>\n",
       "      <th>Two_Storey_Benchmark</th>\n",
       "      <th>Townhouse_Benchmark</th>\n",
       "      <th>Apartment_Benchmark</th>\n",
       "      <th>sheet</th>\n",
       "    </tr>\n",
       "  </thead>\n",
       "  <tbody>\n",
       "    <tr>\n",
       "      <th>0</th>\n",
       "      <td>2005-01-01</td>\n",
       "      <td>100.0</td>\n",
       "      <td>100.0</td>\n",
       "      <td>100.0</td>\n",
       "      <td>100.0</td>\n",
       "      <td>NaN</td>\n",
       "      <td>NaN</td>\n",
       "      <td>119800</td>\n",
       "      <td>119800</td>\n",
       "      <td>118300</td>\n",
       "      <td>123100</td>\n",
       "      <td>NaN</td>\n",
       "      <td>NaN</td>\n",
       "      <td>Bancroft_and_Area</td>\n",
       "    </tr>\n",
       "    <tr>\n",
       "      <th>1</th>\n",
       "      <td>2005-02-01</td>\n",
       "      <td>100.9</td>\n",
       "      <td>100.9</td>\n",
       "      <td>99.9</td>\n",
       "      <td>103.3</td>\n",
       "      <td>NaN</td>\n",
       "      <td>NaN</td>\n",
       "      <td>120900</td>\n",
       "      <td>120900</td>\n",
       "      <td>118200</td>\n",
       "      <td>127200</td>\n",
       "      <td>NaN</td>\n",
       "      <td>NaN</td>\n",
       "      <td>Bancroft_and_Area</td>\n",
       "    </tr>\n",
       "    <tr>\n",
       "      <th>2</th>\n",
       "      <td>2005-03-01</td>\n",
       "      <td>101.9</td>\n",
       "      <td>101.9</td>\n",
       "      <td>99.8</td>\n",
       "      <td>106.6</td>\n",
       "      <td>NaN</td>\n",
       "      <td>NaN</td>\n",
       "      <td>122100</td>\n",
       "      <td>122100</td>\n",
       "      <td>118100</td>\n",
       "      <td>131300</td>\n",
       "      <td>NaN</td>\n",
       "      <td>NaN</td>\n",
       "      <td>Bancroft_and_Area</td>\n",
       "    </tr>\n",
       "    <tr>\n",
       "      <th>3</th>\n",
       "      <td>2005-04-01</td>\n",
       "      <td>102.9</td>\n",
       "      <td>102.9</td>\n",
       "      <td>99.7</td>\n",
       "      <td>110.1</td>\n",
       "      <td>NaN</td>\n",
       "      <td>NaN</td>\n",
       "      <td>123300</td>\n",
       "      <td>123300</td>\n",
       "      <td>118000</td>\n",
       "      <td>135600</td>\n",
       "      <td>NaN</td>\n",
       "      <td>NaN</td>\n",
       "      <td>Bancroft_and_Area</td>\n",
       "    </tr>\n",
       "    <tr>\n",
       "      <th>4</th>\n",
       "      <td>2005-05-01</td>\n",
       "      <td>103.9</td>\n",
       "      <td>103.9</td>\n",
       "      <td>99.6</td>\n",
       "      <td>113.7</td>\n",
       "      <td>NaN</td>\n",
       "      <td>NaN</td>\n",
       "      <td>124500</td>\n",
       "      <td>124500</td>\n",
       "      <td>117800</td>\n",
       "      <td>140000</td>\n",
       "      <td>NaN</td>\n",
       "      <td>NaN</td>\n",
       "      <td>Bancroft_and_Area</td>\n",
       "    </tr>\n",
       "  </tbody>\n",
       "</table>\n",
       "</div>"
      ],
      "text/plain": [
       "        Date  Composite_HPI  Single_Family_HPI  One_Storey_HPI  \\\n",
       "0 2005-01-01          100.0              100.0           100.0   \n",
       "1 2005-02-01          100.9              100.9            99.9   \n",
       "2 2005-03-01          101.9              101.9            99.8   \n",
       "3 2005-04-01          102.9              102.9            99.7   \n",
       "4 2005-05-01          103.9              103.9            99.6   \n",
       "\n",
       "   Two_Storey_HPI  Townhouse_HPI  Apartment_HPI  Composite_Benchmark  \\\n",
       "0           100.0            NaN            NaN               119800   \n",
       "1           103.3            NaN            NaN               120900   \n",
       "2           106.6            NaN            NaN               122100   \n",
       "3           110.1            NaN            NaN               123300   \n",
       "4           113.7            NaN            NaN               124500   \n",
       "\n",
       "   Single_Family_Benchmark  One_Storey_Benchmark  Two_Storey_Benchmark  \\\n",
       "0                   119800                118300                123100   \n",
       "1                   120900                118200                127200   \n",
       "2                   122100                118100                131300   \n",
       "3                   123300                118000                135600   \n",
       "4                   124500                117800                140000   \n",
       "\n",
       "   Townhouse_Benchmark  Apartment_Benchmark              sheet  \n",
       "0                  NaN                  NaN  Bancroft_and_Area  \n",
       "1                  NaN                  NaN  Bancroft_and_Area  \n",
       "2                  NaN                  NaN  Bancroft_and_Area  \n",
       "3                  NaN                  NaN  Bancroft_and_Area  \n",
       "4                  NaN                  NaN  Bancroft_and_Area  "
      ]
     },
     "execution_count": 83,
     "metadata": {},
     "output_type": "execute_result"
    }
   ],
   "source": [
    "df5.loc[df5['Apartment_HPI'].isnull()].head()"
   ]
  },
  {
   "cell_type": "code",
   "execution_count": 84,
   "id": "99b216c3-966e-455b-ae26-4f0085a52446",
   "metadata": {
    "collapsed": true,
    "jupyter": {
     "outputs_hidden": true
    },
    "tags": []
   },
   "outputs": [
    {
     "data": {
      "text/html": [
       "<div>\n",
       "<style scoped>\n",
       "    .dataframe tbody tr th:only-of-type {\n",
       "        vertical-align: middle;\n",
       "    }\n",
       "\n",
       "    .dataframe tbody tr th {\n",
       "        vertical-align: top;\n",
       "    }\n",
       "\n",
       "    .dataframe thead th {\n",
       "        text-align: right;\n",
       "    }\n",
       "</style>\n",
       "<table border=\"1\" class=\"dataframe\">\n",
       "  <thead>\n",
       "    <tr style=\"text-align: right;\">\n",
       "      <th></th>\n",
       "      <th>Date</th>\n",
       "      <th>Composite_HPI</th>\n",
       "      <th>Single_Family_HPI</th>\n",
       "      <th>One_Storey_HPI</th>\n",
       "      <th>Two_Storey_HPI</th>\n",
       "      <th>Townhouse_HPI</th>\n",
       "      <th>Apartment_HPI</th>\n",
       "      <th>Composite_Benchmark</th>\n",
       "      <th>Single_Family_Benchmark</th>\n",
       "      <th>One_Storey_Benchmark</th>\n",
       "      <th>Two_Storey_Benchmark</th>\n",
       "      <th>Townhouse_Benchmark</th>\n",
       "      <th>Apartment_Benchmark</th>\n",
       "      <th>sheet</th>\n",
       "    </tr>\n",
       "  </thead>\n",
       "  <tbody>\n",
       "    <tr>\n",
       "      <th>0</th>\n",
       "      <td>2005-01-01</td>\n",
       "      <td>100.0</td>\n",
       "      <td>100.0</td>\n",
       "      <td>100.0</td>\n",
       "      <td>100.0</td>\n",
       "      <td>NaN</td>\n",
       "      <td>NaN</td>\n",
       "      <td>119800</td>\n",
       "      <td>119800</td>\n",
       "      <td>118300</td>\n",
       "      <td>123100</td>\n",
       "      <td>NaN</td>\n",
       "      <td>NaN</td>\n",
       "      <td>Bancroft_and_Area</td>\n",
       "    </tr>\n",
       "    <tr>\n",
       "      <th>1</th>\n",
       "      <td>2005-02-01</td>\n",
       "      <td>100.9</td>\n",
       "      <td>100.9</td>\n",
       "      <td>99.9</td>\n",
       "      <td>103.3</td>\n",
       "      <td>NaN</td>\n",
       "      <td>NaN</td>\n",
       "      <td>120900</td>\n",
       "      <td>120900</td>\n",
       "      <td>118200</td>\n",
       "      <td>127200</td>\n",
       "      <td>NaN</td>\n",
       "      <td>NaN</td>\n",
       "      <td>Bancroft_and_Area</td>\n",
       "    </tr>\n",
       "    <tr>\n",
       "      <th>2</th>\n",
       "      <td>2005-03-01</td>\n",
       "      <td>101.9</td>\n",
       "      <td>101.9</td>\n",
       "      <td>99.8</td>\n",
       "      <td>106.6</td>\n",
       "      <td>NaN</td>\n",
       "      <td>NaN</td>\n",
       "      <td>122100</td>\n",
       "      <td>122100</td>\n",
       "      <td>118100</td>\n",
       "      <td>131300</td>\n",
       "      <td>NaN</td>\n",
       "      <td>NaN</td>\n",
       "      <td>Bancroft_and_Area</td>\n",
       "    </tr>\n",
       "    <tr>\n",
       "      <th>3</th>\n",
       "      <td>2005-04-01</td>\n",
       "      <td>102.9</td>\n",
       "      <td>102.9</td>\n",
       "      <td>99.7</td>\n",
       "      <td>110.1</td>\n",
       "      <td>NaN</td>\n",
       "      <td>NaN</td>\n",
       "      <td>123300</td>\n",
       "      <td>123300</td>\n",
       "      <td>118000</td>\n",
       "      <td>135600</td>\n",
       "      <td>NaN</td>\n",
       "      <td>NaN</td>\n",
       "      <td>Bancroft_and_Area</td>\n",
       "    </tr>\n",
       "    <tr>\n",
       "      <th>4</th>\n",
       "      <td>2005-05-01</td>\n",
       "      <td>103.9</td>\n",
       "      <td>103.9</td>\n",
       "      <td>99.6</td>\n",
       "      <td>113.7</td>\n",
       "      <td>NaN</td>\n",
       "      <td>NaN</td>\n",
       "      <td>124500</td>\n",
       "      <td>124500</td>\n",
       "      <td>117800</td>\n",
       "      <td>140000</td>\n",
       "      <td>NaN</td>\n",
       "      <td>NaN</td>\n",
       "      <td>Bancroft_and_Area</td>\n",
       "    </tr>\n",
       "  </tbody>\n",
       "</table>\n",
       "</div>"
      ],
      "text/plain": [
       "        Date  Composite_HPI  Single_Family_HPI  One_Storey_HPI  \\\n",
       "0 2005-01-01          100.0              100.0           100.0   \n",
       "1 2005-02-01          100.9              100.9            99.9   \n",
       "2 2005-03-01          101.9              101.9            99.8   \n",
       "3 2005-04-01          102.9              102.9            99.7   \n",
       "4 2005-05-01          103.9              103.9            99.6   \n",
       "\n",
       "   Two_Storey_HPI  Townhouse_HPI  Apartment_HPI  Composite_Benchmark  \\\n",
       "0           100.0            NaN            NaN               119800   \n",
       "1           103.3            NaN            NaN               120900   \n",
       "2           106.6            NaN            NaN               122100   \n",
       "3           110.1            NaN            NaN               123300   \n",
       "4           113.7            NaN            NaN               124500   \n",
       "\n",
       "   Single_Family_Benchmark  One_Storey_Benchmark  Two_Storey_Benchmark  \\\n",
       "0                   119800                118300                123100   \n",
       "1                   120900                118200                127200   \n",
       "2                   122100                118100                131300   \n",
       "3                   123300                118000                135600   \n",
       "4                   124500                117800                140000   \n",
       "\n",
       "   Townhouse_Benchmark  Apartment_Benchmark              sheet  \n",
       "0                  NaN                  NaN  Bancroft_and_Area  \n",
       "1                  NaN                  NaN  Bancroft_and_Area  \n",
       "2                  NaN                  NaN  Bancroft_and_Area  \n",
       "3                  NaN                  NaN  Bancroft_and_Area  \n",
       "4                  NaN                  NaN  Bancroft_and_Area  "
      ]
     },
     "execution_count": 84,
     "metadata": {},
     "output_type": "execute_result"
    }
   ],
   "source": [
    "df5.loc[df5['Townhouse_Benchmark'].isnull()].head()"
   ]
  },
  {
   "cell_type": "code",
   "execution_count": 85,
   "id": "99268b8e-2572-400d-b58b-c03e6388b556",
   "metadata": {
    "collapsed": true,
    "jupyter": {
     "outputs_hidden": true
    },
    "tags": []
   },
   "outputs": [
    {
     "data": {
      "text/html": [
       "<div>\n",
       "<style scoped>\n",
       "    .dataframe tbody tr th:only-of-type {\n",
       "        vertical-align: middle;\n",
       "    }\n",
       "\n",
       "    .dataframe tbody tr th {\n",
       "        vertical-align: top;\n",
       "    }\n",
       "\n",
       "    .dataframe thead th {\n",
       "        text-align: right;\n",
       "    }\n",
       "</style>\n",
       "<table border=\"1\" class=\"dataframe\">\n",
       "  <thead>\n",
       "    <tr style=\"text-align: right;\">\n",
       "      <th></th>\n",
       "      <th>Date</th>\n",
       "      <th>Composite_HPI</th>\n",
       "      <th>Single_Family_HPI</th>\n",
       "      <th>One_Storey_HPI</th>\n",
       "      <th>Two_Storey_HPI</th>\n",
       "      <th>Townhouse_HPI</th>\n",
       "      <th>Apartment_HPI</th>\n",
       "      <th>Composite_Benchmark</th>\n",
       "      <th>Single_Family_Benchmark</th>\n",
       "      <th>One_Storey_Benchmark</th>\n",
       "      <th>Two_Storey_Benchmark</th>\n",
       "      <th>Townhouse_Benchmark</th>\n",
       "      <th>Apartment_Benchmark</th>\n",
       "      <th>sheet</th>\n",
       "    </tr>\n",
       "  </thead>\n",
       "  <tbody>\n",
       "    <tr>\n",
       "      <th>0</th>\n",
       "      <td>2005-01-01</td>\n",
       "      <td>100.0</td>\n",
       "      <td>100.0</td>\n",
       "      <td>100.0</td>\n",
       "      <td>100.0</td>\n",
       "      <td>NaN</td>\n",
       "      <td>NaN</td>\n",
       "      <td>119800</td>\n",
       "      <td>119800</td>\n",
       "      <td>118300</td>\n",
       "      <td>123100</td>\n",
       "      <td>NaN</td>\n",
       "      <td>NaN</td>\n",
       "      <td>Bancroft_and_Area</td>\n",
       "    </tr>\n",
       "    <tr>\n",
       "      <th>1</th>\n",
       "      <td>2005-02-01</td>\n",
       "      <td>100.9</td>\n",
       "      <td>100.9</td>\n",
       "      <td>99.9</td>\n",
       "      <td>103.3</td>\n",
       "      <td>NaN</td>\n",
       "      <td>NaN</td>\n",
       "      <td>120900</td>\n",
       "      <td>120900</td>\n",
       "      <td>118200</td>\n",
       "      <td>127200</td>\n",
       "      <td>NaN</td>\n",
       "      <td>NaN</td>\n",
       "      <td>Bancroft_and_Area</td>\n",
       "    </tr>\n",
       "    <tr>\n",
       "      <th>2</th>\n",
       "      <td>2005-03-01</td>\n",
       "      <td>101.9</td>\n",
       "      <td>101.9</td>\n",
       "      <td>99.8</td>\n",
       "      <td>106.6</td>\n",
       "      <td>NaN</td>\n",
       "      <td>NaN</td>\n",
       "      <td>122100</td>\n",
       "      <td>122100</td>\n",
       "      <td>118100</td>\n",
       "      <td>131300</td>\n",
       "      <td>NaN</td>\n",
       "      <td>NaN</td>\n",
       "      <td>Bancroft_and_Area</td>\n",
       "    </tr>\n",
       "    <tr>\n",
       "      <th>3</th>\n",
       "      <td>2005-04-01</td>\n",
       "      <td>102.9</td>\n",
       "      <td>102.9</td>\n",
       "      <td>99.7</td>\n",
       "      <td>110.1</td>\n",
       "      <td>NaN</td>\n",
       "      <td>NaN</td>\n",
       "      <td>123300</td>\n",
       "      <td>123300</td>\n",
       "      <td>118000</td>\n",
       "      <td>135600</td>\n",
       "      <td>NaN</td>\n",
       "      <td>NaN</td>\n",
       "      <td>Bancroft_and_Area</td>\n",
       "    </tr>\n",
       "    <tr>\n",
       "      <th>4</th>\n",
       "      <td>2005-05-01</td>\n",
       "      <td>103.9</td>\n",
       "      <td>103.9</td>\n",
       "      <td>99.6</td>\n",
       "      <td>113.7</td>\n",
       "      <td>NaN</td>\n",
       "      <td>NaN</td>\n",
       "      <td>124500</td>\n",
       "      <td>124500</td>\n",
       "      <td>117800</td>\n",
       "      <td>140000</td>\n",
       "      <td>NaN</td>\n",
       "      <td>NaN</td>\n",
       "      <td>Bancroft_and_Area</td>\n",
       "    </tr>\n",
       "  </tbody>\n",
       "</table>\n",
       "</div>"
      ],
      "text/plain": [
       "        Date  Composite_HPI  Single_Family_HPI  One_Storey_HPI  \\\n",
       "0 2005-01-01          100.0              100.0           100.0   \n",
       "1 2005-02-01          100.9              100.9            99.9   \n",
       "2 2005-03-01          101.9              101.9            99.8   \n",
       "3 2005-04-01          102.9              102.9            99.7   \n",
       "4 2005-05-01          103.9              103.9            99.6   \n",
       "\n",
       "   Two_Storey_HPI  Townhouse_HPI  Apartment_HPI  Composite_Benchmark  \\\n",
       "0           100.0            NaN            NaN               119800   \n",
       "1           103.3            NaN            NaN               120900   \n",
       "2           106.6            NaN            NaN               122100   \n",
       "3           110.1            NaN            NaN               123300   \n",
       "4           113.7            NaN            NaN               124500   \n",
       "\n",
       "   Single_Family_Benchmark  One_Storey_Benchmark  Two_Storey_Benchmark  \\\n",
       "0                   119800                118300                123100   \n",
       "1                   120900                118200                127200   \n",
       "2                   122100                118100                131300   \n",
       "3                   123300                118000                135600   \n",
       "4                   124500                117800                140000   \n",
       "\n",
       "   Townhouse_Benchmark  Apartment_Benchmark              sheet  \n",
       "0                  NaN                  NaN  Bancroft_and_Area  \n",
       "1                  NaN                  NaN  Bancroft_and_Area  \n",
       "2                  NaN                  NaN  Bancroft_and_Area  \n",
       "3                  NaN                  NaN  Bancroft_and_Area  \n",
       "4                  NaN                  NaN  Bancroft_and_Area  "
      ]
     },
     "execution_count": 85,
     "metadata": {},
     "output_type": "execute_result"
    }
   ],
   "source": [
    "df5.loc[df5['Apartment_Benchmark'].isnull()].head()"
   ]
  },
  {
   "cell_type": "markdown",
   "id": "26d0f3e4-490a-43b5-8cea-2bca7b34102d",
   "metadata": {},
   "source": [
    "Ok so these null values are possibly for areas where there's no apartment/townhouse. We'll keep them for now."
   ]
  },
  {
   "cell_type": "markdown",
   "id": "454c73ba-1aec-4b27-97f6-aece46992443",
   "metadata": {
    "jp-MarkdownHeadingCollapsed": true,
    "tags": []
   },
   "source": [
    "### Cleaning - Duplicate Values"
   ]
  },
  {
   "cell_type": "code",
   "execution_count": 86,
   "id": "3dae53fc-8d0c-4919-966b-7bdd199a5135",
   "metadata": {},
   "outputs": [
    {
     "data": {
      "text/html": [
       "<div>\n",
       "<style scoped>\n",
       "    .dataframe tbody tr th:only-of-type {\n",
       "        vertical-align: middle;\n",
       "    }\n",
       "\n",
       "    .dataframe tbody tr th {\n",
       "        vertical-align: top;\n",
       "    }\n",
       "\n",
       "    .dataframe thead th {\n",
       "        text-align: right;\n",
       "    }\n",
       "</style>\n",
       "<table border=\"1\" class=\"dataframe\">\n",
       "  <thead>\n",
       "    <tr style=\"text-align: right;\">\n",
       "      <th></th>\n",
       "      <th>Date</th>\n",
       "      <th>Composite_HPI</th>\n",
       "      <th>Single_Family_HPI</th>\n",
       "      <th>One_Storey_HPI</th>\n",
       "      <th>Two_Storey_HPI</th>\n",
       "      <th>Townhouse_HPI</th>\n",
       "      <th>Apartment_HPI</th>\n",
       "      <th>Composite_Benchmark</th>\n",
       "      <th>Single_Family_Benchmark</th>\n",
       "      <th>One_Storey_Benchmark</th>\n",
       "      <th>Two_Storey_Benchmark</th>\n",
       "      <th>Townhouse_Benchmark</th>\n",
       "      <th>Apartment_Benchmark</th>\n",
       "      <th>sheet</th>\n",
       "    </tr>\n",
       "  </thead>\n",
       "  <tbody>\n",
       "  </tbody>\n",
       "</table>\n",
       "</div>"
      ],
      "text/plain": [
       "Empty DataFrame\n",
       "Columns: [Date, Composite_HPI, Single_Family_HPI, One_Storey_HPI, Two_Storey_HPI, Townhouse_HPI, Apartment_HPI, Composite_Benchmark, Single_Family_Benchmark, One_Storey_Benchmark, Two_Storey_Benchmark, Townhouse_Benchmark, Apartment_Benchmark, sheet]\n",
       "Index: []"
      ]
     },
     "execution_count": 86,
     "metadata": {},
     "output_type": "execute_result"
    }
   ],
   "source": [
    "df5[df5.duplicated()]"
   ]
  },
  {
   "cell_type": "markdown",
   "id": "4732fc00-e468-40bd-9bc3-44c209c28a34",
   "metadata": {},
   "source": [
    "GTG"
   ]
  },
  {
   "cell_type": "code",
   "execution_count": null,
   "id": "ad1cf495-968e-434e-9eb0-faf30cb59406",
   "metadata": {},
   "outputs": [],
   "source": []
  },
  {
   "cell_type": "markdown",
   "id": "35165d66-306f-49d8-9bef-f90bb564c775",
   "metadata": {
    "jp-MarkdownHeadingCollapsed": true,
    "tags": []
   },
   "source": [
    "### Formatting JOIN columns"
   ]
  },
  {
   "cell_type": "code",
   "execution_count": 34,
   "id": "bf3177f4-e2f9-4008-b7e8-8f1419ef876d",
   "metadata": {},
   "outputs": [
    {
     "name": "stdout",
     "output_type": "stream",
     "text": [
      "<class 'pandas.core.frame.DataFrame'>\n",
      "Int64Index: 7938 entries, 0 to 188\n",
      "Data columns (total 17 columns):\n",
      " #   Column                   Non-Null Count  Dtype         \n",
      "---  ------                   --------------  -----         \n",
      " 0   Date                     7938 non-null   datetime64[ns]\n",
      " 1   Composite_HPI            7938 non-null   float64       \n",
      " 2   Single_Family_HPI        7938 non-null   float64       \n",
      " 3   One_Storey_HPI           7938 non-null   float64       \n",
      " 4   Two_Storey_HPI           7938 non-null   float64       \n",
      " 5   Townhouse_HPI            6615 non-null   float64       \n",
      " 6   Apartment_HPI            6237 non-null   float64       \n",
      " 7   Composite_Benchmark      7938 non-null   int64         \n",
      " 8   Single_Family_Benchmark  7938 non-null   int64         \n",
      " 9   One_Storey_Benchmark     7938 non-null   int64         \n",
      " 10  Two_Storey_Benchmark     7938 non-null   int64         \n",
      " 11  Townhouse_Benchmark      6615 non-null   float64       \n",
      " 12  Apartment_Benchmark      6237 non-null   float64       \n",
      " 13  sheet                    7938 non-null   object        \n",
      " 14  joinYear                 7938 non-null   int64         \n",
      " 15  joinMonth                7938 non-null   int64         \n",
      " 16  joinProvince             7938 non-null   object        \n",
      "dtypes: datetime64[ns](1), float64(8), int64(6), object(2)\n",
      "memory usage: 1.1+ MB\n"
     ]
    }
   ],
   "source": [
    "#Making a year column\n",
    "df5['joinYear']=df5['Date'].dt.year\n",
    "\n",
    "#Making a Month Column\n",
    "df5['joinMonth']=df5['Date'].dt.month\n",
    "\n",
    "# Making a Province Column\n",
    "## Canada = Canada, every other will be down to a province\n",
    "## In that case the region values are all Canada so we'll keep them like that\n",
    "df5['joinProvince']=df5['sheet']\n",
    "\n",
    "X='Aggregate'\n",
    "Y='Canada'\n",
    "df5['joinProvince'].replace(X, Y, inplace=True)\n",
    "\n",
    "X='Vancouver_Island'\n",
    "Y='BC'\n",
    "df5['joinProvince'].replace(X, Y, inplace=True)\n",
    "\n",
    "X='Victoria'\n",
    "Y='BC'\n",
    "df5['joinProvince'].replace(X, Y, inplace=True)\n",
    "\n",
    "X='Lower_Mainland'\n",
    "Y='BC'\n",
    "df5['joinProvince'].replace(X, Y, inplace=True)\n",
    "\n",
    "X='Greater_Vancouver'\n",
    "Y='BC'\n",
    "df5['joinProvince'].replace(X, Y, inplace=True)\n",
    "\n",
    "X='Fraser_Valley'\n",
    "Y='BC'\n",
    "df5['joinProvince'].replace(X, Y, inplace=True)\n",
    "\n",
    "X='Okanagan_Valley'\n",
    "Y='BC'\n",
    "df5['joinProvince'].replace(X, Y, inplace=True)\n",
    "\n",
    "X='Calgary'\n",
    "Y='AB'\n",
    "df5['joinProvince'].replace(X, Y, inplace=True)\n",
    "\n",
    "X='Edmonton'\n",
    "Y='AB'\n",
    "df5['joinProvince'].replace(X, Y, inplace=True)\n",
    "\n",
    "X='Regina'\n",
    "Y='SK'\n",
    "df5['joinProvince'].replace(X, Y, inplace=True)\n",
    "\n",
    "X='Saskatoon'\n",
    "Y='SK'\n",
    "df5['joinProvince'].replace(X, Y, inplace=True)\n",
    "\n",
    "X='Winnipeg'\n",
    "Y='MB'\n",
    "df5['joinProvince'].replace(X, Y, inplace=True)\n",
    "\n",
    "X='Bancroft_and_Area'\n",
    "Y='ON'\n",
    "df5['joinProvince'].replace(X, Y, inplace=True)\n",
    "\n",
    "X='Barrie_and_District'\n",
    "Y='ON'\n",
    "df5['joinProvince'].replace(X, Y, inplace=True)\n",
    "\n",
    "X='Brantford_Region'\n",
    "Y='ON'\n",
    "df5['joinProvince'].replace(X, Y, inplace=True)\n",
    "\n",
    "X='Cambridge'\n",
    "Y='ON'\n",
    "df5['joinProvince'].replace(X, Y, inplace=True)\n",
    "\n",
    "X='Grey_Bruce_Owen_Sound'\n",
    "Y='ON'\n",
    "df5['joinProvince'].replace(X, Y, inplace=True)\n",
    "\n",
    "X='Guelph_and_District'\n",
    "Y='ON'\n",
    "df5['joinProvince'].replace(X, Y, inplace=True)\n",
    "\n",
    "X='Hamilton_Burlington'\n",
    "Y='ON'\n",
    "df5['joinProvince'].replace(X, Y, inplace=True)\n",
    "\n",
    "X='Huron_Perth'\n",
    "Y='ON'\n",
    "df5['joinProvince'].replace(X, Y, inplace=True)\n",
    "\n",
    "X='Kawartha_Lakes'\n",
    "Y='ON'\n",
    "df5['joinProvince'].replace(X, Y, inplace=True)\n",
    "\n",
    "X='Kitchener_Waterloo'\n",
    "Y='ON'\n",
    "df5['joinProvince'].replace(X, Y, inplace=True)\n",
    "\n",
    "X='Lakelands'\n",
    "Y='ON'\n",
    "df5['joinProvince'].replace(X, Y, inplace=True)\n",
    "\n",
    "X='London_St_Thomas'\n",
    "Y='ON'\n",
    "df5['joinProvince'].replace(X, Y, inplace=True)\n",
    "\n",
    "X='Mississauga'\n",
    "Y='ON'\n",
    "df5['joinProvince'].replace(X, Y, inplace=True)\n",
    "\n",
    "X='Niagara_Region'\n",
    "Y='ON'\n",
    "df5['joinProvince'].replace(X, Y, inplace=True)\n",
    "\n",
    "X='North_Bay'\n",
    "Y='ON'\n",
    "df5['joinProvince'].replace(X, Y, inplace=True)\n",
    "\n",
    "X='Northumberland_Hills'\n",
    "Y='ON'\n",
    "df5['joinProvince'].replace(X, Y, inplace=True)\n",
    "\n",
    "X='Oakville_Milton'\n",
    "Y='ON'\n",
    "df5['joinProvince'].replace(X, Y, inplace=True)\n",
    "\n",
    "X='Ottawa'\n",
    "Y='ON'\n",
    "df5['joinProvince'].replace(X, Y, inplace=True)\n",
    "\n",
    "X='Peterborough_and_Kawarthas'\n",
    "Y='ON'\n",
    "df5['joinProvince'].replace(X, Y, inplace=True)\n",
    "\n",
    "X='Quinte_and_District'\n",
    "Y='ON'\n",
    "df5['joinProvince'].replace(X, Y, inplace=True)\n",
    "\n",
    "X='Simcoe_and_District'\n",
    "Y='ON'\n",
    "df5['joinProvince'].replace(X, Y, inplace=True)\n",
    "\n",
    "X='Southern_Georgian_Bay'\n",
    "Y='ON'\n",
    "df5['joinProvince'].replace(X, Y, inplace=True)\n",
    "\n",
    "X='Tillsonburg_District'\n",
    "Y='ON'\n",
    "df5['joinProvince'].replace(X, Y, inplace=True)\n",
    "\n",
    "X='Greater_Toronto'\n",
    "Y='ON'\n",
    "df5['joinProvince'].replace(X, Y, inplace=True)\n",
    "\n",
    "X='Woodstock_Ingersoll'\n",
    "Y='ON'\n",
    "df5['joinProvince'].replace(X, Y, inplace=True)\n",
    "\n",
    "X='Montreal_CMA'\n",
    "Y='QC'\n",
    "df5['joinProvince'].replace(X, Y, inplace=True)\n",
    "\n",
    "X='Quebec_CMA'\n",
    "Y='QC'\n",
    "df5['joinProvince'].replace(X, Y, inplace=True)\n",
    "\n",
    "X='Greater_Moncton'\n",
    "Y='NB'\n",
    "df5['joinProvince'].replace(X, Y, inplace=True)\n",
    "\n",
    "X='Newfoundland_and_Labrador'\n",
    "Y='NL'\n",
    "df5['joinProvince'].replace(X, Y, inplace=True)\n",
    "\n",
    "X='St_Johns_NL'\n",
    "Y='NL'\n",
    "df5['joinProvince'].replace(X, Y, inplace=True)\n",
    "\n",
    "df5.info()"
   ]
  },
  {
   "cell_type": "markdown",
   "id": "0bd0a40b-10d4-496a-bc99-a0a13e3f817a",
   "metadata": {
    "jp-MarkdownHeadingCollapsed": true,
    "tags": []
   },
   "source": [
    "### Export Dataset"
   ]
  },
  {
   "cell_type": "code",
   "execution_count": 37,
   "id": "ac128d8f-1d3b-4623-b8e6-fc4ccf6e2b88",
   "metadata": {
    "tags": []
   },
   "outputs": [],
   "source": [
    "df5.to_csv('Data-Visualization-and-Dashboards-with-Tableau/Clean_data/real_estate_prices.csv')"
   ]
  },
  {
   "cell_type": "markdown",
   "id": "ed67e305-236d-41ac-a499-43b30c0f6788",
   "metadata": {
    "tags": []
   },
   "source": [
    "## Dataset 6 - Weekly Earnings"
   ]
  },
  {
   "cell_type": "markdown",
   "id": "b7ec7a50-197f-428e-ba5d-fb4505d178cf",
   "metadata": {
    "tags": []
   },
   "source": [
    "### Import dataset"
   ]
  },
  {
   "cell_type": "code",
   "execution_count": 11,
   "id": "f2db6ab0-d8bb-4d80-82c2-35044b3f887e",
   "metadata": {},
   "outputs": [],
   "source": [
    "import json\n",
    "json_file = json.load(open('Data-Visualization-and-Dashboards-with-Tableau/Raw_data/weekly_earnings.json'))"
   ]
  },
  {
   "cell_type": "code",
   "execution_count": 39,
   "id": "1df623c2-9c08-4635-8cb8-05eafe800ace",
   "metadata": {
    "tags": []
   },
   "outputs": [
    {
     "data": {
      "text/plain": [
       "dict_keys(['meta', 'data'])"
      ]
     },
     "execution_count": 39,
     "metadata": {},
     "output_type": "execute_result"
    }
   ],
   "source": [
    "json_file.keys()"
   ]
  },
  {
   "cell_type": "code",
   "execution_count": 41,
   "id": "21e86d5e-1ada-4509-a998-fb17c02f579b",
   "metadata": {
    "collapsed": true,
    "jupyter": {
     "outputs_hidden": true
    },
    "tags": []
   },
   "outputs": [
    {
     "data": {
      "text/html": [
       "<div>\n",
       "<style scoped>\n",
       "    .dataframe tbody tr th:only-of-type {\n",
       "        vertical-align: middle;\n",
       "    }\n",
       "\n",
       "    .dataframe tbody tr th {\n",
       "        vertical-align: top;\n",
       "    }\n",
       "\n",
       "    .dataframe thead th {\n",
       "        text-align: right;\n",
       "    }\n",
       "</style>\n",
       "<table border=\"1\" class=\"dataframe\">\n",
       "  <thead>\n",
       "    <tr style=\"text-align: right;\">\n",
       "      <th></th>\n",
       "      <th>id</th>\n",
       "      <th>name</th>\n",
       "      <th>dataTypeName</th>\n",
       "      <th>fieldName</th>\n",
       "      <th>position</th>\n",
       "      <th>renderTypeName</th>\n",
       "      <th>format</th>\n",
       "      <th>tableColumnId</th>\n",
       "      <th>width</th>\n",
       "      <th>cachedContents</th>\n",
       "    </tr>\n",
       "  </thead>\n",
       "  <tbody>\n",
       "    <tr>\n",
       "      <th>0</th>\n",
       "      <td>-1</td>\n",
       "      <td>sid</td>\n",
       "      <td>meta_data</td>\n",
       "      <td>:sid</td>\n",
       "      <td>0</td>\n",
       "      <td>meta_data</td>\n",
       "      <td>{}</td>\n",
       "      <td>NaN</td>\n",
       "      <td>NaN</td>\n",
       "      <td>NaN</td>\n",
       "    </tr>\n",
       "    <tr>\n",
       "      <th>1</th>\n",
       "      <td>-1</td>\n",
       "      <td>id</td>\n",
       "      <td>meta_data</td>\n",
       "      <td>:id</td>\n",
       "      <td>0</td>\n",
       "      <td>meta_data</td>\n",
       "      <td>{}</td>\n",
       "      <td>NaN</td>\n",
       "      <td>NaN</td>\n",
       "      <td>NaN</td>\n",
       "    </tr>\n",
       "    <tr>\n",
       "      <th>2</th>\n",
       "      <td>-1</td>\n",
       "      <td>position</td>\n",
       "      <td>meta_data</td>\n",
       "      <td>:position</td>\n",
       "      <td>0</td>\n",
       "      <td>meta_data</td>\n",
       "      <td>{}</td>\n",
       "      <td>NaN</td>\n",
       "      <td>NaN</td>\n",
       "      <td>NaN</td>\n",
       "    </tr>\n",
       "    <tr>\n",
       "      <th>3</th>\n",
       "      <td>-1</td>\n",
       "      <td>created_at</td>\n",
       "      <td>meta_data</td>\n",
       "      <td>:created_at</td>\n",
       "      <td>0</td>\n",
       "      <td>meta_data</td>\n",
       "      <td>{}</td>\n",
       "      <td>NaN</td>\n",
       "      <td>NaN</td>\n",
       "      <td>NaN</td>\n",
       "    </tr>\n",
       "    <tr>\n",
       "      <th>4</th>\n",
       "      <td>-1</td>\n",
       "      <td>created_meta</td>\n",
       "      <td>meta_data</td>\n",
       "      <td>:created_meta</td>\n",
       "      <td>0</td>\n",
       "      <td>meta_data</td>\n",
       "      <td>{}</td>\n",
       "      <td>NaN</td>\n",
       "      <td>NaN</td>\n",
       "      <td>NaN</td>\n",
       "    </tr>\n",
       "    <tr>\n",
       "      <th>5</th>\n",
       "      <td>-1</td>\n",
       "      <td>updated_at</td>\n",
       "      <td>meta_data</td>\n",
       "      <td>:updated_at</td>\n",
       "      <td>0</td>\n",
       "      <td>meta_data</td>\n",
       "      <td>{}</td>\n",
       "      <td>NaN</td>\n",
       "      <td>NaN</td>\n",
       "      <td>NaN</td>\n",
       "    </tr>\n",
       "    <tr>\n",
       "      <th>6</th>\n",
       "      <td>-1</td>\n",
       "      <td>updated_meta</td>\n",
       "      <td>meta_data</td>\n",
       "      <td>:updated_meta</td>\n",
       "      <td>0</td>\n",
       "      <td>meta_data</td>\n",
       "      <td>{}</td>\n",
       "      <td>NaN</td>\n",
       "      <td>NaN</td>\n",
       "      <td>NaN</td>\n",
       "    </tr>\n",
       "    <tr>\n",
       "      <th>7</th>\n",
       "      <td>-1</td>\n",
       "      <td>meta</td>\n",
       "      <td>meta_data</td>\n",
       "      <td>:meta</td>\n",
       "      <td>0</td>\n",
       "      <td>meta_data</td>\n",
       "      <td>{}</td>\n",
       "      <td>NaN</td>\n",
       "      <td>NaN</td>\n",
       "      <td>NaN</td>\n",
       "    </tr>\n",
       "    <tr>\n",
       "      <th>8</th>\n",
       "      <td>131248874</td>\n",
       "      <td>When</td>\n",
       "      <td>calendar_date</td>\n",
       "      <td>when</td>\n",
       "      <td>1</td>\n",
       "      <td>calendar_date</td>\n",
       "      <td>{'view': 'date', 'align': 'left'}</td>\n",
       "      <td>17874417.0</td>\n",
       "      <td>160.0</td>\n",
       "      <td>{'non_null': 172, 'smallest': '2001-01-01T00:0...</td>\n",
       "    </tr>\n",
       "    <tr>\n",
       "      <th>9</th>\n",
       "      <td>131248875</td>\n",
       "      <td>NAICS</td>\n",
       "      <td>text</td>\n",
       "      <td>naics</td>\n",
       "      <td>2</td>\n",
       "      <td>text</td>\n",
       "      <td>{}</td>\n",
       "      <td>17874418.0</td>\n",
       "      <td>160.0</td>\n",
       "      <td>{'non_null': 172, 'smallest': 'Industrial aggr...</td>\n",
       "    </tr>\n",
       "    <tr>\n",
       "      <th>10</th>\n",
       "      <td>131248876</td>\n",
       "      <td>Alberta</td>\n",
       "      <td>number</td>\n",
       "      <td>alberta</td>\n",
       "      <td>3</td>\n",
       "      <td>number</td>\n",
       "      <td>{'precisionStyle': 'standard', 'precision': '2...</td>\n",
       "      <td>17874419.0</td>\n",
       "      <td>184.0</td>\n",
       "      <td>{'non_null': 172, 'smallest': '664.45', 'sum':...</td>\n",
       "    </tr>\n",
       "    <tr>\n",
       "      <th>11</th>\n",
       "      <td>131248877</td>\n",
       "      <td>BritishColumbia</td>\n",
       "      <td>number</td>\n",
       "      <td>britishcolumbia</td>\n",
       "      <td>4</td>\n",
       "      <td>number</td>\n",
       "      <td>{'precisionStyle': 'standard', 'precision': '2...</td>\n",
       "      <td>17874420.0</td>\n",
       "      <td>280.0</td>\n",
       "      <td>{'non_null': 172, 'smallest': '653.23', 'sum':...</td>\n",
       "    </tr>\n",
       "    <tr>\n",
       "      <th>12</th>\n",
       "      <td>131248878</td>\n",
       "      <td>Canada</td>\n",
       "      <td>number</td>\n",
       "      <td>canada</td>\n",
       "      <td>5</td>\n",
       "      <td>number</td>\n",
       "      <td>{'precisionStyle': 'standard', 'precision': '2...</td>\n",
       "      <td>17874421.0</td>\n",
       "      <td>172.0</td>\n",
       "      <td>{'non_null': 172, 'smallest': '650.02', 'sum':...</td>\n",
       "    </tr>\n",
       "    <tr>\n",
       "      <th>13</th>\n",
       "      <td>131248879</td>\n",
       "      <td>Manitoba</td>\n",
       "      <td>number</td>\n",
       "      <td>manitoba</td>\n",
       "      <td>6</td>\n",
       "      <td>number</td>\n",
       "      <td>{'precisionStyle': 'standard', 'precision': '2...</td>\n",
       "      <td>17874422.0</td>\n",
       "      <td>196.0</td>\n",
       "      <td>{'non_null': 172, 'smallest': '571.84', 'sum':...</td>\n",
       "    </tr>\n",
       "    <tr>\n",
       "      <th>14</th>\n",
       "      <td>131248880</td>\n",
       "      <td>NewBrunswick</td>\n",
       "      <td>number</td>\n",
       "      <td>newbrunswick</td>\n",
       "      <td>7</td>\n",
       "      <td>number</td>\n",
       "      <td>{'precisionStyle': 'standard', 'precision': '2...</td>\n",
       "      <td>17874423.0</td>\n",
       "      <td>244.0</td>\n",
       "      <td>{'non_null': 172, 'smallest': '578.44', 'sum':...</td>\n",
       "    </tr>\n",
       "    <tr>\n",
       "      <th>15</th>\n",
       "      <td>131248881</td>\n",
       "      <td>NewfoundlandAndLabrador</td>\n",
       "      <td>number</td>\n",
       "      <td>newfoundlandandlabrador</td>\n",
       "      <td>8</td>\n",
       "      <td>number</td>\n",
       "      <td>{'precisionStyle': 'standard', 'precision': '2...</td>\n",
       "      <td>17874424.0</td>\n",
       "      <td>376.0</td>\n",
       "      <td>{'non_null': 172, 'smallest': '585.27', 'sum':...</td>\n",
       "    </tr>\n",
       "    <tr>\n",
       "      <th>16</th>\n",
       "      <td>131248882</td>\n",
       "      <td>NovaScotia</td>\n",
       "      <td>number</td>\n",
       "      <td>novascotia</td>\n",
       "      <td>9</td>\n",
       "      <td>number</td>\n",
       "      <td>{'precisionStyle': 'standard', 'precision': '2...</td>\n",
       "      <td>17874425.0</td>\n",
       "      <td>220.0</td>\n",
       "      <td>{'non_null': 172, 'smallest': '567.96', 'sum':...</td>\n",
       "    </tr>\n",
       "    <tr>\n",
       "      <th>17</th>\n",
       "      <td>131248883</td>\n",
       "      <td>Ontario</td>\n",
       "      <td>number</td>\n",
       "      <td>ontario</td>\n",
       "      <td>10</td>\n",
       "      <td>number</td>\n",
       "      <td>{'precisionStyle': 'standard', 'precision': '2...</td>\n",
       "      <td>17874426.0</td>\n",
       "      <td>184.0</td>\n",
       "      <td>{'non_null': 172, 'smallest': '688.27', 'sum':...</td>\n",
       "    </tr>\n",
       "    <tr>\n",
       "      <th>18</th>\n",
       "      <td>131248884</td>\n",
       "      <td>PrinceEdwardIsland</td>\n",
       "      <td>number</td>\n",
       "      <td>princeedwardisland</td>\n",
       "      <td>11</td>\n",
       "      <td>number</td>\n",
       "      <td>{'precisionStyle': 'standard', 'precision': '2...</td>\n",
       "      <td>17874427.0</td>\n",
       "      <td>316.0</td>\n",
       "      <td>{'non_null': 172, 'smallest': '509.55', 'sum':...</td>\n",
       "    </tr>\n",
       "    <tr>\n",
       "      <th>19</th>\n",
       "      <td>131248885</td>\n",
       "      <td>Quebec</td>\n",
       "      <td>number</td>\n",
       "      <td>quebec</td>\n",
       "      <td>12</td>\n",
       "      <td>number</td>\n",
       "      <td>{'precisionStyle': 'standard', 'precision': '2...</td>\n",
       "      <td>17874428.0</td>\n",
       "      <td>172.0</td>\n",
       "      <td>{'non_null': 172, 'smallest': '618.90', 'sum':...</td>\n",
       "    </tr>\n",
       "    <tr>\n",
       "      <th>20</th>\n",
       "      <td>131248886</td>\n",
       "      <td>Saskatchewan</td>\n",
       "      <td>number</td>\n",
       "      <td>saskatchewan</td>\n",
       "      <td>13</td>\n",
       "      <td>number</td>\n",
       "      <td>{'precisionStyle': 'standard', 'precision': '2...</td>\n",
       "      <td>17874429.0</td>\n",
       "      <td>244.0</td>\n",
       "      <td>{'non_null': 172, 'smallest': '587.41', 'sum':...</td>\n",
       "    </tr>\n",
       "  </tbody>\n",
       "</table>\n",
       "</div>"
      ],
      "text/plain": [
       "           id                     name   dataTypeName  \\\n",
       "0          -1                      sid      meta_data   \n",
       "1          -1                       id      meta_data   \n",
       "2          -1                 position      meta_data   \n",
       "3          -1               created_at      meta_data   \n",
       "4          -1             created_meta      meta_data   \n",
       "5          -1               updated_at      meta_data   \n",
       "6          -1             updated_meta      meta_data   \n",
       "7          -1                     meta      meta_data   \n",
       "8   131248874                     When  calendar_date   \n",
       "9   131248875                    NAICS           text   \n",
       "10  131248876                  Alberta         number   \n",
       "11  131248877          BritishColumbia         number   \n",
       "12  131248878                   Canada         number   \n",
       "13  131248879                 Manitoba         number   \n",
       "14  131248880             NewBrunswick         number   \n",
       "15  131248881  NewfoundlandAndLabrador         number   \n",
       "16  131248882               NovaScotia         number   \n",
       "17  131248883                  Ontario         number   \n",
       "18  131248884       PrinceEdwardIsland         number   \n",
       "19  131248885                   Quebec         number   \n",
       "20  131248886             Saskatchewan         number   \n",
       "\n",
       "                  fieldName  position renderTypeName  \\\n",
       "0                      :sid         0      meta_data   \n",
       "1                       :id         0      meta_data   \n",
       "2                 :position         0      meta_data   \n",
       "3               :created_at         0      meta_data   \n",
       "4             :created_meta         0      meta_data   \n",
       "5               :updated_at         0      meta_data   \n",
       "6             :updated_meta         0      meta_data   \n",
       "7                     :meta         0      meta_data   \n",
       "8                      when         1  calendar_date   \n",
       "9                     naics         2           text   \n",
       "10                  alberta         3         number   \n",
       "11          britishcolumbia         4         number   \n",
       "12                   canada         5         number   \n",
       "13                 manitoba         6         number   \n",
       "14             newbrunswick         7         number   \n",
       "15  newfoundlandandlabrador         8         number   \n",
       "16               novascotia         9         number   \n",
       "17                  ontario        10         number   \n",
       "18       princeedwardisland        11         number   \n",
       "19                   quebec        12         number   \n",
       "20             saskatchewan        13         number   \n",
       "\n",
       "                                               format  tableColumnId  width  \\\n",
       "0                                                  {}            NaN    NaN   \n",
       "1                                                  {}            NaN    NaN   \n",
       "2                                                  {}            NaN    NaN   \n",
       "3                                                  {}            NaN    NaN   \n",
       "4                                                  {}            NaN    NaN   \n",
       "5                                                  {}            NaN    NaN   \n",
       "6                                                  {}            NaN    NaN   \n",
       "7                                                  {}            NaN    NaN   \n",
       "8                   {'view': 'date', 'align': 'left'}     17874417.0  160.0   \n",
       "9                                                  {}     17874418.0  160.0   \n",
       "10  {'precisionStyle': 'standard', 'precision': '2...     17874419.0  184.0   \n",
       "11  {'precisionStyle': 'standard', 'precision': '2...     17874420.0  280.0   \n",
       "12  {'precisionStyle': 'standard', 'precision': '2...     17874421.0  172.0   \n",
       "13  {'precisionStyle': 'standard', 'precision': '2...     17874422.0  196.0   \n",
       "14  {'precisionStyle': 'standard', 'precision': '2...     17874423.0  244.0   \n",
       "15  {'precisionStyle': 'standard', 'precision': '2...     17874424.0  376.0   \n",
       "16  {'precisionStyle': 'standard', 'precision': '2...     17874425.0  220.0   \n",
       "17  {'precisionStyle': 'standard', 'precision': '2...     17874426.0  184.0   \n",
       "18  {'precisionStyle': 'standard', 'precision': '2...     17874427.0  316.0   \n",
       "19  {'precisionStyle': 'standard', 'precision': '2...     17874428.0  172.0   \n",
       "20  {'precisionStyle': 'standard', 'precision': '2...     17874429.0  244.0   \n",
       "\n",
       "                                       cachedContents  \n",
       "0                                                 NaN  \n",
       "1                                                 NaN  \n",
       "2                                                 NaN  \n",
       "3                                                 NaN  \n",
       "4                                                 NaN  \n",
       "5                                                 NaN  \n",
       "6                                                 NaN  \n",
       "7                                                 NaN  \n",
       "8   {'non_null': 172, 'smallest': '2001-01-01T00:0...  \n",
       "9   {'non_null': 172, 'smallest': 'Industrial aggr...  \n",
       "10  {'non_null': 172, 'smallest': '664.45', 'sum':...  \n",
       "11  {'non_null': 172, 'smallest': '653.23', 'sum':...  \n",
       "12  {'non_null': 172, 'smallest': '650.02', 'sum':...  \n",
       "13  {'non_null': 172, 'smallest': '571.84', 'sum':...  \n",
       "14  {'non_null': 172, 'smallest': '578.44', 'sum':...  \n",
       "15  {'non_null': 172, 'smallest': '585.27', 'sum':...  \n",
       "16  {'non_null': 172, 'smallest': '567.96', 'sum':...  \n",
       "17  {'non_null': 172, 'smallest': '688.27', 'sum':...  \n",
       "18  {'non_null': 172, 'smallest': '509.55', 'sum':...  \n",
       "19  {'non_null': 172, 'smallest': '618.90', 'sum':...  \n",
       "20  {'non_null': 172, 'smallest': '587.41', 'sum':...  "
      ]
     },
     "execution_count": 41,
     "metadata": {},
     "output_type": "execute_result"
    }
   ],
   "source": [
    "df6_cols = pd.json_normalize(json_file['meta']['view']['columns'], max_level=0)\n",
    "df6_cols.head(25)"
   ]
  },
  {
   "cell_type": "code",
   "execution_count": 42,
   "id": "4f27538e-2a3e-4a1f-aae5-a3220f8e35f3",
   "metadata": {
    "collapsed": true,
    "jupyter": {
     "outputs_hidden": true
    },
    "tags": []
   },
   "outputs": [
    {
     "data": {
      "text/html": [
       "<div>\n",
       "<style scoped>\n",
       "    .dataframe tbody tr th:only-of-type {\n",
       "        vertical-align: middle;\n",
       "    }\n",
       "\n",
       "    .dataframe tbody tr th {\n",
       "        vertical-align: top;\n",
       "    }\n",
       "\n",
       "    .dataframe thead th {\n",
       "        text-align: right;\n",
       "    }\n",
       "</style>\n",
       "<table border=\"1\" class=\"dataframe\">\n",
       "  <thead>\n",
       "    <tr style=\"text-align: right;\">\n",
       "      <th></th>\n",
       "      <th>0</th>\n",
       "      <th>1</th>\n",
       "      <th>2</th>\n",
       "      <th>3</th>\n",
       "      <th>4</th>\n",
       "      <th>5</th>\n",
       "      <th>6</th>\n",
       "      <th>7</th>\n",
       "      <th>8</th>\n",
       "      <th>9</th>\n",
       "      <th>...</th>\n",
       "      <th>11</th>\n",
       "      <th>12</th>\n",
       "      <th>13</th>\n",
       "      <th>14</th>\n",
       "      <th>15</th>\n",
       "      <th>16</th>\n",
       "      <th>17</th>\n",
       "      <th>18</th>\n",
       "      <th>19</th>\n",
       "      <th>20</th>\n",
       "    </tr>\n",
       "  </thead>\n",
       "  <tbody>\n",
       "    <tr>\n",
       "      <th>0</th>\n",
       "      <td>5554</td>\n",
       "      <td>8D0D0120-53D5-4A3D-B68F-D5BAFA1B9F24</td>\n",
       "      <td>5554</td>\n",
       "      <td>1435599444</td>\n",
       "      <td>710753</td>\n",
       "      <td>1435599444</td>\n",
       "      <td>710753</td>\n",
       "      <td>None</td>\n",
       "      <td>2001-01-01T00:00:00</td>\n",
       "      <td>Industrial aggregate excluding unclassified bu...</td>\n",
       "      <td>...</td>\n",
       "      <td>660.48</td>\n",
       "      <td>658.02</td>\n",
       "      <td>578.95</td>\n",
       "      <td>584.75</td>\n",
       "      <td>594.00</td>\n",
       "      <td>571.28</td>\n",
       "      <td>698.57</td>\n",
       "      <td>535.65</td>\n",
       "      <td>624.81</td>\n",
       "      <td>596.53</td>\n",
       "    </tr>\n",
       "    <tr>\n",
       "      <th>1</th>\n",
       "      <td>5555</td>\n",
       "      <td>B8156EED-2420-4B71-A56C-57DED1FA7CEC</td>\n",
       "      <td>5555</td>\n",
       "      <td>1435599444</td>\n",
       "      <td>710753</td>\n",
       "      <td>1435599444</td>\n",
       "      <td>710753</td>\n",
       "      <td>None</td>\n",
       "      <td>2001-02-01T00:00:00</td>\n",
       "      <td>Industrial aggregate excluding unclassified bu...</td>\n",
       "      <td>...</td>\n",
       "      <td>659.33</td>\n",
       "      <td>655.79</td>\n",
       "      <td>580.63</td>\n",
       "      <td>585.11</td>\n",
       "      <td>591.92</td>\n",
       "      <td>570.06</td>\n",
       "      <td>693.69</td>\n",
       "      <td>532.02</td>\n",
       "      <td>623.93</td>\n",
       "      <td>595.09</td>\n",
       "    </tr>\n",
       "    <tr>\n",
       "      <th>2</th>\n",
       "      <td>5556</td>\n",
       "      <td>A8D7795E-40FA-4923-AB52-CA8536DAAD7A</td>\n",
       "      <td>5556</td>\n",
       "      <td>1435599444</td>\n",
       "      <td>710753</td>\n",
       "      <td>1435599444</td>\n",
       "      <td>710753</td>\n",
       "      <td>None</td>\n",
       "      <td>2001-03-01T00:00:00</td>\n",
       "      <td>Industrial aggregate excluding unclassified bu...</td>\n",
       "      <td>...</td>\n",
       "      <td>654.07</td>\n",
       "      <td>655.88</td>\n",
       "      <td>578.67</td>\n",
       "      <td>584.13</td>\n",
       "      <td>593.47</td>\n",
       "      <td>570.70</td>\n",
       "      <td>697.08</td>\n",
       "      <td>534.71</td>\n",
       "      <td>622.94</td>\n",
       "      <td>589.09</td>\n",
       "    </tr>\n",
       "    <tr>\n",
       "      <th>3</th>\n",
       "      <td>5557</td>\n",
       "      <td>8373DAD3-2886-4DAD-AFE8-84DB8C0F414E</td>\n",
       "      <td>5557</td>\n",
       "      <td>1435599444</td>\n",
       "      <td>710753</td>\n",
       "      <td>1435599444</td>\n",
       "      <td>710753</td>\n",
       "      <td>None</td>\n",
       "      <td>2001-04-01T00:00:00</td>\n",
       "      <td>Industrial aggregate excluding unclassified bu...</td>\n",
       "      <td>...</td>\n",
       "      <td>657.15</td>\n",
       "      <td>654.09</td>\n",
       "      <td>576.36</td>\n",
       "      <td>580.92</td>\n",
       "      <td>591.96</td>\n",
       "      <td>568.70</td>\n",
       "      <td>693.73</td>\n",
       "      <td>522.50</td>\n",
       "      <td>619.12</td>\n",
       "      <td>589.37</td>\n",
       "    </tr>\n",
       "    <tr>\n",
       "      <th>4</th>\n",
       "      <td>5558</td>\n",
       "      <td>05DB3E97-35EC-4F75-891B-3F6C696CDEE0</td>\n",
       "      <td>5558</td>\n",
       "      <td>1435599444</td>\n",
       "      <td>710753</td>\n",
       "      <td>1435599444</td>\n",
       "      <td>710753</td>\n",
       "      <td>None</td>\n",
       "      <td>2001-05-01T00:00:00</td>\n",
       "      <td>Industrial aggregate excluding unclassified bu...</td>\n",
       "      <td>...</td>\n",
       "      <td>653.23</td>\n",
       "      <td>650.02</td>\n",
       "      <td>571.84</td>\n",
       "      <td>578.44</td>\n",
       "      <td>588.19</td>\n",
       "      <td>567.96</td>\n",
       "      <td>688.27</td>\n",
       "      <td>522.31</td>\n",
       "      <td>618.90</td>\n",
       "      <td>587.41</td>\n",
       "    </tr>\n",
       "  </tbody>\n",
       "</table>\n",
       "<p>5 rows × 21 columns</p>\n",
       "</div>"
      ],
      "text/plain": [
       "     0                                     1     2           3       4   \\\n",
       "0  5554  8D0D0120-53D5-4A3D-B68F-D5BAFA1B9F24  5554  1435599444  710753   \n",
       "1  5555  B8156EED-2420-4B71-A56C-57DED1FA7CEC  5555  1435599444  710753   \n",
       "2  5556  A8D7795E-40FA-4923-AB52-CA8536DAAD7A  5556  1435599444  710753   \n",
       "3  5557  8373DAD3-2886-4DAD-AFE8-84DB8C0F414E  5557  1435599444  710753   \n",
       "4  5558  05DB3E97-35EC-4F75-891B-3F6C696CDEE0  5558  1435599444  710753   \n",
       "\n",
       "           5       6     7                    8   \\\n",
       "0  1435599444  710753  None  2001-01-01T00:00:00   \n",
       "1  1435599444  710753  None  2001-02-01T00:00:00   \n",
       "2  1435599444  710753  None  2001-03-01T00:00:00   \n",
       "3  1435599444  710753  None  2001-04-01T00:00:00   \n",
       "4  1435599444  710753  None  2001-05-01T00:00:00   \n",
       "\n",
       "                                                  9   ...      11      12  \\\n",
       "0  Industrial aggregate excluding unclassified bu...  ...  660.48  658.02   \n",
       "1  Industrial aggregate excluding unclassified bu...  ...  659.33  655.79   \n",
       "2  Industrial aggregate excluding unclassified bu...  ...  654.07  655.88   \n",
       "3  Industrial aggregate excluding unclassified bu...  ...  657.15  654.09   \n",
       "4  Industrial aggregate excluding unclassified bu...  ...  653.23  650.02   \n",
       "\n",
       "       13      14      15      16      17      18      19      20  \n",
       "0  578.95  584.75  594.00  571.28  698.57  535.65  624.81  596.53  \n",
       "1  580.63  585.11  591.92  570.06  693.69  532.02  623.93  595.09  \n",
       "2  578.67  584.13  593.47  570.70  697.08  534.71  622.94  589.09  \n",
       "3  576.36  580.92  591.96  568.70  693.73  522.50  619.12  589.37  \n",
       "4  571.84  578.44  588.19  567.96  688.27  522.31  618.90  587.41  \n",
       "\n",
       "[5 rows x 21 columns]"
      ]
     },
     "execution_count": 42,
     "metadata": {},
     "output_type": "execute_result"
    }
   ],
   "source": [
    "df6 = pd.json_normalize(json_file, ['data'])\n",
    "df6.head()"
   ]
  },
  {
   "cell_type": "code",
   "execution_count": 43,
   "id": "509ed4d5-a255-4a09-8266-cfac7dd61707",
   "metadata": {
    "tags": []
   },
   "outputs": [
    {
     "data": {
      "text/html": [
       "<div>\n",
       "<style scoped>\n",
       "    .dataframe tbody tr th:only-of-type {\n",
       "        vertical-align: middle;\n",
       "    }\n",
       "\n",
       "    .dataframe tbody tr th {\n",
       "        vertical-align: top;\n",
       "    }\n",
       "\n",
       "    .dataframe thead th {\n",
       "        text-align: right;\n",
       "    }\n",
       "</style>\n",
       "<table border=\"1\" class=\"dataframe\">\n",
       "  <thead>\n",
       "    <tr style=\"text-align: right;\">\n",
       "      <th></th>\n",
       "      <th>sid</th>\n",
       "      <th>id</th>\n",
       "      <th>position</th>\n",
       "      <th>created_at</th>\n",
       "      <th>created_meta</th>\n",
       "      <th>updated_at</th>\n",
       "      <th>updated_meta</th>\n",
       "      <th>meta</th>\n",
       "      <th>When</th>\n",
       "      <th>NAICS</th>\n",
       "      <th>...</th>\n",
       "      <th>BritishColumbia</th>\n",
       "      <th>Canada</th>\n",
       "      <th>Manitoba</th>\n",
       "      <th>NewBrunswick</th>\n",
       "      <th>NewfoundlandAndLabrador</th>\n",
       "      <th>NovaScotia</th>\n",
       "      <th>Ontario</th>\n",
       "      <th>PrinceEdwardIsland</th>\n",
       "      <th>Quebec</th>\n",
       "      <th>Saskatchewan</th>\n",
       "    </tr>\n",
       "  </thead>\n",
       "  <tbody>\n",
       "    <tr>\n",
       "      <th>0</th>\n",
       "      <td>5554</td>\n",
       "      <td>8D0D0120-53D5-4A3D-B68F-D5BAFA1B9F24</td>\n",
       "      <td>5554</td>\n",
       "      <td>1435599444</td>\n",
       "      <td>710753</td>\n",
       "      <td>1435599444</td>\n",
       "      <td>710753</td>\n",
       "      <td>None</td>\n",
       "      <td>2001-01-01T00:00:00</td>\n",
       "      <td>Industrial aggregate excluding unclassified bu...</td>\n",
       "      <td>...</td>\n",
       "      <td>660.48</td>\n",
       "      <td>658.02</td>\n",
       "      <td>578.95</td>\n",
       "      <td>584.75</td>\n",
       "      <td>594.00</td>\n",
       "      <td>571.28</td>\n",
       "      <td>698.57</td>\n",
       "      <td>535.65</td>\n",
       "      <td>624.81</td>\n",
       "      <td>596.53</td>\n",
       "    </tr>\n",
       "    <tr>\n",
       "      <th>1</th>\n",
       "      <td>5555</td>\n",
       "      <td>B8156EED-2420-4B71-A56C-57DED1FA7CEC</td>\n",
       "      <td>5555</td>\n",
       "      <td>1435599444</td>\n",
       "      <td>710753</td>\n",
       "      <td>1435599444</td>\n",
       "      <td>710753</td>\n",
       "      <td>None</td>\n",
       "      <td>2001-02-01T00:00:00</td>\n",
       "      <td>Industrial aggregate excluding unclassified bu...</td>\n",
       "      <td>...</td>\n",
       "      <td>659.33</td>\n",
       "      <td>655.79</td>\n",
       "      <td>580.63</td>\n",
       "      <td>585.11</td>\n",
       "      <td>591.92</td>\n",
       "      <td>570.06</td>\n",
       "      <td>693.69</td>\n",
       "      <td>532.02</td>\n",
       "      <td>623.93</td>\n",
       "      <td>595.09</td>\n",
       "    </tr>\n",
       "    <tr>\n",
       "      <th>2</th>\n",
       "      <td>5556</td>\n",
       "      <td>A8D7795E-40FA-4923-AB52-CA8536DAAD7A</td>\n",
       "      <td>5556</td>\n",
       "      <td>1435599444</td>\n",
       "      <td>710753</td>\n",
       "      <td>1435599444</td>\n",
       "      <td>710753</td>\n",
       "      <td>None</td>\n",
       "      <td>2001-03-01T00:00:00</td>\n",
       "      <td>Industrial aggregate excluding unclassified bu...</td>\n",
       "      <td>...</td>\n",
       "      <td>654.07</td>\n",
       "      <td>655.88</td>\n",
       "      <td>578.67</td>\n",
       "      <td>584.13</td>\n",
       "      <td>593.47</td>\n",
       "      <td>570.70</td>\n",
       "      <td>697.08</td>\n",
       "      <td>534.71</td>\n",
       "      <td>622.94</td>\n",
       "      <td>589.09</td>\n",
       "    </tr>\n",
       "    <tr>\n",
       "      <th>3</th>\n",
       "      <td>5557</td>\n",
       "      <td>8373DAD3-2886-4DAD-AFE8-84DB8C0F414E</td>\n",
       "      <td>5557</td>\n",
       "      <td>1435599444</td>\n",
       "      <td>710753</td>\n",
       "      <td>1435599444</td>\n",
       "      <td>710753</td>\n",
       "      <td>None</td>\n",
       "      <td>2001-04-01T00:00:00</td>\n",
       "      <td>Industrial aggregate excluding unclassified bu...</td>\n",
       "      <td>...</td>\n",
       "      <td>657.15</td>\n",
       "      <td>654.09</td>\n",
       "      <td>576.36</td>\n",
       "      <td>580.92</td>\n",
       "      <td>591.96</td>\n",
       "      <td>568.70</td>\n",
       "      <td>693.73</td>\n",
       "      <td>522.50</td>\n",
       "      <td>619.12</td>\n",
       "      <td>589.37</td>\n",
       "    </tr>\n",
       "    <tr>\n",
       "      <th>4</th>\n",
       "      <td>5558</td>\n",
       "      <td>05DB3E97-35EC-4F75-891B-3F6C696CDEE0</td>\n",
       "      <td>5558</td>\n",
       "      <td>1435599444</td>\n",
       "      <td>710753</td>\n",
       "      <td>1435599444</td>\n",
       "      <td>710753</td>\n",
       "      <td>None</td>\n",
       "      <td>2001-05-01T00:00:00</td>\n",
       "      <td>Industrial aggregate excluding unclassified bu...</td>\n",
       "      <td>...</td>\n",
       "      <td>653.23</td>\n",
       "      <td>650.02</td>\n",
       "      <td>571.84</td>\n",
       "      <td>578.44</td>\n",
       "      <td>588.19</td>\n",
       "      <td>567.96</td>\n",
       "      <td>688.27</td>\n",
       "      <td>522.31</td>\n",
       "      <td>618.90</td>\n",
       "      <td>587.41</td>\n",
       "    </tr>\n",
       "  </tbody>\n",
       "</table>\n",
       "<p>5 rows × 21 columns</p>\n",
       "</div>"
      ],
      "text/plain": [
       "    sid                                    id  position  created_at  \\\n",
       "0  5554  8D0D0120-53D5-4A3D-B68F-D5BAFA1B9F24      5554  1435599444   \n",
       "1  5555  B8156EED-2420-4B71-A56C-57DED1FA7CEC      5555  1435599444   \n",
       "2  5556  A8D7795E-40FA-4923-AB52-CA8536DAAD7A      5556  1435599444   \n",
       "3  5557  8373DAD3-2886-4DAD-AFE8-84DB8C0F414E      5557  1435599444   \n",
       "4  5558  05DB3E97-35EC-4F75-891B-3F6C696CDEE0      5558  1435599444   \n",
       "\n",
       "  created_meta  updated_at updated_meta  meta                 When  \\\n",
       "0       710753  1435599444       710753  None  2001-01-01T00:00:00   \n",
       "1       710753  1435599444       710753  None  2001-02-01T00:00:00   \n",
       "2       710753  1435599444       710753  None  2001-03-01T00:00:00   \n",
       "3       710753  1435599444       710753  None  2001-04-01T00:00:00   \n",
       "4       710753  1435599444       710753  None  2001-05-01T00:00:00   \n",
       "\n",
       "                                               NAICS  ... BritishColumbia  \\\n",
       "0  Industrial aggregate excluding unclassified bu...  ...          660.48   \n",
       "1  Industrial aggregate excluding unclassified bu...  ...          659.33   \n",
       "2  Industrial aggregate excluding unclassified bu...  ...          654.07   \n",
       "3  Industrial aggregate excluding unclassified bu...  ...          657.15   \n",
       "4  Industrial aggregate excluding unclassified bu...  ...          653.23   \n",
       "\n",
       "   Canada Manitoba NewBrunswick NewfoundlandAndLabrador NovaScotia Ontario  \\\n",
       "0  658.02   578.95       584.75                  594.00     571.28  698.57   \n",
       "1  655.79   580.63       585.11                  591.92     570.06  693.69   \n",
       "2  655.88   578.67       584.13                  593.47     570.70  697.08   \n",
       "3  654.09   576.36       580.92                  591.96     568.70  693.73   \n",
       "4  650.02   571.84       578.44                  588.19     567.96  688.27   \n",
       "\n",
       "  PrinceEdwardIsland  Quebec Saskatchewan  \n",
       "0             535.65  624.81       596.53  \n",
       "1             532.02  623.93       595.09  \n",
       "2             534.71  622.94       589.09  \n",
       "3             522.50  619.12       589.37  \n",
       "4             522.31  618.90       587.41  \n",
       "\n",
       "[5 rows x 21 columns]"
      ]
     },
     "execution_count": 43,
     "metadata": {},
     "output_type": "execute_result"
    }
   ],
   "source": [
    "#Apply column names to dataframe\n",
    "for index, row in df6_cols.iterrows():\n",
    "    df6.rename(columns={index: row['name']}, inplace=True)\n",
    "df6.head()"
   ]
  },
  {
   "cell_type": "code",
   "execution_count": 43,
   "id": "34755009-5fe0-404d-9899-afc63cfe7645",
   "metadata": {
    "collapsed": true,
    "jupyter": {
     "outputs_hidden": true
    },
    "tags": []
   },
   "outputs": [
    {
     "data": {
      "text/plain": [
       "(172, 21)"
      ]
     },
     "execution_count": 43,
     "metadata": {},
     "output_type": "execute_result"
    }
   ],
   "source": [
    "df6.shape"
   ]
  },
  {
   "cell_type": "markdown",
   "id": "b1a0c4d7-7f2a-4461-9ebe-8246c386e112",
   "metadata": {
    "tags": []
   },
   "source": [
    "### Cleaning - Formatting Issues"
   ]
  },
  {
   "cell_type": "markdown",
   "id": "fed97e8b-81cb-45e9-b621-c96e1ebeacc8",
   "metadata": {},
   "source": [
    "Look for unique values for each row and inspect manually"
   ]
  },
  {
   "cell_type": "code",
   "execution_count": 44,
   "id": "388e88dd-f7bc-4ce1-a3f5-11f86e694e93",
   "metadata": {
    "collapsed": true,
    "jupyter": {
     "outputs_hidden": true
    },
    "tags": []
   },
   "outputs": [
    {
     "data": {
      "text/html": [
       "<div>\n",
       "<style scoped>\n",
       "    .dataframe tbody tr th:only-of-type {\n",
       "        vertical-align: middle;\n",
       "    }\n",
       "\n",
       "    .dataframe tbody tr th {\n",
       "        vertical-align: top;\n",
       "    }\n",
       "\n",
       "    .dataframe thead th {\n",
       "        text-align: right;\n",
       "    }\n",
       "</style>\n",
       "<table border=\"1\" class=\"dataframe\">\n",
       "  <thead>\n",
       "    <tr style=\"text-align: right;\">\n",
       "      <th></th>\n",
       "      <th>sid</th>\n",
       "      <th>id</th>\n",
       "      <th>position</th>\n",
       "      <th>created_at</th>\n",
       "      <th>created_meta</th>\n",
       "      <th>updated_at</th>\n",
       "      <th>updated_meta</th>\n",
       "      <th>meta</th>\n",
       "      <th>When</th>\n",
       "      <th>NAICS</th>\n",
       "      <th>...</th>\n",
       "      <th>BritishColumbia</th>\n",
       "      <th>Canada</th>\n",
       "      <th>Manitoba</th>\n",
       "      <th>NewBrunswick</th>\n",
       "      <th>NewfoundlandAndLabrador</th>\n",
       "      <th>NovaScotia</th>\n",
       "      <th>Ontario</th>\n",
       "      <th>PrinceEdwardIsland</th>\n",
       "      <th>Quebec</th>\n",
       "      <th>Saskatchewan</th>\n",
       "    </tr>\n",
       "  </thead>\n",
       "  <tbody>\n",
       "    <tr>\n",
       "      <th>0</th>\n",
       "      <td>5554</td>\n",
       "      <td>8D0D0120-53D5-4A3D-B68F-D5BAFA1B9F24</td>\n",
       "      <td>5554</td>\n",
       "      <td>1435599444</td>\n",
       "      <td>710753</td>\n",
       "      <td>1435599444</td>\n",
       "      <td>710753</td>\n",
       "      <td>None</td>\n",
       "      <td>2001-01-01T00:00:00</td>\n",
       "      <td>Industrial aggregate excluding unclassified bu...</td>\n",
       "      <td>...</td>\n",
       "      <td>660.48</td>\n",
       "      <td>658.02</td>\n",
       "      <td>578.95</td>\n",
       "      <td>584.75</td>\n",
       "      <td>594.00</td>\n",
       "      <td>571.28</td>\n",
       "      <td>698.57</td>\n",
       "      <td>535.65</td>\n",
       "      <td>624.81</td>\n",
       "      <td>596.53</td>\n",
       "    </tr>\n",
       "    <tr>\n",
       "      <th>1</th>\n",
       "      <td>5555</td>\n",
       "      <td>B8156EED-2420-4B71-A56C-57DED1FA7CEC</td>\n",
       "      <td>5555</td>\n",
       "      <td>1435599444</td>\n",
       "      <td>710753</td>\n",
       "      <td>1435599444</td>\n",
       "      <td>710753</td>\n",
       "      <td>None</td>\n",
       "      <td>2001-02-01T00:00:00</td>\n",
       "      <td>Industrial aggregate excluding unclassified bu...</td>\n",
       "      <td>...</td>\n",
       "      <td>659.33</td>\n",
       "      <td>655.79</td>\n",
       "      <td>580.63</td>\n",
       "      <td>585.11</td>\n",
       "      <td>591.92</td>\n",
       "      <td>570.06</td>\n",
       "      <td>693.69</td>\n",
       "      <td>532.02</td>\n",
       "      <td>623.93</td>\n",
       "      <td>595.09</td>\n",
       "    </tr>\n",
       "    <tr>\n",
       "      <th>2</th>\n",
       "      <td>5556</td>\n",
       "      <td>A8D7795E-40FA-4923-AB52-CA8536DAAD7A</td>\n",
       "      <td>5556</td>\n",
       "      <td>1435599444</td>\n",
       "      <td>710753</td>\n",
       "      <td>1435599444</td>\n",
       "      <td>710753</td>\n",
       "      <td>None</td>\n",
       "      <td>2001-03-01T00:00:00</td>\n",
       "      <td>Industrial aggregate excluding unclassified bu...</td>\n",
       "      <td>...</td>\n",
       "      <td>654.07</td>\n",
       "      <td>655.88</td>\n",
       "      <td>578.67</td>\n",
       "      <td>584.13</td>\n",
       "      <td>593.47</td>\n",
       "      <td>570.70</td>\n",
       "      <td>697.08</td>\n",
       "      <td>534.71</td>\n",
       "      <td>622.94</td>\n",
       "      <td>589.09</td>\n",
       "    </tr>\n",
       "    <tr>\n",
       "      <th>3</th>\n",
       "      <td>5557</td>\n",
       "      <td>8373DAD3-2886-4DAD-AFE8-84DB8C0F414E</td>\n",
       "      <td>5557</td>\n",
       "      <td>1435599444</td>\n",
       "      <td>710753</td>\n",
       "      <td>1435599444</td>\n",
       "      <td>710753</td>\n",
       "      <td>None</td>\n",
       "      <td>2001-04-01T00:00:00</td>\n",
       "      <td>Industrial aggregate excluding unclassified bu...</td>\n",
       "      <td>...</td>\n",
       "      <td>657.15</td>\n",
       "      <td>654.09</td>\n",
       "      <td>576.36</td>\n",
       "      <td>580.92</td>\n",
       "      <td>591.96</td>\n",
       "      <td>568.70</td>\n",
       "      <td>693.73</td>\n",
       "      <td>522.50</td>\n",
       "      <td>619.12</td>\n",
       "      <td>589.37</td>\n",
       "    </tr>\n",
       "    <tr>\n",
       "      <th>4</th>\n",
       "      <td>5558</td>\n",
       "      <td>05DB3E97-35EC-4F75-891B-3F6C696CDEE0</td>\n",
       "      <td>5558</td>\n",
       "      <td>1435599444</td>\n",
       "      <td>710753</td>\n",
       "      <td>1435599444</td>\n",
       "      <td>710753</td>\n",
       "      <td>None</td>\n",
       "      <td>2001-05-01T00:00:00</td>\n",
       "      <td>Industrial aggregate excluding unclassified bu...</td>\n",
       "      <td>...</td>\n",
       "      <td>653.23</td>\n",
       "      <td>650.02</td>\n",
       "      <td>571.84</td>\n",
       "      <td>578.44</td>\n",
       "      <td>588.19</td>\n",
       "      <td>567.96</td>\n",
       "      <td>688.27</td>\n",
       "      <td>522.31</td>\n",
       "      <td>618.90</td>\n",
       "      <td>587.41</td>\n",
       "    </tr>\n",
       "  </tbody>\n",
       "</table>\n",
       "<p>5 rows × 21 columns</p>\n",
       "</div>"
      ],
      "text/plain": [
       "    sid                                    id  position  created_at  \\\n",
       "0  5554  8D0D0120-53D5-4A3D-B68F-D5BAFA1B9F24      5554  1435599444   \n",
       "1  5555  B8156EED-2420-4B71-A56C-57DED1FA7CEC      5555  1435599444   \n",
       "2  5556  A8D7795E-40FA-4923-AB52-CA8536DAAD7A      5556  1435599444   \n",
       "3  5557  8373DAD3-2886-4DAD-AFE8-84DB8C0F414E      5557  1435599444   \n",
       "4  5558  05DB3E97-35EC-4F75-891B-3F6C696CDEE0      5558  1435599444   \n",
       "\n",
       "  created_meta  updated_at updated_meta  meta                 When  \\\n",
       "0       710753  1435599444       710753  None  2001-01-01T00:00:00   \n",
       "1       710753  1435599444       710753  None  2001-02-01T00:00:00   \n",
       "2       710753  1435599444       710753  None  2001-03-01T00:00:00   \n",
       "3       710753  1435599444       710753  None  2001-04-01T00:00:00   \n",
       "4       710753  1435599444       710753  None  2001-05-01T00:00:00   \n",
       "\n",
       "                                               NAICS  ... BritishColumbia  \\\n",
       "0  Industrial aggregate excluding unclassified bu...  ...          660.48   \n",
       "1  Industrial aggregate excluding unclassified bu...  ...          659.33   \n",
       "2  Industrial aggregate excluding unclassified bu...  ...          654.07   \n",
       "3  Industrial aggregate excluding unclassified bu...  ...          657.15   \n",
       "4  Industrial aggregate excluding unclassified bu...  ...          653.23   \n",
       "\n",
       "   Canada Manitoba NewBrunswick NewfoundlandAndLabrador NovaScotia Ontario  \\\n",
       "0  658.02   578.95       584.75                  594.00     571.28  698.57   \n",
       "1  655.79   580.63       585.11                  591.92     570.06  693.69   \n",
       "2  655.88   578.67       584.13                  593.47     570.70  697.08   \n",
       "3  654.09   576.36       580.92                  591.96     568.70  693.73   \n",
       "4  650.02   571.84       578.44                  588.19     567.96  688.27   \n",
       "\n",
       "  PrinceEdwardIsland  Quebec Saskatchewan  \n",
       "0             535.65  624.81       596.53  \n",
       "1             532.02  623.93       595.09  \n",
       "2             534.71  622.94       589.09  \n",
       "3             522.50  619.12       589.37  \n",
       "4             522.31  618.90       587.41  \n",
       "\n",
       "[5 rows x 21 columns]"
      ]
     },
     "execution_count": 44,
     "metadata": {},
     "output_type": "execute_result"
    }
   ],
   "source": [
    "df6.head()"
   ]
  },
  {
   "cell_type": "code",
   "execution_count": 45,
   "id": "e73065ec-3899-4237-9a4e-4077dbdb361f",
   "metadata": {
    "collapsed": true,
    "jupyter": {
     "outputs_hidden": true
    },
    "tags": []
   },
   "outputs": [
    {
     "data": {
      "text/plain": [
       "array([5554, 5555, 5556, 5557, 5558, 5559, 5560, 5561, 5562, 5563, 5564,\n",
       "       5565, 5566, 5567, 5568, 5569, 5570, 5571, 5572, 5573, 5574, 5575,\n",
       "       5576, 5577, 5578, 5579, 5580, 5581, 5582, 5583, 5584, 5585, 5586,\n",
       "       5587, 5588, 5589, 5590, 5591, 5592, 5593, 5594, 5595, 5596, 5597,\n",
       "       5598, 5599, 5600, 5601, 5602, 5603, 5604, 5605, 5606, 5607, 5608,\n",
       "       5609, 5610, 5611, 5612, 5613, 5614, 5615, 5616, 5617, 5618, 5619,\n",
       "       5620, 5621, 5622, 5623, 5624, 5625, 5626, 5627, 5628, 5629, 5630,\n",
       "       5631, 5632, 5633, 5634, 5635, 5636, 5637, 5638, 5639, 5640, 5641,\n",
       "       5642, 5643, 5644, 5645, 5646, 5647, 5648, 5649, 5650, 5651, 5652,\n",
       "       5653, 5654, 5655, 5656, 5657, 5658, 5659, 5660, 5661, 5662, 5663,\n",
       "       5664, 5665, 5666, 5667, 5668, 5669, 5670, 5671, 5672, 5673, 5674,\n",
       "       5675, 5676, 5677, 5678, 5679, 5680, 5681, 5682, 5683, 5684, 5685,\n",
       "       5686, 5687, 5688, 5689, 5690, 5691, 5692, 5693, 5694, 5695, 5696,\n",
       "       5697, 5698, 5699, 5700, 5701, 5702, 5703, 5704, 5705, 5706, 5707,\n",
       "       5708, 5709, 5710, 5711, 5712, 5713, 5714, 5715, 5716, 5717, 5718,\n",
       "       5719, 5720, 5721, 5722, 5723, 5724, 5725], dtype=int64)"
      ]
     },
     "execution_count": 45,
     "metadata": {},
     "output_type": "execute_result"
    }
   ],
   "source": [
    "df6['sid'].unique()"
   ]
  },
  {
   "cell_type": "code",
   "execution_count": 46,
   "id": "4f9aa29c-e4dd-4dde-a872-5d42e3fdc09b",
   "metadata": {
    "collapsed": true,
    "jupyter": {
     "outputs_hidden": true
    },
    "tags": []
   },
   "outputs": [
    {
     "data": {
      "text/plain": [
       "array(['8D0D0120-53D5-4A3D-B68F-D5BAFA1B9F24',\n",
       "       'B8156EED-2420-4B71-A56C-57DED1FA7CEC',\n",
       "       'A8D7795E-40FA-4923-AB52-CA8536DAAD7A',\n",
       "       '8373DAD3-2886-4DAD-AFE8-84DB8C0F414E',\n",
       "       '05DB3E97-35EC-4F75-891B-3F6C696CDEE0',\n",
       "       '9F6DC880-A4F1-4149-A43F-23E9E9BF2270',\n",
       "       '0F6988BE-1D70-4546-A854-15C677B99316',\n",
       "       '6BE8C5BD-E455-4573-A299-F41CC57DB7DB',\n",
       "       '9C61FF04-EA5F-4548-9E21-BA4F29B1E325',\n",
       "       '2538F70D-9A3D-45F0-A6BE-4A3744AF6372',\n",
       "       'E29C2CFE-AD1B-4F77-A0B9-86970CB6FA88',\n",
       "       'C056C58D-CAAE-409E-A994-D20291F4F053',\n",
       "       '5ADDCDBD-6B8D-483F-A6F3-B4D9E939BC9A',\n",
       "       'DB96E5DC-002A-4F7A-97F2-7066CCC3E645',\n",
       "       'B905BAA7-40B0-4BE3-9F8C-7F0F079053E1',\n",
       "       'C4EA174C-07F7-456C-8EBF-F1B35A88FED7',\n",
       "       '8BEC0293-0E3F-47A0-A977-EDECC9753D76',\n",
       "       'DAA5936E-C5E0-4D99-A5EF-C160D08C8B36',\n",
       "       '91B8E5AD-A97E-4DA4-A877-5726D1D9D4C8',\n",
       "       '45DF1C45-3292-40B5-B92F-61320156A774',\n",
       "       'BB5173E0-B17E-4222-BC6B-D96E73775778',\n",
       "       '7493CEBA-0C87-4701-A24B-09B5126317E0',\n",
       "       'A56D66E0-061C-4310-89F8-65B4C5AA59E5',\n",
       "       '1F70B3FE-BD5F-4367-8FF2-AD08D4FF0EBD',\n",
       "       '504ADB8F-F66F-4CE5-9087-58822450AA6F',\n",
       "       '1DC723E6-5DD8-4320-9214-BEA738BBDABE',\n",
       "       '552A4EDD-F3F2-405F-989F-DFE7F2A8449F',\n",
       "       'D13C3EEB-7B37-4221-9DCB-068C5CB987B2',\n",
       "       'D2EEFC2A-CA63-451C-981D-A2986EAF1CFD',\n",
       "       'E2B19D27-C5F3-4AD1-9646-ABAF887FA6DC',\n",
       "       '26E62F97-42B8-43B7-8645-2A7A9EE68D4C',\n",
       "       'F8957732-B5CB-45D1-8CE4-D4F315CA30F0',\n",
       "       '69A264CA-263A-4F4F-B81D-7CD2E103FAD3',\n",
       "       '67971CB3-E1CC-44F6-9A3A-D632D7407685',\n",
       "       'CAA6FD86-1647-4932-AFAD-D2E064C01D0A',\n",
       "       '5900E84C-32A3-4D3C-AF30-73B301DAFFB7',\n",
       "       '0ECC4723-579C-4A42-BBCF-00D176A74A37',\n",
       "       '119514FC-09E4-4E3C-B678-96F395075B11',\n",
       "       '31091D72-D642-4205-9D0A-7F7D97A6A3FE',\n",
       "       '746BB6AF-E5C1-4322-AD69-5EFA8333E6C0',\n",
       "       'DFDFDA74-2E50-4C02-9C95-4B9C6AE7F3DD',\n",
       "       '236583AE-5A67-4FF6-84B8-D6ADD44A1782',\n",
       "       '4FCFE844-57D7-412B-B2B8-27B35D601D62',\n",
       "       '899EF3DE-AF8A-4C83-922E-EB3C0C881C4C',\n",
       "       '05C176C8-9EB7-449A-B9F0-C4C2BA542FB3',\n",
       "       'DF676A46-A6E3-4C9E-8DCC-D41CBFEAECCA',\n",
       "       'AD24454F-8F8A-4633-B6AA-55A76051144A',\n",
       "       '91381916-9DFC-437A-A656-808B3BE8FB3E',\n",
       "       'E4D94798-2653-4481-A8F9-602F8663799D',\n",
       "       'E4BBDA62-1993-4A60-958E-0279D898C9CB',\n",
       "       'DBB7FC76-6F71-409D-A2A7-95864E9D013C',\n",
       "       '99B7B90A-C5BA-4852-B616-B1374251242E',\n",
       "       'D1DB23DE-8727-4E73-8A3C-40D1DF0C6CEC',\n",
       "       '6E02651B-09B0-48D9-9264-716DA493FC24',\n",
       "       '265649DE-E7B1-47EB-B966-06C6662659C4',\n",
       "       '909D285D-C33F-48EB-9F4A-3FBFD65BDFD3',\n",
       "       '49ECAC21-F25A-4755-81EA-EB3E01A1D206',\n",
       "       '11D7186E-E369-44A8-8D20-5469BD54D28E',\n",
       "       '25E7B8D5-1DCB-41EA-8E4F-D0866784301C',\n",
       "       '74389658-58C1-4225-AC3E-AB5794CA7F4D',\n",
       "       'E2770A54-5AB8-47A4-95A3-F0A447998600',\n",
       "       'D1F8F5B0-130C-46E1-B346-C16C5D2C6088',\n",
       "       '7A824CBF-5CEC-438D-8F73-C8E219347A62',\n",
       "       'A0B9FA2C-053A-405E-A04D-3228314FC1E3',\n",
       "       '4EA61C5A-0190-41C5-B761-53887DADF79F',\n",
       "       '8CA3CDFB-1A8C-425E-B454-64AA255588BA',\n",
       "       'D710E72B-4A40-4FFD-AE79-7845B8636127',\n",
       "       '7E43B66A-48FC-44D6-A98C-F1658270FEF0',\n",
       "       '4540C46A-58A3-4509-A3F8-DF86C9E202DF',\n",
       "       '7F99932B-DA47-41B4-BE28-FE46909C9A69',\n",
       "       'CB264143-D073-445D-936C-AE439DB10D36',\n",
       "       '3E51E44B-0FCF-43CD-9FB0-08A5AC0B91DC',\n",
       "       'FF942B08-06B3-4781-AF5F-CB24E45AA277',\n",
       "       'C52801CA-38C4-4E62-8250-37877C5D6CA7',\n",
       "       'F161F122-4638-474B-B0E0-B179D4DEDBB3',\n",
       "       '31DB9C5F-E95C-499B-B69C-C005452F86A1',\n",
       "       '23BA11D2-D51C-4E9C-8886-02D2C2175C66',\n",
       "       'ABF0652E-3385-42DB-B120-1F6E210F3853',\n",
       "       '063A9378-DA6E-4DE5-9908-47299CF0066D',\n",
       "       '15E43487-D939-47E8-BA34-1D7D174567E2',\n",
       "       'B633F4AD-C82A-4D90-8913-9652F0C650F9',\n",
       "       'D8087A10-6083-4B34-B482-153D1A7A6B4B',\n",
       "       '9F96EB56-C859-4A53-BD26-D810B7AD9F47',\n",
       "       '8AE19A34-6586-43C4-A130-EF3A0247E7EB',\n",
       "       'F9A4A504-1C0E-4163-98C7-C2DA43D82DC0',\n",
       "       '3A2DE791-DAD0-4D2C-AD3F-21EB4D6FE815',\n",
       "       'F9D51F98-D6EE-4003-A36D-09607F72B10F',\n",
       "       'BD6BA373-66A1-4EB6-86BA-B79E6F691568',\n",
       "       'F9DDDC38-346B-4FFC-B55D-63246A9203A9',\n",
       "       '95534D96-8060-452A-8A5F-CDBEA041611C',\n",
       "       'A1F4BC46-2AB7-49FC-A341-FC3631E889F8',\n",
       "       'BE8B3645-310A-4AE1-9519-7B3833716166',\n",
       "       '3952D978-C446-4534-A8D3-7E1CAC61E71B',\n",
       "       '258C8A4E-774F-494F-873E-FB3296BCBCD7',\n",
       "       '735C8BA5-D4F2-4F8E-BC9E-16EA93F8FB3C',\n",
       "       '0D0813A2-A6E2-41FE-9F24-55FC1D84818D',\n",
       "       '515E7663-F963-4A79-9C00-B9B32C8A071F',\n",
       "       '8E8BAE10-4FDC-4FF3-BF20-BD18D0F40985',\n",
       "       '6824E5F7-072D-4F16-9FC9-4045C8332E76',\n",
       "       'C54B7EA1-3950-4C03-8588-CAA638F7D9AB',\n",
       "       '6E1F0807-B98D-405E-8BDA-45F2E6327614',\n",
       "       'B55F4FFC-CEF0-4487-80C2-6D7B0C62152F',\n",
       "       '877B1A3A-AE27-4DCD-864B-21D2C4A739DD',\n",
       "       '11FC9444-8C33-40E8-ADF1-BF28FCD835BC',\n",
       "       '2E5AD0D7-474C-44BE-B796-B489243DF9EA',\n",
       "       'D6ADAC62-C07B-4EA6-BDF6-71B3834CE2D1',\n",
       "       'AC4CDF31-3665-41AA-935F-898EED6FB707',\n",
       "       '981442D7-99DD-4958-A2AA-A2E51628E49F',\n",
       "       '9A0F674D-3861-4B2E-B1FB-963D721E6E3B',\n",
       "       'C24DD627-F0A2-4A7A-94B5-2EE93A6F7B06',\n",
       "       'C34B42E1-D090-467C-88C0-605FF2C90E42',\n",
       "       'B3D0F107-EB2D-4C8C-8AA7-16D4FD96CB72',\n",
       "       'B2D72BE5-2D3C-47F4-B5B4-F67EE7024CB4',\n",
       "       '51E956A6-5428-4FCE-B38F-CE41779FA606',\n",
       "       '10617BBF-6B59-4024-86F6-0685E852CEC2',\n",
       "       'E336B15B-5BD2-40D4-9F45-C9E9F6D7766B',\n",
       "       '244B82F6-F74C-4202-8367-0A84493CD9D6',\n",
       "       'A5B62350-472C-46E9-9BF9-D40F9AC5282C',\n",
       "       'B43EF832-C359-443D-ABE9-506D66C2B11C',\n",
       "       'FE2E4B10-F917-47DC-976C-7F998256E6A5',\n",
       "       'E9CE2172-F34A-4197-9268-67F56E377FAD',\n",
       "       '7B12A0F2-DDFC-47E5-8536-C60C1AD609C1',\n",
       "       '27213EBD-90FC-4977-8B1B-C4B30E945E54',\n",
       "       'DA72DF6E-E207-4909-845C-C489159118C0',\n",
       "       '295B1713-6642-4144-945F-389614E14422',\n",
       "       '7AF4E650-D766-4D2F-910C-A18048B44947',\n",
       "       '5B00A40F-6F7C-4374-87B1-A14D37AD3D81',\n",
       "       '4E36F785-E3A8-43A5-8F00-8AEE855B53E9',\n",
       "       'E17E2A1D-A36F-471D-9CBE-F85C27E95567',\n",
       "       '73E7A4C4-5F04-4707-82AB-5E0CDB6CD098',\n",
       "       'EC514246-17FB-4C00-BEA9-A51E3B3E72AC',\n",
       "       '8BE52CE5-675B-4941-AB8B-F0C76066872A',\n",
       "       'F0664DB9-43B9-40F4-AEC1-2067BA535408',\n",
       "       '5330108A-D6EC-4592-ACD5-37C33AC31108',\n",
       "       '7CF4A7D8-FF62-4AF1-ABE3-CC8256DD0E91',\n",
       "       '26FC3C58-58E5-4878-8415-8EAA362B2675',\n",
       "       '935C3BF3-D160-4014-AC08-E0ADFC440539',\n",
       "       'FA8781DD-3857-479F-B167-E9B189BDE337',\n",
       "       '988892D9-FC24-4F91-A2F9-F03BC2210C20',\n",
       "       'B3271B82-FE8D-4C1B-9991-CFA3D1571B4C',\n",
       "       '533B5792-2260-4620-BF6A-F5BED9A27524',\n",
       "       '569E79EE-639D-47F3-AD9C-BDFA801F3E07',\n",
       "       '6D9686F2-5DA8-456E-BA2B-7CA682010419',\n",
       "       'F97C3E95-AC6A-4539-A483-28E040565E24',\n",
       "       '9D12219E-9D5F-4748-8D27-611696A876B6',\n",
       "       '79BDCDF0-F30D-4590-9EE0-2039C59725E9',\n",
       "       '9D357A47-1446-4480-A689-C44D5C9584D8',\n",
       "       '94C0CC73-F7B5-4897-B541-7FF4AB1BF994',\n",
       "       'B58B635B-E2EE-45A8-9F4F-6568E68B9C8C',\n",
       "       '378CFFC8-4EC2-4366-B8FB-5CC173888992',\n",
       "       '5DD47F1F-78B5-448A-9BEC-19127963538A',\n",
       "       'CA3B5289-591D-42C7-B6EF-3287C29A36AA',\n",
       "       '8EDD7604-8740-4052-9DE5-2EE7C6B6D564',\n",
       "       '2B3F433E-87A4-46C4-B2C7-A813C7DD78CD',\n",
       "       '44FBD655-4B28-4250-9423-4C262834650A',\n",
       "       '491A22A7-3DBF-4CE9-B45E-F19FF09302B3',\n",
       "       'E4D70593-64BB-4FAE-8110-28E48B4B8397',\n",
       "       '8FE8E2A2-4381-4908-A386-4DEF1B4AD59B',\n",
       "       'B2999934-6E32-4839-9B37-ABED77B2C716',\n",
       "       '60B9A0AD-EC32-4838-82BC-D57C2BDD4ABC',\n",
       "       '0AE29FF3-CDD5-4F6E-91FA-89E5F0129CA8',\n",
       "       'BA6F0115-912C-4CF5-9C56-A4457AC14AF4',\n",
       "       '3BF02973-49DB-4DC5-AFA2-1A0A04C9DD48',\n",
       "       '02FFB60F-7DF1-46E5-AFD4-78EB2CD0E167',\n",
       "       'BC94046F-7D6D-4C17-9F37-2930D05A282B',\n",
       "       '03C8E1BF-4097-44F8-BBE7-EED2E44E3913',\n",
       "       '8456038A-24AE-4EAC-ACEB-FEE4836B9BD1',\n",
       "       '929B44CE-29DA-42D8-B7C3-C87C70D4C383',\n",
       "       'F8CF4AB6-378A-4075-8BE7-6195EE417848',\n",
       "       'F7A31164-A7FE-467F-A9F7-8A06954FB391',\n",
       "       '58A68982-BF09-4DA2-9C86-094D9F52BB8F',\n",
       "       '21789CE9-CD5C-4B1F-BAFF-B3D7C45E6F25'], dtype=object)"
      ]
     },
     "execution_count": 46,
     "metadata": {},
     "output_type": "execute_result"
    }
   ],
   "source": [
    "df6['id'].unique()"
   ]
  },
  {
   "cell_type": "code",
   "execution_count": 47,
   "id": "bab86b70-7740-4ae2-836e-6bac88d25430",
   "metadata": {
    "tags": []
   },
   "outputs": [
    {
     "data": {
      "text/plain": [
       "array([5554, 5555, 5556, 5557, 5558, 5559, 5560, 5561, 5562, 5563, 5564,\n",
       "       5565, 5566, 5567, 5568, 5569, 5570, 5571, 5572, 5573, 5574, 5575,\n",
       "       5576, 5577, 5578, 5579, 5580, 5581, 5582, 5583, 5584, 5585, 5586,\n",
       "       5587, 5588, 5589, 5590, 5591, 5592, 5593, 5594, 5595, 5596, 5597,\n",
       "       5598, 5599, 5600, 5601, 5602, 5603, 5604, 5605, 5606, 5607, 5608,\n",
       "       5609, 5610, 5611, 5612, 5613, 5614, 5615, 5616, 5617, 5618, 5619,\n",
       "       5620, 5621, 5622, 5623, 5624, 5625, 5626, 5627, 5628, 5629, 5630,\n",
       "       5631, 5632, 5633, 5634, 5635, 5636, 5637, 5638, 5639, 5640, 5641,\n",
       "       5642, 5643, 5644, 5645, 5646, 5647, 5648, 5649, 5650, 5651, 5652,\n",
       "       5653, 5654, 5655, 5656, 5657, 5658, 5659, 5660, 5661, 5662, 5663,\n",
       "       5664, 5665, 5666, 5667, 5668, 5669, 5670, 5671, 5672, 5673, 5674,\n",
       "       5675, 5676, 5677, 5678, 5679, 5680, 5681, 5682, 5683, 5684, 5685,\n",
       "       5686, 5687, 5688, 5689, 5690, 5691, 5692, 5693, 5694, 5695, 5696,\n",
       "       5697, 5698, 5699, 5700, 5701, 5702, 5703, 5704, 5705, 5706, 5707,\n",
       "       5708, 5709, 5710, 5711, 5712, 5713, 5714, 5715, 5716, 5717, 5718,\n",
       "       5719, 5720, 5721, 5722, 5723, 5724, 5725], dtype=int64)"
      ]
     },
     "execution_count": 47,
     "metadata": {},
     "output_type": "execute_result"
    }
   ],
   "source": [
    "df6['position'].unique()"
   ]
  },
  {
   "cell_type": "markdown",
   "id": "fdbf708e-a26c-4701-a2b0-0ad5290e6ae3",
   "metadata": {},
   "source": [
    "duplication from sid"
   ]
  },
  {
   "cell_type": "code",
   "execution_count": 48,
   "id": "c55d306a-5486-4056-b7ff-bc78da2abf8a",
   "metadata": {
    "tags": []
   },
   "outputs": [
    {
     "data": {
      "text/plain": [
       "array([1435599444], dtype=int64)"
      ]
     },
     "execution_count": 48,
     "metadata": {},
     "output_type": "execute_result"
    }
   ],
   "source": [
    "df6['created_at'].unique()"
   ]
  },
  {
   "cell_type": "code",
   "execution_count": 49,
   "id": "ce5a020f-7b53-4471-972d-b39c6ba1bec1",
   "metadata": {
    "tags": []
   },
   "outputs": [
    {
     "data": {
      "text/plain": [
       "array(['710753'], dtype=object)"
      ]
     },
     "execution_count": 49,
     "metadata": {},
     "output_type": "execute_result"
    }
   ],
   "source": [
    "df6['created_meta'].unique()"
   ]
  },
  {
   "cell_type": "code",
   "execution_count": 50,
   "id": "ee15f2a9-552e-4a9d-b0e8-a8a2b54a6635",
   "metadata": {
    "tags": []
   },
   "outputs": [
    {
     "data": {
      "text/plain": [
       "array([1435599444], dtype=int64)"
      ]
     },
     "execution_count": 50,
     "metadata": {},
     "output_type": "execute_result"
    }
   ],
   "source": [
    "df6['updated_at'].unique()"
   ]
  },
  {
   "cell_type": "code",
   "execution_count": 51,
   "id": "c526460d-ad7f-4bbd-becc-b33e8b9441fa",
   "metadata": {
    "tags": []
   },
   "outputs": [
    {
     "data": {
      "text/plain": [
       "array(['710753'], dtype=object)"
      ]
     },
     "execution_count": 51,
     "metadata": {},
     "output_type": "execute_result"
    }
   ],
   "source": [
    "df6['updated_meta'].unique()"
   ]
  },
  {
   "cell_type": "code",
   "execution_count": 52,
   "id": "79c1df67-7f8c-4a0b-a12e-97fbd5250be0",
   "metadata": {
    "tags": []
   },
   "outputs": [
    {
     "data": {
      "text/plain": [
       "array([None], dtype=object)"
      ]
     },
     "execution_count": 52,
     "metadata": {},
     "output_type": "execute_result"
    }
   ],
   "source": [
    "df6['meta'].unique()"
   ]
  },
  {
   "cell_type": "markdown",
   "id": "d3375c47-ff90-476a-b7af-2b29a110aa24",
   "metadata": {},
   "source": [
    "5x Above can be removed"
   ]
  },
  {
   "cell_type": "code",
   "execution_count": 53,
   "id": "2efce21d-61ef-472a-a61f-3711b93be6c3",
   "metadata": {
    "collapsed": true,
    "jupyter": {
     "outputs_hidden": true
    },
    "tags": []
   },
   "outputs": [
    {
     "data": {
      "text/plain": [
       "array(['2001-01-01T00:00:00', '2001-02-01T00:00:00',\n",
       "       '2001-03-01T00:00:00', '2001-04-01T00:00:00',\n",
       "       '2001-05-01T00:00:00', '2001-06-01T00:00:00',\n",
       "       '2001-07-01T00:00:00', '2001-08-01T00:00:00',\n",
       "       '2001-09-01T00:00:00', '2001-10-01T00:00:00',\n",
       "       '2001-11-01T00:00:00', '2001-12-01T00:00:00',\n",
       "       '2002-01-01T00:00:00', '2002-02-01T00:00:00',\n",
       "       '2002-03-01T00:00:00', '2002-04-01T00:00:00',\n",
       "       '2002-05-01T00:00:00', '2002-06-01T00:00:00',\n",
       "       '2002-07-01T00:00:00', '2002-08-01T00:00:00',\n",
       "       '2002-09-01T00:00:00', '2002-10-01T00:00:00',\n",
       "       '2002-11-01T00:00:00', '2002-12-01T00:00:00',\n",
       "       '2003-01-01T00:00:00', '2003-02-01T00:00:00',\n",
       "       '2003-03-01T00:00:00', '2003-04-01T00:00:00',\n",
       "       '2003-05-01T00:00:00', '2003-06-01T00:00:00',\n",
       "       '2003-07-01T00:00:00', '2003-08-01T00:00:00',\n",
       "       '2003-09-01T00:00:00', '2003-10-01T00:00:00',\n",
       "       '2003-11-01T00:00:00', '2003-12-01T00:00:00',\n",
       "       '2004-01-01T00:00:00', '2004-02-01T00:00:00',\n",
       "       '2004-03-01T00:00:00', '2004-04-01T00:00:00',\n",
       "       '2004-05-01T00:00:00', '2004-06-01T00:00:00',\n",
       "       '2004-07-01T00:00:00', '2004-08-01T00:00:00',\n",
       "       '2004-09-01T00:00:00', '2004-10-01T00:00:00',\n",
       "       '2004-11-01T00:00:00', '2004-12-01T00:00:00',\n",
       "       '2005-01-01T00:00:00', '2005-02-01T00:00:00',\n",
       "       '2005-03-01T00:00:00', '2005-04-01T00:00:00',\n",
       "       '2005-05-01T00:00:00', '2005-06-01T00:00:00',\n",
       "       '2005-07-01T00:00:00', '2005-08-01T00:00:00',\n",
       "       '2005-09-01T00:00:00', '2005-10-01T00:00:00',\n",
       "       '2005-11-01T00:00:00', '2005-12-01T00:00:00',\n",
       "       '2006-01-01T00:00:00', '2006-02-01T00:00:00',\n",
       "       '2006-03-01T00:00:00', '2006-04-01T00:00:00',\n",
       "       '2006-05-01T00:00:00', '2006-06-01T00:00:00',\n",
       "       '2006-07-01T00:00:00', '2006-08-01T00:00:00',\n",
       "       '2006-09-01T00:00:00', '2006-10-01T00:00:00',\n",
       "       '2006-11-01T00:00:00', '2006-12-01T00:00:00',\n",
       "       '2007-01-01T00:00:00', '2007-02-01T00:00:00',\n",
       "       '2007-03-01T00:00:00', '2007-04-01T00:00:00',\n",
       "       '2007-05-01T00:00:00', '2007-06-01T00:00:00',\n",
       "       '2007-07-01T00:00:00', '2007-08-01T00:00:00',\n",
       "       '2007-09-01T00:00:00', '2007-10-01T00:00:00',\n",
       "       '2007-11-01T00:00:00', '2007-12-01T00:00:00',\n",
       "       '2008-01-01T00:00:00', '2008-02-01T00:00:00',\n",
       "       '2008-03-01T00:00:00', '2008-04-01T00:00:00',\n",
       "       '2008-05-01T00:00:00', '2008-06-01T00:00:00',\n",
       "       '2008-07-01T00:00:00', '2008-08-01T00:00:00',\n",
       "       '2008-09-01T00:00:00', '2008-10-01T00:00:00',\n",
       "       '2008-11-01T00:00:00', '2008-12-01T00:00:00',\n",
       "       '2009-01-01T00:00:00', '2009-02-01T00:00:00',\n",
       "       '2009-03-01T00:00:00', '2009-04-01T00:00:00',\n",
       "       '2009-05-01T00:00:00', '2009-06-01T00:00:00',\n",
       "       '2009-07-01T00:00:00', '2009-08-01T00:00:00',\n",
       "       '2009-09-01T00:00:00', '2009-10-01T00:00:00',\n",
       "       '2009-11-01T00:00:00', '2009-12-01T00:00:00',\n",
       "       '2010-01-01T00:00:00', '2010-02-01T00:00:00',\n",
       "       '2010-03-01T00:00:00', '2010-04-01T00:00:00',\n",
       "       '2010-05-01T00:00:00', '2010-06-01T00:00:00',\n",
       "       '2010-07-01T00:00:00', '2010-08-01T00:00:00',\n",
       "       '2010-09-01T00:00:00', '2010-10-01T00:00:00',\n",
       "       '2010-11-01T00:00:00', '2010-12-01T00:00:00',\n",
       "       '2011-01-01T00:00:00', '2011-02-01T00:00:00',\n",
       "       '2011-03-01T00:00:00', '2011-04-01T00:00:00',\n",
       "       '2011-05-01T00:00:00', '2011-06-01T00:00:00',\n",
       "       '2011-07-01T00:00:00', '2011-08-01T00:00:00',\n",
       "       '2011-09-01T00:00:00', '2011-10-01T00:00:00',\n",
       "       '2011-11-01T00:00:00', '2011-12-01T00:00:00',\n",
       "       '2012-01-01T00:00:00', '2012-02-01T00:00:00',\n",
       "       '2012-03-01T00:00:00', '2012-04-01T00:00:00',\n",
       "       '2012-05-01T00:00:00', '2012-06-01T00:00:00',\n",
       "       '2012-07-01T00:00:00', '2012-08-01T00:00:00',\n",
       "       '2012-09-01T00:00:00', '2012-10-01T00:00:00',\n",
       "       '2012-11-01T00:00:00', '2012-12-01T00:00:00',\n",
       "       '2013-01-01T00:00:00', '2013-02-01T00:00:00',\n",
       "       '2013-03-01T00:00:00', '2013-04-01T00:00:00',\n",
       "       '2013-05-01T00:00:00', '2013-06-01T00:00:00',\n",
       "       '2013-07-01T00:00:00', '2013-08-01T00:00:00',\n",
       "       '2013-09-01T00:00:00', '2013-10-01T00:00:00',\n",
       "       '2013-11-01T00:00:00', '2013-12-01T00:00:00',\n",
       "       '2014-01-01T00:00:00', '2014-02-01T00:00:00',\n",
       "       '2014-03-01T00:00:00', '2014-04-01T00:00:00',\n",
       "       '2014-05-01T00:00:00', '2014-06-01T00:00:00',\n",
       "       '2014-07-01T00:00:00', '2014-08-01T00:00:00',\n",
       "       '2014-09-01T00:00:00', '2014-10-01T00:00:00',\n",
       "       '2014-11-01T00:00:00', '2014-12-01T00:00:00',\n",
       "       '2015-01-01T00:00:00', '2015-02-01T00:00:00',\n",
       "       '2015-03-01T00:00:00', '2015-04-01T00:00:00'], dtype=object)"
      ]
     },
     "execution_count": 53,
     "metadata": {},
     "output_type": "execute_result"
    }
   ],
   "source": [
    "df6['When'].unique()"
   ]
  },
  {
   "cell_type": "code",
   "execution_count": 54,
   "id": "ff8f3f69-58aa-45a1-ba88-9ec01fb06931",
   "metadata": {
    "tags": []
   },
   "outputs": [
    {
     "data": {
      "text/plain": [
       "array(['Industrial aggregate excluding unclassified businesses'],\n",
       "      dtype=object)"
      ]
     },
     "execution_count": 54,
     "metadata": {},
     "output_type": "execute_result"
    }
   ],
   "source": [
    "df6['NAICS'].unique()"
   ]
  },
  {
   "cell_type": "code",
   "execution_count": 55,
   "id": "2695a22b-bcc3-4604-996a-7e7d79c83eaa",
   "metadata": {
    "collapsed": true,
    "jupyter": {
     "outputs_hidden": true
    },
    "tags": []
   },
   "outputs": [
    {
     "data": {
      "text/plain": [
       "array(['670.54', '670.52', '668.49', '671.71', '664.45', '675.72',\n",
       "       '672.96', '673.60', '692.18', '693.13', '675.80', '674.09',\n",
       "       '683.11', '688.54', '692.57', '695.96', '680.85', '693.46',\n",
       "       '694.92', '684.47', '696.89', '694.75', '702.92', '704.60',\n",
       "       '703.22', '721.01', '708.69', '716.16', '697.56', '717.20',\n",
       "       '711.94', '734.12', '716.88', '732.11', '722.90', '730.59',\n",
       "       '740.74', '746.86', '726.46', '735.63', '731.50', '731.59',\n",
       "       '746.79', '743.73', '746.81', '761.41', '747.23', '764.65',\n",
       "       '785.75', '753.61', '768.57', '777.96', '769.72', '774.32',\n",
       "       '788.82', '797.72', '806.67', '813.68', '795.73', '809.20',\n",
       "       '820.63', '810.53', '820.94', '824.64', '809.03', '817.47',\n",
       "       '817.20', '827.29', '842.57', '822.22', '845.36', '854.96',\n",
       "       '853.84', '850.70', '857.63', '849.73', '874.78', '878.76',\n",
       "       '863.34', '889.34', '898.35', '886.73', '890.70', '884.75',\n",
       "       '922.82', '919.04', '916.76', '899.01', '922.17', '905.63',\n",
       "       '922.40', '945.23', '929.89', '952.59', '946.64', '945.00',\n",
       "       '963.38', '962.10', '935.00', '942.96', '952.69', '940.03',\n",
       "       '932.93', '951.29', '947.97', '960.62', '947.44', '961.69',\n",
       "       '984.82', '991.31', '990.27', '983.03', '992.43', '983.72',\n",
       "       '997.12', '994.17', '1007.02', '1011.40', '994.73', '1030.23',\n",
       "       '1042.48', '1027.54', '1032.66', '1031.81', '1024.12', '1016.42',\n",
       "       '1040.53', '1026.41', '1051.14', '1049.67', '1036.98', '1052.79',\n",
       "       '1067.39', '1058.46', '1060.70', '1040.93', '1063.52', '1074.05',\n",
       "       '1080.71', '1081.71', '1096.41', '1080.35', '1088.62', '1069.35',\n",
       "       '1113.51', '1105.64', '1103.68', '1098.46', '1097.71', '1099.53',\n",
       "       '1093.14', '1114.87', '1118.79', '1137.21', '1143.70', '1115.88',\n",
       "       '1147.69', '1155.43', '1147.73', '1134.33', '1151.22', '1138.21',\n",
       "       '1155.68', '1159.89', '1163.69', '1160.77', '1159.60', '1158.79',\n",
       "       '1176.32', '1173.23', '1150.61'], dtype=object)"
      ]
     },
     "execution_count": 55,
     "metadata": {},
     "output_type": "execute_result"
    }
   ],
   "source": [
    "df6['Alberta'].unique()"
   ]
  },
  {
   "cell_type": "code",
   "execution_count": 56,
   "id": "60e3967e-2a43-4768-8e1f-46b5a4c640c6",
   "metadata": {
    "collapsed": true,
    "jupyter": {
     "outputs_hidden": true
    },
    "tags": []
   },
   "outputs": [
    {
     "data": {
      "text/plain": [
       "array(['660.48', '659.33', '654.07', '657.15', '653.23', '661.49',\n",
       "       '655.63', '653.55', '659.15', '664.43', '655.07', '658.72',\n",
       "       '655.56', '665.24', '676.82', '679.44', '666.55', '667.02',\n",
       "       '671.04', '661.43', '676.77', '666.65', '682.70', '687.48',\n",
       "       '680.11', '690.65', '679.43', '685.81', '675.68', '690.12',\n",
       "       '672.89', '687.68', '694.58', '687.63', '698.13', '687.28',\n",
       "       '692.67', '700.11', '697.32', '689.84', '693.88', '689.72',\n",
       "       '692.59', '699.22', '691.92', '706.07', '709.57', '705.55',\n",
       "       '715.99', '726.15', '701.01', '723.27', '724.58', '717.59',\n",
       "       '717.79', '721.83', '732.94', '727.07', '734.55', '731.04',\n",
       "       '737.46', '745.92', '733.18', '744.35', '748.70', '742.35',\n",
       "       '739.37', '733.75', '748.30', '751.64', '736.59', '766.66',\n",
       "       '762.68', '758.66', '759.08', '766.23', '757.83', '781.65',\n",
       "       '770.76', '761.89', '773.30', '777.97', '778.59', '782.80',\n",
       "       '769.03', '794.93', '788.66', '792.34', '785.46', '792.15',\n",
       "       '774.61', '793.14', '799.70', '791.18', '796.00', '789.85',\n",
       "       '792.58', '793.71', '798.70', '788.63', '794.39', '793.85',\n",
       "       '788.56', '785.32', '797.21', '803.06', '797.56', '809.36',\n",
       "       '802.01', '812.78', '814.25', '814.64', '817.80', '810.73',\n",
       "       '818.63', '817.24', '819.94', '830.21', '824.79', '834.72',\n",
       "       '833.90', '842.21', '831.42', '842.27', '844.69', '837.09',\n",
       "       '828.60', '836.07', '840.23', '847.66', '847.63', '854.80',\n",
       "       '858.34', '861.64', '862.37', '861.49', '851.32', '870.97',\n",
       "       '868.29', '859.92', '864.42', '871.42', '872.63', '880.23',\n",
       "       '861.75', '881.20', '871.75', '873.50', '876.40', '867.77',\n",
       "       '864.68', '863.94', '869.32', '867.56', '895.89', '898.29',\n",
       "       '884.83', '898.03', '898.10', '895.40', '896.84', '888.03',\n",
       "       '879.23', '897.90', '896.29', '901.86', '902.69', '904.11',\n",
       "       '911.57', '919.20', '911.73', '899.15'], dtype=object)"
      ]
     },
     "execution_count": 56,
     "metadata": {},
     "output_type": "execute_result"
    }
   ],
   "source": [
    "df6['BritishColumbia'].unique()"
   ]
  },
  {
   "cell_type": "code",
   "execution_count": 57,
   "id": "5457377e-40b8-4d92-827e-621ca19810c7",
   "metadata": {
    "collapsed": true,
    "jupyter": {
     "outputs_hidden": true
    },
    "tags": []
   },
   "outputs": [
    {
     "data": {
      "text/plain": [
       "array(['658.02', '655.79', '655.88', '654.09', '650.02', '658.06',\n",
       "       '655.38', '655.54', '660.50', '661.11', '659.65', '661.38',\n",
       "       '664.21', '662.65', '666.93', '674.60', '669.81', '671.76',\n",
       "       '675.49', '668.37', '674.85', '679.36', '680.13', '686.19',\n",
       "       '681.49', '690.54', '682.94', '686.99', '683.63', '692.58',\n",
       "       '689.06', '690.30', '698.22', '696.61', '699.90', '699.47',\n",
       "       '702.75', '705.91', '705.77', '704.91', '709.16', '707.28',\n",
       "       '706.16', '707.49', '711.68', '711.51', '716.23', '720.44',\n",
       "       '725.89', '736.62', '725.46', '730.08', '732.58', '737.03',\n",
       "       '732.72', '737.25', '750.15', '745.00', '744.12', '744.96',\n",
       "       '745.92', '750.88', '750.57', '750.35', '753.77', '750.98',\n",
       "       '754.22', '757.15', '761.69', '760.42', '773.45', '773.73',\n",
       "       '776.53', '784.01', '781.52', '784.79', '792.83', '788.23',\n",
       "       '784.12', '790.83', '793.56', '799.17', '799.48', '797.52',\n",
       "       '809.57', '808.43', '810.42', '806.89', '811.88', '807.36',\n",
       "       '805.97', '813.15', '817.93', '818.72', '814.47', '815.09',\n",
       "       '824.64', '824.29', '817.56', '815.67', '822.73', '819.08',\n",
       "       '815.98', '825.84', '825.31', '828.30', '834.32', '833.23',\n",
       "       '847.87', '845.81', '845.36', '844.65', '851.70', '849.38',\n",
       "       '852.95', '862.50', '860.25', '864.23', '868.07', '871.06',\n",
       "       '877.32', '873.52', '869.47', '869.04', '871.32', '864.90',\n",
       "       '867.68', '869.71', '882.05', '880.44', '883.91', '883.36',\n",
       "       '887.67', '890.00', '888.88', '887.88', '894.78', '896.94',\n",
       "       '899.43', '898.60', '903.29', '903.67', '908.37', '898.44',\n",
       "       '911.76', '905.22', '905.41', '910.56', '911.94', '906.82',\n",
       "       '907.30', '907.86', '916.45', '922.36', '930.28', '920.18',\n",
       "       '933.15', '930.78', '931.12', '932.72', '938.57', '939.30',\n",
       "       '935.22', '934.74', '940.68', '937.83', '948.40', '944.98',\n",
       "       '957.80', '956.50', '954.70'], dtype=object)"
      ]
     },
     "execution_count": 57,
     "metadata": {},
     "output_type": "execute_result"
    }
   ],
   "source": [
    "df6['Canada'].unique()"
   ]
  },
  {
   "cell_type": "code",
   "execution_count": 58,
   "id": "7a616b9a-3efb-44af-97c3-7ec2cb4f433b",
   "metadata": {
    "collapsed": true,
    "jupyter": {
     "outputs_hidden": true
    },
    "tags": []
   },
   "outputs": [
    {
     "data": {
      "text/plain": [
       "array(['578.95', '580.63', '578.67', '576.36', '571.84', '588.66',\n",
       "       '586.31', '592.32', '587.73', '587.39', '586.56', '593.03',\n",
       "       '589.62', '594.31', '597.55', '601.36', '597.94', '602.12',\n",
       "       '607.44', '603.27', '604.20', '604.21', '619.95', '624.44',\n",
       "       '617.27', '618.41', '613.23', '613.37', '609.06', '619.38',\n",
       "       '612.14', '621.83', '625.76', '623.77', '623.69', '631.05',\n",
       "       '632.77', '632.57', '629.28', '628.24', '633.74', '633.04',\n",
       "       '631.24', '636.22', '635.10', '651.13', '648.86', '647.95',\n",
       "       '658.96', '659.63', '657.92', '657.87', '660.31', '668.97',\n",
       "       '664.86', '668.22', '676.45', '672.92', '669.69', '671.90',\n",
       "       '675.30', '676.03', '677.82', '675.59', '671.65', '691.44',\n",
       "       '680.69', '678.08', '694.70', '692.35', '689.81', '717.12',\n",
       "       '707.73', '714.22', '724.61', '719.08', '711.28', '735.08',\n",
       "       '723.46', '723.55', '725.99', '732.68', '739.94', '736.98',\n",
       "       '727.19', '752.05', '742.82', '745.34', '742.78', '745.33',\n",
       "       '737.05', '746.93', '748.01', '749.84', '747.92', '757.94',\n",
       "       '763.32', '766.19', '768.18', '753.26', '753.14', '762.49',\n",
       "       '764.90', '759.85', '775.83', '778.88', '766.44', '767.55',\n",
       "       '764.38', '776.32', '772.40', '772.82', '770.62', '777.77',\n",
       "       '780.06', '779.57', '787.00', '795.67', '789.56', '801.81',\n",
       "       '796.66', '800.25', '797.22', '799.87', '800.12', '801.67',\n",
       "       '799.38', '805.12', '804.25', '804.87', '801.77', '804.59',\n",
       "       '815.75', '805.09', '821.13', '813.30', '809.88', '827.63',\n",
       "       '823.78', '833.05', '833.79', '830.94', '824.67', '835.86',\n",
       "       '821.84', '815.61', '828.59', '821.34', '814.72', '829.29',\n",
       "       '823.32', '824.74', '821.79', '822.38', '842.09', '864.26',\n",
       "       '841.64', '851.82', '855.63', '857.99', '852.31', '867.75',\n",
       "       '860.36', '875.09', '869.33', '872.41', '862.07', '886.94',\n",
       "       '875.17', '873.35', '865.29', '864.69'], dtype=object)"
      ]
     },
     "execution_count": 58,
     "metadata": {},
     "output_type": "execute_result"
    }
   ],
   "source": [
    "df6['Manitoba'].unique()"
   ]
  },
  {
   "cell_type": "code",
   "execution_count": 59,
   "id": "7b7af1bf-2c2e-4337-8b11-faffbfa2e751",
   "metadata": {
    "collapsed": true,
    "jupyter": {
     "outputs_hidden": true
    },
    "tags": []
   },
   "outputs": [
    {
     "data": {
      "text/plain": [
       "array(['584.75', '585.11', '584.13', '580.92', '578.44', '582.79',\n",
       "       '580.57', '602.85', '594.41', '595.74', '598.11', '602.37',\n",
       "       '599.19', '596.29', '601.49', '604.18', '603.29', '604.21',\n",
       "       '604.91', '598.43', '602.88', '614.14', '609.87', '611.50',\n",
       "       '612.60', '614.48', '611.07', '615.02', '612.55', '617.83',\n",
       "       '620.46', '620.38', '627.10', '626.28', '631.20', '623.87',\n",
       "       '631.80', '626.71', '623.13', '621.01', '629.23', '625.84',\n",
       "       '623.59', '621.98', '629.05', '632.33', '634.31', '643.32',\n",
       "       '652.63', '654.11', '649.99', '650.50', '648.88', '651.25',\n",
       "       '650.55', '650.25', '662.76', '664.33', '663.52', '663.38',\n",
       "       '667.62', '667.28', '666.39', '668.49', '666.57', '671.62',\n",
       "       '666.76', '666.59', '680.08', '680.81', '687.34', '698.05',\n",
       "       '696.82', '700.51', '708.73', '703.84', '709.09', '709.27',\n",
       "       '699.33', '701.18', '706.19', '713.49', '719.72', '723.41',\n",
       "       '717.77', '724.79', '721.88', '722.86', '726.55', '724.78',\n",
       "       '733.85', '733.82', '732.90', '741.10', '738.73', '736.79',\n",
       "       '742.42', '745.60', '746.40', '741.42', '742.13', '741.58',\n",
       "       '756.55', '749.25', '762.58', '748.29', '752.76', '758.38',\n",
       "       '755.16', '761.98', '761.71', '763.12', '749.74', '754.39',\n",
       "       '753.29', '750.13', '763.27', '765.73', '769.37', '778.68',\n",
       "       '784.91', '785.16', '787.89', '790.98', '782.27', '776.84',\n",
       "       '780.81', '779.72', '789.36', '795.26', '799.89', '794.52',\n",
       "       '793.02', '801.20', '807.70', '806.78', '806.65', '810.46',\n",
       "       '805.55', '808.42', '805.12', '813.12', '810.50', '810.92',\n",
       "       '801.75', '800.38', '793.96', '799.96', '808.09', '809.50',\n",
       "       '799.99', '801.43', '789.91', '805.09', '824.87', '819.70',\n",
       "       '807.50', '823.19', '812.96', '831.93', '834.73', '834.85',\n",
       "       '842.70', '826.67', '836.43', '838.49', '838.71', '856.35',\n",
       "       '842.03', '854.39', '848.22', '864.81'], dtype=object)"
      ]
     },
     "execution_count": 59,
     "metadata": {},
     "output_type": "execute_result"
    }
   ],
   "source": [
    "df6['NewBrunswick'].unique()"
   ]
  },
  {
   "cell_type": "code",
   "execution_count": 60,
   "id": "939ee033-634b-496e-8e54-027b52443041",
   "metadata": {
    "collapsed": true,
    "jupyter": {
     "outputs_hidden": true
    },
    "tags": []
   },
   "outputs": [
    {
     "data": {
      "text/plain": [
       "array(['594.00', '591.92', '593.47', '591.96', '588.19', '591.85',\n",
       "       '590.91', '593.53', '600.95', '596.49', '585.27', '594.03',\n",
       "       '599.19', '590.37', '600.05', '604.78', '611.06', '607.08',\n",
       "       '607.55', '604.04', '612.71', '618.29', '622.08', '629.78',\n",
       "       '624.96', '636.75', '629.32', '636.17', '641.92', '648.53',\n",
       "       '652.13', '650.10', '642.94', '629.39', '643.69', '639.71',\n",
       "       '646.17', '654.02', '656.38', '642.10', '671.62', '658.03',\n",
       "       '660.96', '651.47', '649.74', '659.98', '656.19', '659.31',\n",
       "       '672.41', '677.05', '664.54', '676.23', '681.50', '681.86',\n",
       "       '687.90', '684.16', '687.48', '694.49', '689.05', '689.01',\n",
       "       '696.36', '696.93', '697.16', '706.22', '706.87', '702.87',\n",
       "       '703.26', '701.91', '713.53', '713.90', '706.36', '726.71',\n",
       "       '729.26', '721.53', '731.68', '738.92', '728.27', '740.65',\n",
       "       '737.91', '727.78', '740.20', '743.79', '741.63', '741.36',\n",
       "       '741.54', '751.24', '757.38', '762.49', '760.89', '765.74',\n",
       "       '758.90', '770.91', '773.05', '774.91', '788.43', '780.99',\n",
       "       '775.89', '784.47', '799.76', '797.85', '805.45', '798.01',\n",
       "       '803.36', '789.07', '799.43', '812.18', '822.36', '820.61',\n",
       "       '816.06', '837.14', '836.21', '836.03', '830.15', '836.27',\n",
       "       '826.95', '834.42', '844.44', '836.01', '849.03', '856.01',\n",
       "       '864.03', '882.71', '879.89', '873.17', '869.87', '861.85',\n",
       "       '872.43', '870.06', '884.34', '899.15', '891.23', '899.71',\n",
       "       '905.48', '912.50', '920.15', '927.87', '916.01', '920.49',\n",
       "       '934.76', '940.65', '937.27', '935.94', '932.00', '933.54',\n",
       "       '934.45', '952.15', '945.22', '946.36', '940.26', '940.35',\n",
       "       '948.79', '951.96', '955.14', '966.96', '973.45', '972.75',\n",
       "       '958.16', '978.49', '983.21', '989.21', '990.50', '996.14',\n",
       "       '995.46', '985.76', '997.27', '1001.57', '1007.37', '1006.98',\n",
       "       '1007.20', '1015.85', '1022.75', '1019.61'], dtype=object)"
      ]
     },
     "execution_count": 60,
     "metadata": {},
     "output_type": "execute_result"
    }
   ],
   "source": [
    "df6['NewfoundlandAndLabrador'].unique()"
   ]
  },
  {
   "cell_type": "code",
   "execution_count": 61,
   "id": "6336a6a0-2df6-45ef-a42f-c661b35a3923",
   "metadata": {
    "collapsed": true,
    "jupyter": {
     "outputs_hidden": true
    },
    "tags": []
   },
   "outputs": [
    {
     "data": {
      "text/plain": [
       "array(['571.28', '570.06', '570.70', '568.70', '567.96', '576.42',\n",
       "       '576.16', '579.54', '576.75', '582.77', '583.15', '594.16',\n",
       "       '591.75', '586.60', '589.95', '595.20', '598.47', '601.48',\n",
       "       '604.48', '593.00', '591.76', '598.80', '598.29', '609.86',\n",
       "       '607.06', '607.21', '605.46', '611.04', '613.51', '614.96',\n",
       "       '610.28', '611.49', '610.00', '609.47', '610.64', '618.84',\n",
       "       '615.09', '611.00', '617.98', '619.96', '630.93', '627.55',\n",
       "       '627.41', '627.45', '627.34', '630.28', '627.25', '643.97',\n",
       "       '647.98', '654.51', '647.21', '646.68', '654.89', '658.26',\n",
       "       '655.07', '658.37', '667.95', '665.19', '664.16', '665.35',\n",
       "       '670.78', '668.33', '669.46', '667.61', '662.60', '678.54',\n",
       "       '675.41', '677.12', '675.86', '671.73', '677.32', '686.59',\n",
       "       '681.76', '685.84', '702.86', '689.61', '701.21', '706.09',\n",
       "       '693.87', '697.54', '688.71', '686.09', '699.24', '702.30',\n",
       "       '701.96', '703.08', '703.61', '707.55', '714.59', '712.56',\n",
       "       '720.38', '715.99', '713.48', '717.62', '716.72', '724.78',\n",
       "       '720.94', '727.75', '728.00', '728.52', '733.46', '733.04',\n",
       "       '728.98', '730.70', '735.82', '714.57', '725.05', '742.45',\n",
       "       '737.71', '756.30', '747.40', '748.46', '763.68', '766.62',\n",
       "       '757.10', '762.74', '759.11', '757.47', '778.99', '755.24',\n",
       "       '760.68', '764.78', '761.80', '761.41', '773.11', '768.31',\n",
       "       '765.45', '755.59', '760.34', '773.94', '780.79', '771.54',\n",
       "       '769.19', '777.65', '776.37', '789.90', '792.77', '790.05',\n",
       "       '792.79', '793.77', '789.91', '804.97', '807.32', '783.89',\n",
       "       '786.92', '785.75', '786.58', '800.56', '803.66', '808.55',\n",
       "       '802.88', '795.15', '797.84', '806.92', '808.43', '801.59',\n",
       "       '813.83', '809.56', '817.48', '827.56', '830.24', '830.68',\n",
       "       '822.27', '811.21', '820.12', '816.48', '836.76', '830.52',\n",
       "       '829.09', '823.01', '835.31'], dtype=object)"
      ]
     },
     "execution_count": 61,
     "metadata": {},
     "output_type": "execute_result"
    }
   ],
   "source": [
    "df6['NovaScotia'].unique()"
   ]
  },
  {
   "cell_type": "code",
   "execution_count": 62,
   "id": "7200b5a9-f8bf-4781-a5e0-e24898d61c94",
   "metadata": {
    "collapsed": true,
    "jupyter": {
     "outputs_hidden": true
    },
    "tags": []
   },
   "outputs": [
    {
     "data": {
      "text/plain": [
       "array(['698.57', '693.69', '697.08', '693.73', '688.27', '697.37',\n",
       "       '696.65', '691.09', '699.48', '697.06', '701.04', '697.61',\n",
       "       '698.73', '699.15', '703.71', '711.85', '706.47', '711.41',\n",
       "       '716.17', '707.61', '715.92', '718.94', '719.97', '722.11',\n",
       "       '716.52', '728.11', '721.34', '723.04', '721.47', '730.87',\n",
       "       '725.97', '729.97', '736.56', '735.77', '736.44', '736.87',\n",
       "       '745.60', '747.62', '745.37', '748.34', '750.96', '748.35',\n",
       "       '747.80', '745.36', '744.54', '750.17', '753.11', '758.94',\n",
       "       '764.64', '776.30', '763.68', '773.07', '772.70', '780.19',\n",
       "       '771.46', '775.08', '789.46', '784.10', '780.22', '782.10',\n",
       "       '784.57', '787.84', '785.61', '783.55', '782.20', '784.84',\n",
       "       '782.64', '784.06', '793.66', '796.44', '791.94', '806.65',\n",
       "       '807.77', '809.89', '816.33', '815.20', '815.04', '827.65',\n",
       "       '819.07', '814.41', '820.11', '823.31', '830.69', '828.37',\n",
       "       '829.96', '844.43', '836.65', '837.25', '834.92', '842.92',\n",
       "       '831.80', '833.26', '838.19', '845.80', '846.39', '837.50',\n",
       "       '842.29', '853.11', '851.62', '847.22', '840.15', '845.78',\n",
       "       '840.52', '841.15', '850.76', '851.96', '856.30', '865.50',\n",
       "       '865.90', '882.54', '875.16', '871.83', '869.84', '877.90',\n",
       "       '877.27', '882.11', '898.03', '886.04', '891.88', '895.94',\n",
       "       '900.04', '903.91', '900.66', '889.91', '889.35', '892.24',\n",
       "       '882.32', '882.98', '883.85', '900.32', '893.90', '900.49',\n",
       "       '900.85', '901.14', '900.75', '903.08', '899.30', '912.51',\n",
       "       '908.46', '903.50', '904.57', '908.84', '910.42', '917.85',\n",
       "       '913.98', '922.47', '919.57', '914.38', '918.32', '923.97',\n",
       "       '913.87', '918.64', '912.23', '921.12', '929.25', '933.53',\n",
       "       '932.48', '942.00', '934.52', '932.63', '935.16', '943.52',\n",
       "       '942.26', '936.16', '935.30', '936.71', '938.67', '950.38',\n",
       "       '951.10', '969.17', '968.75', '964.80'], dtype=object)"
      ]
     },
     "execution_count": 62,
     "metadata": {},
     "output_type": "execute_result"
    }
   ],
   "source": [
    "df6['Ontario'].unique()"
   ]
  },
  {
   "cell_type": "code",
   "execution_count": 63,
   "id": "010bc4a0-2f2c-47db-a85c-52272c37680b",
   "metadata": {
    "collapsed": true,
    "jupyter": {
     "outputs_hidden": true
    },
    "tags": []
   },
   "outputs": [
    {
     "data": {
      "text/plain": [
       "array(['535.65', '532.02', '534.71', '522.50', '522.31', '529.47',\n",
       "       '509.55', '534.47', '531.89', '535.24', '535.62', '559.80',\n",
       "       '562.60', '551.04', '565.53', '558.95', '560.30', '562.65',\n",
       "       '540.74', '541.00', '549.76', '557.49', '565.05', '578.68',\n",
       "       '575.74', '575.82', '564.34', '565.33', '569.65', '571.59',\n",
       "       '550.70', '558.38', '575.64', '573.32', '580.70', '585.19',\n",
       "       '590.41', '576.66', '580.73', '586.30', '606.63', '589.09',\n",
       "       '570.53', '563.70', '577.92', '584.74', '593.43', '607.09',\n",
       "       '604.08', '609.09', '601.43', '603.32', '599.84', '596.32',\n",
       "       '594.02', '589.19', '602.71', '605.55', '611.13', '625.42',\n",
       "       '624.49', '615.44', '619.78', '621.81', '628.00', '627.40',\n",
       "       '608.19', '607.28', '625.31', '622.92', '630.17', '647.11',\n",
       "       '642.43', '645.75', '661.79', '648.19', '645.08', '644.68',\n",
       "       '625.36', '627.68', '637.27', '640.49', '657.05', '664.98',\n",
       "       '656.31', '662.03', '657.41', '664.16', '669.08', '647.95',\n",
       "       '654.23', '650.44', '649.94', '664.81', '664.67', '681.49',\n",
       "       '688.51', '699.09', '694.32', '696.95', '695.54', '689.47',\n",
       "       '686.50', '674.05', '687.65', '695.79', '687.27', '691.88',\n",
       "       '677.03', '715.00', '711.22', '724.46', '729.36', '707.19',\n",
       "       '683.01', '679.73', '692.13', '712.84', '718.23', '732.23',\n",
       "       '717.14', '733.39', '723.85', '728.64', '714.54', '694.13',\n",
       "       '695.93', '722.29', '718.82', '738.85', '734.86', '726.08',\n",
       "       '733.40', '756.80', '735.01', '756.25', '753.98', '724.34',\n",
       "       '720.63', '728.82', '726.81', '750.13', '753.02', '738.67',\n",
       "       '744.10', '761.85', '756.39', '769.83', '755.63', '738.70',\n",
       "       '736.48', '746.35', '751.10', '757.00', '777.15', '770.86',\n",
       "       '770.26', '774.89', '779.90', '773.62', '783.76', '757.95',\n",
       "       '759.39', '757.86', '774.24', '782.53', '803.66', '794.39',\n",
       "       '792.26', '800.10', '809.92'], dtype=object)"
      ]
     },
     "execution_count": 63,
     "metadata": {},
     "output_type": "execute_result"
    }
   ],
   "source": [
    "df6['PrinceEdwardIsland'].unique()"
   ]
  },
  {
   "cell_type": "code",
   "execution_count": 64,
   "id": "ca032741-edd1-43e0-a07e-70003d6cda0c",
   "metadata": {
    "collapsed": true,
    "jupyter": {
     "outputs_hidden": true
    },
    "tags": []
   },
   "outputs": [
    {
     "data": {
      "text/plain": [
       "array(['624.81', '623.93', '622.94', '619.12', '618.90', '623.50',\n",
       "       '619.98', '625.05', '622.17', '623.80', '625.83', '631.09',\n",
       "       '638.98', '625.51', '638.81', '643.68', '637.10', '640.26',\n",
       "       '637.98', '635.00', '653.22', '638.40', '652.01', '647.76',\n",
       "       '651.18', '645.06', '650.32', '655.06', '656.80', '664.96',\n",
       "       '648.06', '658.48', '667.28', '663.95', '669.42', '661.51',\n",
       "       '663.00', '663.84', '671.42', '672.21', '676.27', '671.36',\n",
       "       '669.03', '693.36', '668.87', '673.86', '688.18', '681.06',\n",
       "       '690.69', '698.83', '681.96', '685.59', '700.16', '694.08',\n",
       "       '695.62', '712.43', '697.21', '692.79', '703.33', '688.28',\n",
       "       '694.78', '709.13', '699.77', '698.94', '715.48', '707.15',\n",
       "       '722.64', '704.99', '726.38', '717.51', '714.54', '724.67',\n",
       "       '741.70', '728.52', '752.91', '733.70', '737.81', '741.36',\n",
       "       '737.29', '734.54', '748.61', '746.40', '749.64', '735.04',\n",
       "       '749.81', '755.15', '759.39', '750.63', '768.93', '736.34',\n",
       "       '743.16', '762.61', '749.08', '749.77', '741.62', '752.92',\n",
       "       '751.39', '755.58', '750.67', '766.27', '767.99', '761.01',\n",
       "       '764.06', '760.59', '762.12', '767.77', '759.51', '770.93',\n",
       "       '770.79', '775.21', '779.82', '791.92', '784.63', '784.93',\n",
       "       '795.99', '789.55', '797.76', '804.14', '791.25', '800.47',\n",
       "       '802.88', '793.53', '796.45', '809.42', '804.26', '794.00',\n",
       "       '804.71', '811.75', '813.94', '818.70', '800.62', '809.70',\n",
       "       '818.84', '812.53', '831.37', '810.39', '820.59', '836.06',\n",
       "       '829.48', '830.44', '837.72', '832.68', '823.66', '826.54',\n",
       "       '810.72', '824.85', '841.69', '838.91', '833.95', '832.60',\n",
       "       '832.54', '851.45', '827.17', '844.09', '834.47', '838.35',\n",
       "       '836.34', '842.97', '856.27', '857.08', '874.71', '843.54',\n",
       "       '842.92', '858.82', '844.51', '862.12', '846.73', '857.53',\n",
       "       '861.10', '881.27'], dtype=object)"
      ]
     },
     "execution_count": 64,
     "metadata": {},
     "output_type": "execute_result"
    }
   ],
   "source": [
    "df6['Quebec'].unique()"
   ]
  },
  {
   "cell_type": "code",
   "execution_count": 65,
   "id": "c7b8e7e9-3b12-4f94-b9fe-45748f7537cc",
   "metadata": {
    "collapsed": true,
    "jupyter": {
     "outputs_hidden": true
    },
    "tags": []
   },
   "outputs": [
    {
     "data": {
      "text/plain": [
       "array(['596.53', '595.09', '589.09', '589.37', '587.41', '597.65',\n",
       "       '590.31', '598.63', '600.95', '603.69', '590.90', '605.77',\n",
       "       '604.17', '599.27', '605.13', '611.67', '598.18', '603.64',\n",
       "       '610.15', '601.88', '614.12', '610.46', '619.96', '628.34',\n",
       "       '622.08', '632.02', '623.45', '631.06', '621.18', '639.94',\n",
       "       '624.79', '636.91', '647.21', '635.79', '642.95', '645.72',\n",
       "       '641.73', '643.18', '646.91', '635.02', '655.08', '648.67',\n",
       "       '652.82', '656.69', '651.57', '662.06', '669.35', '666.76',\n",
       "       '681.22', '680.44', '660.71', '669.64', '679.13', '673.19',\n",
       "       '675.98', '685.14', '685.41', '693.74', '691.75', '688.49',\n",
       "       '703.69', '697.29', '694.58', '705.73', '702.60', '707.28',\n",
       "       '707.14', '701.03', '710.12', '717.13', '705.60', '726.55',\n",
       "       '732.72', '732.27', '738.86', '733.57', '734.84', '754.63',\n",
       "       '746.20', '739.08', '761.11', '757.42', '756.88', '769.23',\n",
       "       '758.43', '776.17', '774.82', '781.84', '769.62', '784.30',\n",
       "       '773.56', '791.19', '796.66', '790.85', '797.31', '790.61',\n",
       "       '797.72', '797.78', '796.16', '783.11', '790.75', '802.48',\n",
       "       '792.20', '796.63', '811.70', '812.38', '814.68', '825.17',\n",
       "       '832.46', '827.17', '835.17', '835.04', '831.17', '844.28',\n",
       "       '834.27', '847.53', '846.10', '862.21', '859.20', '860.52',\n",
       "       '881.43', '859.99', '862.46', '873.00', '849.61', '851.75',\n",
       "       '865.03', '883.31', '897.27', '891.84', '894.83', '891.22',\n",
       "       '909.00', '906.18', '911.63', '902.61', '896.36', '914.58',\n",
       "       '926.99', '932.18', '927.79', '931.35', '923.00', '933.32',\n",
       "       '923.96', '952.18', '953.97', '936.01', '934.64', '948.34',\n",
       "       '946.31', '942.20', '941.82', '943.92', '958.33', '964.53',\n",
       "       '941.24', '970.05', '967.05', '975.60', '958.68', '980.26',\n",
       "       '978.14', '984.13', '979.19', '984.95', '992.31', '991.30',\n",
       "       '982.60', '991.21', '988.79', '977.35'], dtype=object)"
      ]
     },
     "execution_count": 65,
     "metadata": {},
     "output_type": "execute_result"
    }
   ],
   "source": [
    "df6['Saskatchewan'].unique()"
   ]
  },
  {
   "cell_type": "code",
   "execution_count": 15,
   "id": "e0cbbc8d-03c5-47a5-ade5-3d6a6ba090f4",
   "metadata": {},
   "outputs": [],
   "source": [
    "#Dropping all redundant/useless fields\n",
    "df6.drop(['position', 'created_at', 'created_meta', 'updated_at', 'updated_meta', 'meta', 'NAICS'], axis=1, inplace=True)"
   ]
  },
  {
   "cell_type": "markdown",
   "id": "9ade3942-ed13-4288-8ebd-7f0f3a83db16",
   "metadata": {
    "jp-MarkdownHeadingCollapsed": true,
    "tags": []
   },
   "source": [
    "### Cleaning - Missing Values"
   ]
  },
  {
   "cell_type": "markdown",
   "id": "7ecd7a5e-b61a-45cd-9f1a-237631e14eb2",
   "metadata": {
    "tags": []
   },
   "source": [
    "Inspect null values and see if they should be assigned another value or if rows/columns should be dropped"
   ]
  },
  {
   "cell_type": "code",
   "execution_count": 67,
   "id": "5483afed-93ef-4b0c-87da-ba1fce23a5e1",
   "metadata": {
    "collapsed": true,
    "jupyter": {
     "outputs_hidden": true
    },
    "tags": []
   },
   "outputs": [
    {
     "name": "stdout",
     "output_type": "stream",
     "text": [
      "<class 'pandas.core.frame.DataFrame'>\n",
      "RangeIndex: 172 entries, 0 to 171\n",
      "Data columns (total 14 columns):\n",
      " #   Column                   Non-Null Count  Dtype \n",
      "---  ------                   --------------  ----- \n",
      " 0   sid                      172 non-null    int64 \n",
      " 1   id                       172 non-null    object\n",
      " 2   When                     172 non-null    object\n",
      " 3   Alberta                  172 non-null    object\n",
      " 4   BritishColumbia          172 non-null    object\n",
      " 5   Canada                   172 non-null    object\n",
      " 6   Manitoba                 172 non-null    object\n",
      " 7   NewBrunswick             172 non-null    object\n",
      " 8   NewfoundlandAndLabrador  172 non-null    object\n",
      " 9   NovaScotia               172 non-null    object\n",
      " 10  Ontario                  172 non-null    object\n",
      " 11  PrinceEdwardIsland       172 non-null    object\n",
      " 12  Quebec                   172 non-null    object\n",
      " 13  Saskatchewan             172 non-null    object\n",
      "dtypes: int64(1), object(13)\n",
      "memory usage: 18.9+ KB\n"
     ]
    }
   ],
   "source": [
    "df6.info()"
   ]
  },
  {
   "cell_type": "markdown",
   "id": "002ae0d9-3f9a-4820-b98d-62458b1aa527",
   "metadata": {},
   "source": [
    "No nulls in the columns we keep"
   ]
  },
  {
   "cell_type": "markdown",
   "id": "d388c8b7-1945-4f5d-88e5-db5554df8ed8",
   "metadata": {
    "jp-MarkdownHeadingCollapsed": true,
    "tags": []
   },
   "source": [
    "### Cleaning - Duplicate Values"
   ]
  },
  {
   "cell_type": "code",
   "execution_count": 75,
   "id": "87237635-0281-41d9-960f-f0cd963d9edb",
   "metadata": {},
   "outputs": [
    {
     "data": {
      "text/html": [
       "<div>\n",
       "<style scoped>\n",
       "    .dataframe tbody tr th:only-of-type {\n",
       "        vertical-align: middle;\n",
       "    }\n",
       "\n",
       "    .dataframe tbody tr th {\n",
       "        vertical-align: top;\n",
       "    }\n",
       "\n",
       "    .dataframe thead th {\n",
       "        text-align: right;\n",
       "    }\n",
       "</style>\n",
       "<table border=\"1\" class=\"dataframe\">\n",
       "  <thead>\n",
       "    <tr style=\"text-align: right;\">\n",
       "      <th></th>\n",
       "      <th>Alberta</th>\n",
       "      <th>BritishColumbia</th>\n",
       "      <th>Canada</th>\n",
       "      <th>Manitoba</th>\n",
       "      <th>NewBrunswick</th>\n",
       "      <th>NewfoundlandAndLabrador</th>\n",
       "      <th>NovaScotia</th>\n",
       "      <th>Ontario</th>\n",
       "      <th>PrinceEdwardIsland</th>\n",
       "      <th>Quebec</th>\n",
       "      <th>Saskatchewan</th>\n",
       "    </tr>\n",
       "  </thead>\n",
       "  <tbody>\n",
       "  </tbody>\n",
       "</table>\n",
       "</div>"
      ],
      "text/plain": [
       "Empty DataFrame\n",
       "Columns: [Alberta, BritishColumbia, Canada, Manitoba, NewBrunswick, NewfoundlandAndLabrador, NovaScotia, Ontario, PrinceEdwardIsland, Quebec, Saskatchewan]\n",
       "Index: []"
      ]
     },
     "execution_count": 75,
     "metadata": {},
     "output_type": "execute_result"
    }
   ],
   "source": [
    "df6[df6.duplicated()]"
   ]
  },
  {
   "cell_type": "markdown",
   "id": "847a11d3-5c00-4a82-95c2-095703eebeed",
   "metadata": {},
   "source": [
    "### Format for JOIN"
   ]
  },
  {
   "cell_type": "code",
   "execution_count": 16,
   "id": "2f0e445f-8834-4bfe-8d3a-e0156c3af09c",
   "metadata": {},
   "outputs": [
    {
     "data": {
      "text/html": [
       "<div>\n",
       "<style scoped>\n",
       "    .dataframe tbody tr th:only-of-type {\n",
       "        vertical-align: middle;\n",
       "    }\n",
       "\n",
       "    .dataframe tbody tr th {\n",
       "        vertical-align: top;\n",
       "    }\n",
       "\n",
       "    .dataframe thead th {\n",
       "        text-align: right;\n",
       "    }\n",
       "</style>\n",
       "<table border=\"1\" class=\"dataframe\">\n",
       "  <thead>\n",
       "    <tr style=\"text-align: right;\">\n",
       "      <th></th>\n",
       "      <th>sid</th>\n",
       "      <th>id</th>\n",
       "      <th>When</th>\n",
       "      <th>Alberta</th>\n",
       "      <th>BritishColumbia</th>\n",
       "      <th>Canada</th>\n",
       "      <th>Manitoba</th>\n",
       "      <th>NewBrunswick</th>\n",
       "      <th>NewfoundlandAndLabrador</th>\n",
       "      <th>NovaScotia</th>\n",
       "      <th>Ontario</th>\n",
       "      <th>PrinceEdwardIsland</th>\n",
       "      <th>Quebec</th>\n",
       "      <th>Saskatchewan</th>\n",
       "    </tr>\n",
       "  </thead>\n",
       "  <tbody>\n",
       "    <tr>\n",
       "      <th>0</th>\n",
       "      <td>5554</td>\n",
       "      <td>8D0D0120-53D5-4A3D-B68F-D5BAFA1B9F24</td>\n",
       "      <td>2001-01-01T00:00:00</td>\n",
       "      <td>670.54</td>\n",
       "      <td>660.48</td>\n",
       "      <td>658.02</td>\n",
       "      <td>578.95</td>\n",
       "      <td>584.75</td>\n",
       "      <td>594.00</td>\n",
       "      <td>571.28</td>\n",
       "      <td>698.57</td>\n",
       "      <td>535.65</td>\n",
       "      <td>624.81</td>\n",
       "      <td>596.53</td>\n",
       "    </tr>\n",
       "    <tr>\n",
       "      <th>1</th>\n",
       "      <td>5555</td>\n",
       "      <td>B8156EED-2420-4B71-A56C-57DED1FA7CEC</td>\n",
       "      <td>2001-02-01T00:00:00</td>\n",
       "      <td>670.52</td>\n",
       "      <td>659.33</td>\n",
       "      <td>655.79</td>\n",
       "      <td>580.63</td>\n",
       "      <td>585.11</td>\n",
       "      <td>591.92</td>\n",
       "      <td>570.06</td>\n",
       "      <td>693.69</td>\n",
       "      <td>532.02</td>\n",
       "      <td>623.93</td>\n",
       "      <td>595.09</td>\n",
       "    </tr>\n",
       "    <tr>\n",
       "      <th>2</th>\n",
       "      <td>5556</td>\n",
       "      <td>A8D7795E-40FA-4923-AB52-CA8536DAAD7A</td>\n",
       "      <td>2001-03-01T00:00:00</td>\n",
       "      <td>668.49</td>\n",
       "      <td>654.07</td>\n",
       "      <td>655.88</td>\n",
       "      <td>578.67</td>\n",
       "      <td>584.13</td>\n",
       "      <td>593.47</td>\n",
       "      <td>570.70</td>\n",
       "      <td>697.08</td>\n",
       "      <td>534.71</td>\n",
       "      <td>622.94</td>\n",
       "      <td>589.09</td>\n",
       "    </tr>\n",
       "    <tr>\n",
       "      <th>3</th>\n",
       "      <td>5557</td>\n",
       "      <td>8373DAD3-2886-4DAD-AFE8-84DB8C0F414E</td>\n",
       "      <td>2001-04-01T00:00:00</td>\n",
       "      <td>671.71</td>\n",
       "      <td>657.15</td>\n",
       "      <td>654.09</td>\n",
       "      <td>576.36</td>\n",
       "      <td>580.92</td>\n",
       "      <td>591.96</td>\n",
       "      <td>568.70</td>\n",
       "      <td>693.73</td>\n",
       "      <td>522.50</td>\n",
       "      <td>619.12</td>\n",
       "      <td>589.37</td>\n",
       "    </tr>\n",
       "    <tr>\n",
       "      <th>4</th>\n",
       "      <td>5558</td>\n",
       "      <td>05DB3E97-35EC-4F75-891B-3F6C696CDEE0</td>\n",
       "      <td>2001-05-01T00:00:00</td>\n",
       "      <td>664.45</td>\n",
       "      <td>653.23</td>\n",
       "      <td>650.02</td>\n",
       "      <td>571.84</td>\n",
       "      <td>578.44</td>\n",
       "      <td>588.19</td>\n",
       "      <td>567.96</td>\n",
       "      <td>688.27</td>\n",
       "      <td>522.31</td>\n",
       "      <td>618.90</td>\n",
       "      <td>587.41</td>\n",
       "    </tr>\n",
       "  </tbody>\n",
       "</table>\n",
       "</div>"
      ],
      "text/plain": [
       "    sid                                    id                 When Alberta  \\\n",
       "0  5554  8D0D0120-53D5-4A3D-B68F-D5BAFA1B9F24  2001-01-01T00:00:00  670.54   \n",
       "1  5555  B8156EED-2420-4B71-A56C-57DED1FA7CEC  2001-02-01T00:00:00  670.52   \n",
       "2  5556  A8D7795E-40FA-4923-AB52-CA8536DAAD7A  2001-03-01T00:00:00  668.49   \n",
       "3  5557  8373DAD3-2886-4DAD-AFE8-84DB8C0F414E  2001-04-01T00:00:00  671.71   \n",
       "4  5558  05DB3E97-35EC-4F75-891B-3F6C696CDEE0  2001-05-01T00:00:00  664.45   \n",
       "\n",
       "  BritishColumbia  Canada Manitoba NewBrunswick NewfoundlandAndLabrador  \\\n",
       "0          660.48  658.02   578.95       584.75                  594.00   \n",
       "1          659.33  655.79   580.63       585.11                  591.92   \n",
       "2          654.07  655.88   578.67       584.13                  593.47   \n",
       "3          657.15  654.09   576.36       580.92                  591.96   \n",
       "4          653.23  650.02   571.84       578.44                  588.19   \n",
       "\n",
       "  NovaScotia Ontario PrinceEdwardIsland  Quebec Saskatchewan  \n",
       "0     571.28  698.57             535.65  624.81       596.53  \n",
       "1     570.06  693.69             532.02  623.93       595.09  \n",
       "2     570.70  697.08             534.71  622.94       589.09  \n",
       "3     568.70  693.73             522.50  619.12       589.37  \n",
       "4     567.96  688.27             522.31  618.90       587.41  "
      ]
     },
     "execution_count": 16,
     "metadata": {},
     "output_type": "execute_result"
    }
   ],
   "source": [
    "df6.head()"
   ]
  },
  {
   "cell_type": "markdown",
   "id": "87791cd4-8eea-44c2-9f97-1012d7e88db1",
   "metadata": {},
   "source": [
    "We'll reformat this by adding all values under a weekly earning column and adding the column name as a region column"
   ]
  },
  {
   "cell_type": "code",
   "execution_count": 17,
   "id": "8bee1f8f-ed01-4946-a1a4-b1bbd0fcccf7",
   "metadata": {},
   "outputs": [
    {
     "name": "stdout",
     "output_type": "stream",
     "text": [
      "<class 'pandas.core.frame.DataFrame'>\n",
      "Int64Index: 1892 entries, 0 to 171\n",
      "Data columns (total 5 columns):\n",
      " #   Column          Non-Null Count  Dtype \n",
      "---  ------          --------------  ----- \n",
      " 0   WeeklyEarnings  1892 non-null   object\n",
      " 1   joinProvince    1892 non-null   object\n",
      " 2   sid             1892 non-null   int64 \n",
      " 3   id              1892 non-null   object\n",
      " 4   When            1892 non-null   object\n",
      "dtypes: int64(1), object(4)\n",
      "memory usage: 88.7+ KB\n"
     ]
    }
   ],
   "source": [
    "#Create a temporary DF\n",
    "tempDF=pd.DataFrame()\n",
    "new_df6=pd.DataFrame()\n",
    "\n",
    "def format_df6 (Column, provinceName):\n",
    "    tempDF['WeeklyEarnings']=df6[Column]\n",
    "    tempDF['joinProvince']=provinceName\n",
    "    \n",
    "    #adding sid, id, and When columns\n",
    "    tempDF['sid']=df6['sid']\n",
    "    tempDF['id']=df6['id']\n",
    "    tempDF['When']=df6['When']\n",
    "\n",
    "    return tempDF\n",
    "\n",
    "\n",
    "#Adding Alberta values to the tempDF\n",
    "new_df6=pd.concat([new_df6,format_df6('Alberta','AB')])\n",
    "\n",
    "#Adding BritishColumbia values to the tempDF\n",
    "new_df6=pd.concat([new_df6,format_df6('BritishColumbia','BC')])\n",
    "\n",
    "#Adding Canada values to the tempDF\n",
    "new_df6=pd.concat([new_df6,format_df6('Canada','Canada')])\n",
    "\n",
    "#Adding Manitoba values to the tempDF\n",
    "new_df6=pd.concat([new_df6,format_df6('Manitoba','MB')])\n",
    "\n",
    "#Adding NewBrunswick values to the tempDF\n",
    "new_df6=pd.concat([new_df6,format_df6('NewBrunswick','NB')])\n",
    "\n",
    "#Adding NewfoundlandAndLabrador values to the tempDF\n",
    "new_df6=pd.concat([new_df6,format_df6('NewfoundlandAndLabrador','NL')])\n",
    "\n",
    "#Adding NovaScotia values to the tempDF\n",
    "new_df6=pd.concat([new_df6,format_df6('NovaScotia','NS')])\n",
    "\n",
    "#Adding Ontario values to the tempDF\n",
    "new_df6=pd.concat([new_df6,format_df6('Ontario','ON')])\n",
    "\n",
    "#Adding PrinceEdwardIsland values to the tempDF\n",
    "new_df6=pd.concat([new_df6,format_df6('PrinceEdwardIsland','PE')])\n",
    "\n",
    "#Adding Quebec values to the tempDF\n",
    "new_df6=pd.concat([new_df6,format_df6('Quebec','QC')])\n",
    "\n",
    "#Adding Saskatchewan values to the tempDF\n",
    "new_df6=pd.concat([new_df6,format_df6('Saskatchewan','SK')])\n",
    "\n",
    "new_df6.info()"
   ]
  },
  {
   "cell_type": "markdown",
   "id": "69676a33-5211-4fa5-b417-31beac74b1b5",
   "metadata": {},
   "source": [
    "Now we need to extract the year and month from the df"
   ]
  },
  {
   "cell_type": "code",
   "execution_count": 44,
   "id": "23207d40-c2b8-4518-afad-ba51d0e9dba2",
   "metadata": {
    "collapsed": true,
    "jupyter": {
     "outputs_hidden": true
    },
    "tags": []
   },
   "outputs": [
    {
     "data": {
      "text/html": [
       "<div>\n",
       "<style scoped>\n",
       "    .dataframe tbody tr th:only-of-type {\n",
       "        vertical-align: middle;\n",
       "    }\n",
       "\n",
       "    .dataframe tbody tr th {\n",
       "        vertical-align: top;\n",
       "    }\n",
       "\n",
       "    .dataframe thead th {\n",
       "        text-align: right;\n",
       "    }\n",
       "</style>\n",
       "<table border=\"1\" class=\"dataframe\">\n",
       "  <thead>\n",
       "    <tr style=\"text-align: right;\">\n",
       "      <th></th>\n",
       "      <th>WeeklyEarnings</th>\n",
       "      <th>joinProvince</th>\n",
       "      <th>sid</th>\n",
       "      <th>id</th>\n",
       "      <th>When</th>\n",
       "      <th>Year</th>\n",
       "      <th>Month</th>\n",
       "    </tr>\n",
       "  </thead>\n",
       "  <tbody>\n",
       "    <tr>\n",
       "      <th>0</th>\n",
       "      <td>670.54</td>\n",
       "      <td>AB</td>\n",
       "      <td>5554</td>\n",
       "      <td>8D0D0120-53D5-4A3D-B68F-D5BAFA1B9F24</td>\n",
       "      <td>2001-01-01T00:00:00</td>\n",
       "      <td>2001</td>\n",
       "      <td>01</td>\n",
       "    </tr>\n",
       "    <tr>\n",
       "      <th>1</th>\n",
       "      <td>670.52</td>\n",
       "      <td>AB</td>\n",
       "      <td>5555</td>\n",
       "      <td>B8156EED-2420-4B71-A56C-57DED1FA7CEC</td>\n",
       "      <td>2001-02-01T00:00:00</td>\n",
       "      <td>2001</td>\n",
       "      <td>02</td>\n",
       "    </tr>\n",
       "    <tr>\n",
       "      <th>2</th>\n",
       "      <td>668.49</td>\n",
       "      <td>AB</td>\n",
       "      <td>5556</td>\n",
       "      <td>A8D7795E-40FA-4923-AB52-CA8536DAAD7A</td>\n",
       "      <td>2001-03-01T00:00:00</td>\n",
       "      <td>2001</td>\n",
       "      <td>03</td>\n",
       "    </tr>\n",
       "    <tr>\n",
       "      <th>3</th>\n",
       "      <td>671.71</td>\n",
       "      <td>AB</td>\n",
       "      <td>5557</td>\n",
       "      <td>8373DAD3-2886-4DAD-AFE8-84DB8C0F414E</td>\n",
       "      <td>2001-04-01T00:00:00</td>\n",
       "      <td>2001</td>\n",
       "      <td>04</td>\n",
       "    </tr>\n",
       "    <tr>\n",
       "      <th>4</th>\n",
       "      <td>664.45</td>\n",
       "      <td>AB</td>\n",
       "      <td>5558</td>\n",
       "      <td>05DB3E97-35EC-4F75-891B-3F6C696CDEE0</td>\n",
       "      <td>2001-05-01T00:00:00</td>\n",
       "      <td>2001</td>\n",
       "      <td>05</td>\n",
       "    </tr>\n",
       "    <tr>\n",
       "      <th>5</th>\n",
       "      <td>675.72</td>\n",
       "      <td>AB</td>\n",
       "      <td>5559</td>\n",
       "      <td>9F6DC880-A4F1-4149-A43F-23E9E9BF2270</td>\n",
       "      <td>2001-06-01T00:00:00</td>\n",
       "      <td>2001</td>\n",
       "      <td>06</td>\n",
       "    </tr>\n",
       "    <tr>\n",
       "      <th>6</th>\n",
       "      <td>672.96</td>\n",
       "      <td>AB</td>\n",
       "      <td>5560</td>\n",
       "      <td>0F6988BE-1D70-4546-A854-15C677B99316</td>\n",
       "      <td>2001-07-01T00:00:00</td>\n",
       "      <td>2001</td>\n",
       "      <td>07</td>\n",
       "    </tr>\n",
       "    <tr>\n",
       "      <th>7</th>\n",
       "      <td>673.60</td>\n",
       "      <td>AB</td>\n",
       "      <td>5561</td>\n",
       "      <td>6BE8C5BD-E455-4573-A299-F41CC57DB7DB</td>\n",
       "      <td>2001-08-01T00:00:00</td>\n",
       "      <td>2001</td>\n",
       "      <td>08</td>\n",
       "    </tr>\n",
       "    <tr>\n",
       "      <th>8</th>\n",
       "      <td>692.18</td>\n",
       "      <td>AB</td>\n",
       "      <td>5562</td>\n",
       "      <td>9C61FF04-EA5F-4548-9E21-BA4F29B1E325</td>\n",
       "      <td>2001-09-01T00:00:00</td>\n",
       "      <td>2001</td>\n",
       "      <td>09</td>\n",
       "    </tr>\n",
       "    <tr>\n",
       "      <th>9</th>\n",
       "      <td>693.13</td>\n",
       "      <td>AB</td>\n",
       "      <td>5563</td>\n",
       "      <td>2538F70D-9A3D-45F0-A6BE-4A3744AF6372</td>\n",
       "      <td>2001-10-01T00:00:00</td>\n",
       "      <td>2001</td>\n",
       "      <td>10</td>\n",
       "    </tr>\n",
       "    <tr>\n",
       "      <th>10</th>\n",
       "      <td>675.80</td>\n",
       "      <td>AB</td>\n",
       "      <td>5564</td>\n",
       "      <td>E29C2CFE-AD1B-4F77-A0B9-86970CB6FA88</td>\n",
       "      <td>2001-11-01T00:00:00</td>\n",
       "      <td>2001</td>\n",
       "      <td>11</td>\n",
       "    </tr>\n",
       "    <tr>\n",
       "      <th>11</th>\n",
       "      <td>674.09</td>\n",
       "      <td>AB</td>\n",
       "      <td>5565</td>\n",
       "      <td>C056C58D-CAAE-409E-A994-D20291F4F053</td>\n",
       "      <td>2001-12-01T00:00:00</td>\n",
       "      <td>2001</td>\n",
       "      <td>12</td>\n",
       "    </tr>\n",
       "    <tr>\n",
       "      <th>12</th>\n",
       "      <td>683.11</td>\n",
       "      <td>AB</td>\n",
       "      <td>5566</td>\n",
       "      <td>5ADDCDBD-6B8D-483F-A6F3-B4D9E939BC9A</td>\n",
       "      <td>2002-01-01T00:00:00</td>\n",
       "      <td>2002</td>\n",
       "      <td>01</td>\n",
       "    </tr>\n",
       "    <tr>\n",
       "      <th>13</th>\n",
       "      <td>688.54</td>\n",
       "      <td>AB</td>\n",
       "      <td>5567</td>\n",
       "      <td>DB96E5DC-002A-4F7A-97F2-7066CCC3E645</td>\n",
       "      <td>2002-02-01T00:00:00</td>\n",
       "      <td>2002</td>\n",
       "      <td>02</td>\n",
       "    </tr>\n",
       "    <tr>\n",
       "      <th>14</th>\n",
       "      <td>692.57</td>\n",
       "      <td>AB</td>\n",
       "      <td>5568</td>\n",
       "      <td>B905BAA7-40B0-4BE3-9F8C-7F0F079053E1</td>\n",
       "      <td>2002-03-01T00:00:00</td>\n",
       "      <td>2002</td>\n",
       "      <td>03</td>\n",
       "    </tr>\n",
       "    <tr>\n",
       "      <th>15</th>\n",
       "      <td>695.96</td>\n",
       "      <td>AB</td>\n",
       "      <td>5569</td>\n",
       "      <td>C4EA174C-07F7-456C-8EBF-F1B35A88FED7</td>\n",
       "      <td>2002-04-01T00:00:00</td>\n",
       "      <td>2002</td>\n",
       "      <td>04</td>\n",
       "    </tr>\n",
       "    <tr>\n",
       "      <th>16</th>\n",
       "      <td>680.85</td>\n",
       "      <td>AB</td>\n",
       "      <td>5570</td>\n",
       "      <td>8BEC0293-0E3F-47A0-A977-EDECC9753D76</td>\n",
       "      <td>2002-05-01T00:00:00</td>\n",
       "      <td>2002</td>\n",
       "      <td>05</td>\n",
       "    </tr>\n",
       "    <tr>\n",
       "      <th>17</th>\n",
       "      <td>693.46</td>\n",
       "      <td>AB</td>\n",
       "      <td>5571</td>\n",
       "      <td>DAA5936E-C5E0-4D99-A5EF-C160D08C8B36</td>\n",
       "      <td>2002-06-01T00:00:00</td>\n",
       "      <td>2002</td>\n",
       "      <td>06</td>\n",
       "    </tr>\n",
       "    <tr>\n",
       "      <th>18</th>\n",
       "      <td>694.92</td>\n",
       "      <td>AB</td>\n",
       "      <td>5572</td>\n",
       "      <td>91B8E5AD-A97E-4DA4-A877-5726D1D9D4C8</td>\n",
       "      <td>2002-07-01T00:00:00</td>\n",
       "      <td>2002</td>\n",
       "      <td>07</td>\n",
       "    </tr>\n",
       "    <tr>\n",
       "      <th>19</th>\n",
       "      <td>684.47</td>\n",
       "      <td>AB</td>\n",
       "      <td>5573</td>\n",
       "      <td>45DF1C45-3292-40B5-B92F-61320156A774</td>\n",
       "      <td>2002-08-01T00:00:00</td>\n",
       "      <td>2002</td>\n",
       "      <td>08</td>\n",
       "    </tr>\n",
       "    <tr>\n",
       "      <th>20</th>\n",
       "      <td>696.89</td>\n",
       "      <td>AB</td>\n",
       "      <td>5574</td>\n",
       "      <td>BB5173E0-B17E-4222-BC6B-D96E73775778</td>\n",
       "      <td>2002-09-01T00:00:00</td>\n",
       "      <td>2002</td>\n",
       "      <td>09</td>\n",
       "    </tr>\n",
       "    <tr>\n",
       "      <th>21</th>\n",
       "      <td>694.75</td>\n",
       "      <td>AB</td>\n",
       "      <td>5575</td>\n",
       "      <td>7493CEBA-0C87-4701-A24B-09B5126317E0</td>\n",
       "      <td>2002-10-01T00:00:00</td>\n",
       "      <td>2002</td>\n",
       "      <td>10</td>\n",
       "    </tr>\n",
       "    <tr>\n",
       "      <th>22</th>\n",
       "      <td>702.92</td>\n",
       "      <td>AB</td>\n",
       "      <td>5576</td>\n",
       "      <td>A56D66E0-061C-4310-89F8-65B4C5AA59E5</td>\n",
       "      <td>2002-11-01T00:00:00</td>\n",
       "      <td>2002</td>\n",
       "      <td>11</td>\n",
       "    </tr>\n",
       "    <tr>\n",
       "      <th>23</th>\n",
       "      <td>704.60</td>\n",
       "      <td>AB</td>\n",
       "      <td>5577</td>\n",
       "      <td>1F70B3FE-BD5F-4367-8FF2-AD08D4FF0EBD</td>\n",
       "      <td>2002-12-01T00:00:00</td>\n",
       "      <td>2002</td>\n",
       "      <td>12</td>\n",
       "    </tr>\n",
       "    <tr>\n",
       "      <th>24</th>\n",
       "      <td>703.22</td>\n",
       "      <td>AB</td>\n",
       "      <td>5578</td>\n",
       "      <td>504ADB8F-F66F-4CE5-9087-58822450AA6F</td>\n",
       "      <td>2003-01-01T00:00:00</td>\n",
       "      <td>2003</td>\n",
       "      <td>01</td>\n",
       "    </tr>\n",
       "    <tr>\n",
       "      <th>25</th>\n",
       "      <td>721.01</td>\n",
       "      <td>AB</td>\n",
       "      <td>5579</td>\n",
       "      <td>1DC723E6-5DD8-4320-9214-BEA738BBDABE</td>\n",
       "      <td>2003-02-01T00:00:00</td>\n",
       "      <td>2003</td>\n",
       "      <td>02</td>\n",
       "    </tr>\n",
       "    <tr>\n",
       "      <th>26</th>\n",
       "      <td>708.69</td>\n",
       "      <td>AB</td>\n",
       "      <td>5580</td>\n",
       "      <td>552A4EDD-F3F2-405F-989F-DFE7F2A8449F</td>\n",
       "      <td>2003-03-01T00:00:00</td>\n",
       "      <td>2003</td>\n",
       "      <td>03</td>\n",
       "    </tr>\n",
       "    <tr>\n",
       "      <th>27</th>\n",
       "      <td>716.16</td>\n",
       "      <td>AB</td>\n",
       "      <td>5581</td>\n",
       "      <td>D13C3EEB-7B37-4221-9DCB-068C5CB987B2</td>\n",
       "      <td>2003-04-01T00:00:00</td>\n",
       "      <td>2003</td>\n",
       "      <td>04</td>\n",
       "    </tr>\n",
       "    <tr>\n",
       "      <th>28</th>\n",
       "      <td>697.56</td>\n",
       "      <td>AB</td>\n",
       "      <td>5582</td>\n",
       "      <td>D2EEFC2A-CA63-451C-981D-A2986EAF1CFD</td>\n",
       "      <td>2003-05-01T00:00:00</td>\n",
       "      <td>2003</td>\n",
       "      <td>05</td>\n",
       "    </tr>\n",
       "    <tr>\n",
       "      <th>29</th>\n",
       "      <td>717.20</td>\n",
       "      <td>AB</td>\n",
       "      <td>5583</td>\n",
       "      <td>E2B19D27-C5F3-4AD1-9646-ABAF887FA6DC</td>\n",
       "      <td>2003-06-01T00:00:00</td>\n",
       "      <td>2003</td>\n",
       "      <td>06</td>\n",
       "    </tr>\n",
       "    <tr>\n",
       "      <th>30</th>\n",
       "      <td>711.94</td>\n",
       "      <td>AB</td>\n",
       "      <td>5584</td>\n",
       "      <td>26E62F97-42B8-43B7-8645-2A7A9EE68D4C</td>\n",
       "      <td>2003-07-01T00:00:00</td>\n",
       "      <td>2003</td>\n",
       "      <td>07</td>\n",
       "    </tr>\n",
       "    <tr>\n",
       "      <th>31</th>\n",
       "      <td>721.01</td>\n",
       "      <td>AB</td>\n",
       "      <td>5585</td>\n",
       "      <td>F8957732-B5CB-45D1-8CE4-D4F315CA30F0</td>\n",
       "      <td>2003-08-01T00:00:00</td>\n",
       "      <td>2003</td>\n",
       "      <td>08</td>\n",
       "    </tr>\n",
       "    <tr>\n",
       "      <th>32</th>\n",
       "      <td>734.12</td>\n",
       "      <td>AB</td>\n",
       "      <td>5586</td>\n",
       "      <td>69A264CA-263A-4F4F-B81D-7CD2E103FAD3</td>\n",
       "      <td>2003-09-01T00:00:00</td>\n",
       "      <td>2003</td>\n",
       "      <td>09</td>\n",
       "    </tr>\n",
       "    <tr>\n",
       "      <th>33</th>\n",
       "      <td>716.88</td>\n",
       "      <td>AB</td>\n",
       "      <td>5587</td>\n",
       "      <td>67971CB3-E1CC-44F6-9A3A-D632D7407685</td>\n",
       "      <td>2003-10-01T00:00:00</td>\n",
       "      <td>2003</td>\n",
       "      <td>10</td>\n",
       "    </tr>\n",
       "    <tr>\n",
       "      <th>34</th>\n",
       "      <td>732.11</td>\n",
       "      <td>AB</td>\n",
       "      <td>5588</td>\n",
       "      <td>CAA6FD86-1647-4932-AFAD-D2E064C01D0A</td>\n",
       "      <td>2003-11-01T00:00:00</td>\n",
       "      <td>2003</td>\n",
       "      <td>11</td>\n",
       "    </tr>\n",
       "    <tr>\n",
       "      <th>35</th>\n",
       "      <td>722.90</td>\n",
       "      <td>AB</td>\n",
       "      <td>5589</td>\n",
       "      <td>5900E84C-32A3-4D3C-AF30-73B301DAFFB7</td>\n",
       "      <td>2003-12-01T00:00:00</td>\n",
       "      <td>2003</td>\n",
       "      <td>12</td>\n",
       "    </tr>\n",
       "    <tr>\n",
       "      <th>36</th>\n",
       "      <td>730.59</td>\n",
       "      <td>AB</td>\n",
       "      <td>5590</td>\n",
       "      <td>0ECC4723-579C-4A42-BBCF-00D176A74A37</td>\n",
       "      <td>2004-01-01T00:00:00</td>\n",
       "      <td>2004</td>\n",
       "      <td>01</td>\n",
       "    </tr>\n",
       "    <tr>\n",
       "      <th>37</th>\n",
       "      <td>740.74</td>\n",
       "      <td>AB</td>\n",
       "      <td>5591</td>\n",
       "      <td>119514FC-09E4-4E3C-B678-96F395075B11</td>\n",
       "      <td>2004-02-01T00:00:00</td>\n",
       "      <td>2004</td>\n",
       "      <td>02</td>\n",
       "    </tr>\n",
       "    <tr>\n",
       "      <th>38</th>\n",
       "      <td>746.86</td>\n",
       "      <td>AB</td>\n",
       "      <td>5592</td>\n",
       "      <td>31091D72-D642-4205-9D0A-7F7D97A6A3FE</td>\n",
       "      <td>2004-03-01T00:00:00</td>\n",
       "      <td>2004</td>\n",
       "      <td>03</td>\n",
       "    </tr>\n",
       "    <tr>\n",
       "      <th>39</th>\n",
       "      <td>726.46</td>\n",
       "      <td>AB</td>\n",
       "      <td>5593</td>\n",
       "      <td>746BB6AF-E5C1-4322-AD69-5EFA8333E6C0</td>\n",
       "      <td>2004-04-01T00:00:00</td>\n",
       "      <td>2004</td>\n",
       "      <td>04</td>\n",
       "    </tr>\n",
       "    <tr>\n",
       "      <th>40</th>\n",
       "      <td>735.63</td>\n",
       "      <td>AB</td>\n",
       "      <td>5594</td>\n",
       "      <td>DFDFDA74-2E50-4C02-9C95-4B9C6AE7F3DD</td>\n",
       "      <td>2004-05-01T00:00:00</td>\n",
       "      <td>2004</td>\n",
       "      <td>05</td>\n",
       "    </tr>\n",
       "    <tr>\n",
       "      <th>41</th>\n",
       "      <td>731.50</td>\n",
       "      <td>AB</td>\n",
       "      <td>5595</td>\n",
       "      <td>236583AE-5A67-4FF6-84B8-D6ADD44A1782</td>\n",
       "      <td>2004-06-01T00:00:00</td>\n",
       "      <td>2004</td>\n",
       "      <td>06</td>\n",
       "    </tr>\n",
       "    <tr>\n",
       "      <th>42</th>\n",
       "      <td>731.59</td>\n",
       "      <td>AB</td>\n",
       "      <td>5596</td>\n",
       "      <td>4FCFE844-57D7-412B-B2B8-27B35D601D62</td>\n",
       "      <td>2004-07-01T00:00:00</td>\n",
       "      <td>2004</td>\n",
       "      <td>07</td>\n",
       "    </tr>\n",
       "    <tr>\n",
       "      <th>43</th>\n",
       "      <td>746.79</td>\n",
       "      <td>AB</td>\n",
       "      <td>5597</td>\n",
       "      <td>899EF3DE-AF8A-4C83-922E-EB3C0C881C4C</td>\n",
       "      <td>2004-08-01T00:00:00</td>\n",
       "      <td>2004</td>\n",
       "      <td>08</td>\n",
       "    </tr>\n",
       "    <tr>\n",
       "      <th>44</th>\n",
       "      <td>743.73</td>\n",
       "      <td>AB</td>\n",
       "      <td>5598</td>\n",
       "      <td>05C176C8-9EB7-449A-B9F0-C4C2BA542FB3</td>\n",
       "      <td>2004-09-01T00:00:00</td>\n",
       "      <td>2004</td>\n",
       "      <td>09</td>\n",
       "    </tr>\n",
       "    <tr>\n",
       "      <th>45</th>\n",
       "      <td>746.81</td>\n",
       "      <td>AB</td>\n",
       "      <td>5599</td>\n",
       "      <td>DF676A46-A6E3-4C9E-8DCC-D41CBFEAECCA</td>\n",
       "      <td>2004-10-01T00:00:00</td>\n",
       "      <td>2004</td>\n",
       "      <td>10</td>\n",
       "    </tr>\n",
       "    <tr>\n",
       "      <th>46</th>\n",
       "      <td>761.41</td>\n",
       "      <td>AB</td>\n",
       "      <td>5600</td>\n",
       "      <td>AD24454F-8F8A-4633-B6AA-55A76051144A</td>\n",
       "      <td>2004-11-01T00:00:00</td>\n",
       "      <td>2004</td>\n",
       "      <td>11</td>\n",
       "    </tr>\n",
       "    <tr>\n",
       "      <th>47</th>\n",
       "      <td>747.23</td>\n",
       "      <td>AB</td>\n",
       "      <td>5601</td>\n",
       "      <td>91381916-9DFC-437A-A656-808B3BE8FB3E</td>\n",
       "      <td>2004-12-01T00:00:00</td>\n",
       "      <td>2004</td>\n",
       "      <td>12</td>\n",
       "    </tr>\n",
       "    <tr>\n",
       "      <th>48</th>\n",
       "      <td>764.65</td>\n",
       "      <td>AB</td>\n",
       "      <td>5602</td>\n",
       "      <td>E4D94798-2653-4481-A8F9-602F8663799D</td>\n",
       "      <td>2005-01-01T00:00:00</td>\n",
       "      <td>2005</td>\n",
       "      <td>01</td>\n",
       "    </tr>\n",
       "    <tr>\n",
       "      <th>49</th>\n",
       "      <td>785.75</td>\n",
       "      <td>AB</td>\n",
       "      <td>5603</td>\n",
       "      <td>E4BBDA62-1993-4A60-958E-0279D898C9CB</td>\n",
       "      <td>2005-02-01T00:00:00</td>\n",
       "      <td>2005</td>\n",
       "      <td>02</td>\n",
       "    </tr>\n",
       "  </tbody>\n",
       "</table>\n",
       "</div>"
      ],
      "text/plain": [
       "   WeeklyEarnings joinProvince   sid                                    id  \\\n",
       "0          670.54           AB  5554  8D0D0120-53D5-4A3D-B68F-D5BAFA1B9F24   \n",
       "1          670.52           AB  5555  B8156EED-2420-4B71-A56C-57DED1FA7CEC   \n",
       "2          668.49           AB  5556  A8D7795E-40FA-4923-AB52-CA8536DAAD7A   \n",
       "3          671.71           AB  5557  8373DAD3-2886-4DAD-AFE8-84DB8C0F414E   \n",
       "4          664.45           AB  5558  05DB3E97-35EC-4F75-891B-3F6C696CDEE0   \n",
       "5          675.72           AB  5559  9F6DC880-A4F1-4149-A43F-23E9E9BF2270   \n",
       "6          672.96           AB  5560  0F6988BE-1D70-4546-A854-15C677B99316   \n",
       "7          673.60           AB  5561  6BE8C5BD-E455-4573-A299-F41CC57DB7DB   \n",
       "8          692.18           AB  5562  9C61FF04-EA5F-4548-9E21-BA4F29B1E325   \n",
       "9          693.13           AB  5563  2538F70D-9A3D-45F0-A6BE-4A3744AF6372   \n",
       "10         675.80           AB  5564  E29C2CFE-AD1B-4F77-A0B9-86970CB6FA88   \n",
       "11         674.09           AB  5565  C056C58D-CAAE-409E-A994-D20291F4F053   \n",
       "12         683.11           AB  5566  5ADDCDBD-6B8D-483F-A6F3-B4D9E939BC9A   \n",
       "13         688.54           AB  5567  DB96E5DC-002A-4F7A-97F2-7066CCC3E645   \n",
       "14         692.57           AB  5568  B905BAA7-40B0-4BE3-9F8C-7F0F079053E1   \n",
       "15         695.96           AB  5569  C4EA174C-07F7-456C-8EBF-F1B35A88FED7   \n",
       "16         680.85           AB  5570  8BEC0293-0E3F-47A0-A977-EDECC9753D76   \n",
       "17         693.46           AB  5571  DAA5936E-C5E0-4D99-A5EF-C160D08C8B36   \n",
       "18         694.92           AB  5572  91B8E5AD-A97E-4DA4-A877-5726D1D9D4C8   \n",
       "19         684.47           AB  5573  45DF1C45-3292-40B5-B92F-61320156A774   \n",
       "20         696.89           AB  5574  BB5173E0-B17E-4222-BC6B-D96E73775778   \n",
       "21         694.75           AB  5575  7493CEBA-0C87-4701-A24B-09B5126317E0   \n",
       "22         702.92           AB  5576  A56D66E0-061C-4310-89F8-65B4C5AA59E5   \n",
       "23         704.60           AB  5577  1F70B3FE-BD5F-4367-8FF2-AD08D4FF0EBD   \n",
       "24         703.22           AB  5578  504ADB8F-F66F-4CE5-9087-58822450AA6F   \n",
       "25         721.01           AB  5579  1DC723E6-5DD8-4320-9214-BEA738BBDABE   \n",
       "26         708.69           AB  5580  552A4EDD-F3F2-405F-989F-DFE7F2A8449F   \n",
       "27         716.16           AB  5581  D13C3EEB-7B37-4221-9DCB-068C5CB987B2   \n",
       "28         697.56           AB  5582  D2EEFC2A-CA63-451C-981D-A2986EAF1CFD   \n",
       "29         717.20           AB  5583  E2B19D27-C5F3-4AD1-9646-ABAF887FA6DC   \n",
       "30         711.94           AB  5584  26E62F97-42B8-43B7-8645-2A7A9EE68D4C   \n",
       "31         721.01           AB  5585  F8957732-B5CB-45D1-8CE4-D4F315CA30F0   \n",
       "32         734.12           AB  5586  69A264CA-263A-4F4F-B81D-7CD2E103FAD3   \n",
       "33         716.88           AB  5587  67971CB3-E1CC-44F6-9A3A-D632D7407685   \n",
       "34         732.11           AB  5588  CAA6FD86-1647-4932-AFAD-D2E064C01D0A   \n",
       "35         722.90           AB  5589  5900E84C-32A3-4D3C-AF30-73B301DAFFB7   \n",
       "36         730.59           AB  5590  0ECC4723-579C-4A42-BBCF-00D176A74A37   \n",
       "37         740.74           AB  5591  119514FC-09E4-4E3C-B678-96F395075B11   \n",
       "38         746.86           AB  5592  31091D72-D642-4205-9D0A-7F7D97A6A3FE   \n",
       "39         726.46           AB  5593  746BB6AF-E5C1-4322-AD69-5EFA8333E6C0   \n",
       "40         735.63           AB  5594  DFDFDA74-2E50-4C02-9C95-4B9C6AE7F3DD   \n",
       "41         731.50           AB  5595  236583AE-5A67-4FF6-84B8-D6ADD44A1782   \n",
       "42         731.59           AB  5596  4FCFE844-57D7-412B-B2B8-27B35D601D62   \n",
       "43         746.79           AB  5597  899EF3DE-AF8A-4C83-922E-EB3C0C881C4C   \n",
       "44         743.73           AB  5598  05C176C8-9EB7-449A-B9F0-C4C2BA542FB3   \n",
       "45         746.81           AB  5599  DF676A46-A6E3-4C9E-8DCC-D41CBFEAECCA   \n",
       "46         761.41           AB  5600  AD24454F-8F8A-4633-B6AA-55A76051144A   \n",
       "47         747.23           AB  5601  91381916-9DFC-437A-A656-808B3BE8FB3E   \n",
       "48         764.65           AB  5602  E4D94798-2653-4481-A8F9-602F8663799D   \n",
       "49         785.75           AB  5603  E4BBDA62-1993-4A60-958E-0279D898C9CB   \n",
       "\n",
       "                   When  Year Month  \n",
       "0   2001-01-01T00:00:00  2001    01  \n",
       "1   2001-02-01T00:00:00  2001    02  \n",
       "2   2001-03-01T00:00:00  2001    03  \n",
       "3   2001-04-01T00:00:00  2001    04  \n",
       "4   2001-05-01T00:00:00  2001    05  \n",
       "5   2001-06-01T00:00:00  2001    06  \n",
       "6   2001-07-01T00:00:00  2001    07  \n",
       "7   2001-08-01T00:00:00  2001    08  \n",
       "8   2001-09-01T00:00:00  2001    09  \n",
       "9   2001-10-01T00:00:00  2001    10  \n",
       "10  2001-11-01T00:00:00  2001    11  \n",
       "11  2001-12-01T00:00:00  2001    12  \n",
       "12  2002-01-01T00:00:00  2002    01  \n",
       "13  2002-02-01T00:00:00  2002    02  \n",
       "14  2002-03-01T00:00:00  2002    03  \n",
       "15  2002-04-01T00:00:00  2002    04  \n",
       "16  2002-05-01T00:00:00  2002    05  \n",
       "17  2002-06-01T00:00:00  2002    06  \n",
       "18  2002-07-01T00:00:00  2002    07  \n",
       "19  2002-08-01T00:00:00  2002    08  \n",
       "20  2002-09-01T00:00:00  2002    09  \n",
       "21  2002-10-01T00:00:00  2002    10  \n",
       "22  2002-11-01T00:00:00  2002    11  \n",
       "23  2002-12-01T00:00:00  2002    12  \n",
       "24  2003-01-01T00:00:00  2003    01  \n",
       "25  2003-02-01T00:00:00  2003    02  \n",
       "26  2003-03-01T00:00:00  2003    03  \n",
       "27  2003-04-01T00:00:00  2003    04  \n",
       "28  2003-05-01T00:00:00  2003    05  \n",
       "29  2003-06-01T00:00:00  2003    06  \n",
       "30  2003-07-01T00:00:00  2003    07  \n",
       "31  2003-08-01T00:00:00  2003    08  \n",
       "32  2003-09-01T00:00:00  2003    09  \n",
       "33  2003-10-01T00:00:00  2003    10  \n",
       "34  2003-11-01T00:00:00  2003    11  \n",
       "35  2003-12-01T00:00:00  2003    12  \n",
       "36  2004-01-01T00:00:00  2004    01  \n",
       "37  2004-02-01T00:00:00  2004    02  \n",
       "38  2004-03-01T00:00:00  2004    03  \n",
       "39  2004-04-01T00:00:00  2004    04  \n",
       "40  2004-05-01T00:00:00  2004    05  \n",
       "41  2004-06-01T00:00:00  2004    06  \n",
       "42  2004-07-01T00:00:00  2004    07  \n",
       "43  2004-08-01T00:00:00  2004    08  \n",
       "44  2004-09-01T00:00:00  2004    09  \n",
       "45  2004-10-01T00:00:00  2004    10  \n",
       "46  2004-11-01T00:00:00  2004    11  \n",
       "47  2004-12-01T00:00:00  2004    12  \n",
       "48  2005-01-01T00:00:00  2005    01  \n",
       "49  2005-02-01T00:00:00  2005    02  "
      ]
     },
     "execution_count": 44,
     "metadata": {},
     "output_type": "execute_result"
    }
   ],
   "source": [
    "new_df6['Year']=new_df6['When'].str[0:4]\n",
    "new_df6['Month']=new_df6['When'].str[5:7]\n",
    "new_df6.head(50)"
   ]
  },
  {
   "cell_type": "markdown",
   "id": "6584fd48-c525-4ce3-9958-79b151c429e4",
   "metadata": {
    "jp-MarkdownHeadingCollapsed": true,
    "tags": []
   },
   "source": [
    "### Export Dataset"
   ]
  },
  {
   "cell_type": "code",
   "execution_count": 19,
   "id": "bcd41b1b-c304-4af5-8600-bb51b10b8a6c",
   "metadata": {
    "tags": []
   },
   "outputs": [],
   "source": [
    "new_df6.to_csv('Data-Visualization-and-Dashboards-with-Tableau/Clean_data/weekly_earnings.csv')"
   ]
  }
 ],
 "metadata": {
  "kernelspec": {
   "display_name": "Main_IDE",
   "language": "python",
   "name": "main_ide"
  },
  "language_info": {
   "codemirror_mode": {
    "name": "ipython",
    "version": 3
   },
   "file_extension": ".py",
   "mimetype": "text/x-python",
   "name": "python",
   "nbconvert_exporter": "python",
   "pygments_lexer": "ipython3",
   "version": "3.9.13"
  }
 },
 "nbformat": 4,
 "nbformat_minor": 5
}
